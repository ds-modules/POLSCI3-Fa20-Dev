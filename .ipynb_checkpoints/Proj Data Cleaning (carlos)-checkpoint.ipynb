{
 "cells": [
  {
   "cell_type": "code",
   "execution_count": null,
   "metadata": {},
   "outputs": [],
   "source": [
    "import pandas as pd\n",
    "import numpy as np\n",
    "import seaborn as sns \n",
    "import sklearn\n",
    "import matplotlib.pyplot as plt\n",
    "%matplotlib inline\n",
    "import warnings\n",
    "sns.set_palette(\"Blues_d\")\n",
    "\n",
    "from IPython.display import HTML\n",
    "\n",
    "# import the widgets module\n",
    "import ipywidgets as widgets\n",
    "from ipywidgets import interact, interactive, fixed, interact_manual\n",
    "\n",
    "warnings.filterwarnings(\"ignore\")\n",
    "sns.set(style=\"whitegrid\")"
   ]
  },
  {
   "cell_type": "markdown",
   "metadata": {},
   "source": [
    "# EDA"
   ]
  },
  {
   "cell_type": "code",
   "execution_count": null,
   "metadata": {},
   "outputs": [],
   "source": [
    "data = pd.read_csv('housemid.csv')"
   ]
  },
  {
   "cell_type": "code",
   "execution_count": null,
   "metadata": {},
   "outputs": [],
   "source": [
    "data.describe()"
   ]
  },
  {
   "cell_type": "code",
   "execution_count": null,
   "metadata": {},
   "outputs": [],
   "source": [
    "data.info()"
   ]
  },
  {
   "cell_type": "markdown",
   "metadata": {},
   "source": [
    "Here we use `df.info()` to get an idea of where null/nan values are found. There are 323 entries in this Dataframe.  \n",
    "\n",
    "\n",
    "Colums with null/nan values: `inc_religion`, `HouseR_2014`, `HouseR_2012`"
   ]
  },
  {
   "cell_type": "markdown",
   "metadata": {},
   "source": [
    "### inc_religion"
   ]
  },
  {
   "cell_type": "markdown",
   "metadata": {},
   "source": [
    "To deal with the missing religious values, we will use outside data to fill them in. "
   ]
  },
  {
   "cell_type": "code",
   "execution_count": null,
   "metadata": {},
   "outputs": [],
   "source": [
    "religion_by_district = pd.read_csv('')"
   ]
  },
  {
   "cell_type": "code",
   "execution_count": 33,
   "metadata": {},
   "outputs": [
    {
     "data": {
      "text/html": [
       "<div>\n",
       "<style scoped>\n",
       "    .dataframe tbody tr th:only-of-type {\n",
       "        vertical-align: middle;\n",
       "    }\n",
       "\n",
       "    .dataframe tbody tr th {\n",
       "        vertical-align: top;\n",
       "    }\n",
       "\n",
       "    .dataframe thead th {\n",
       "        text-align: right;\n",
       "    }\n",
       "</style>\n",
       "<table border=\"1\" class=\"dataframe\">\n",
       "  <thead>\n",
       "    <tr style=\"text-align: right;\">\n",
       "      <th></th>\n",
       "      <th>District</th>\n",
       "      <th>Dem2018</th>\n",
       "      <th>Rep2018</th>\n",
       "      <th>state</th>\n",
       "      <th>party</th>\n",
       "      <th>voteshare</th>\n",
       "      <th>TRUMP.SCORE</th>\n",
       "      <th>Inc_fname</th>\n",
       "      <th>Inc_lname</th>\n",
       "      <th>inc_year_elected</th>\n",
       "      <th>...</th>\n",
       "      <th>Black</th>\n",
       "      <th>Latino</th>\n",
       "      <th>Asian</th>\n",
       "      <th>Native</th>\n",
       "      <th>Other</th>\n",
       "      <th>BA</th>\n",
       "      <th>BA_WHite</th>\n",
       "      <th>Med_Income</th>\n",
       "      <th>Inc_F</th>\n",
       "      <th>Rep.forecast</th>\n",
       "    </tr>\n",
       "  </thead>\n",
       "  <tbody>\n",
       "    <tr>\n",
       "      <th>16</th>\n",
       "      <td>AZ-8</td>\n",
       "      <td>44.4</td>\n",
       "      <td>55.6</td>\n",
       "      <td>AZ</td>\n",
       "      <td>R</td>\n",
       "      <td>52.29</td>\n",
       "      <td>95.5</td>\n",
       "      <td>Debbie</td>\n",
       "      <td>Lesko</td>\n",
       "      <td>2018 Special</td>\n",
       "      <td>...</td>\n",
       "      <td>4.2</td>\n",
       "      <td>14.6</td>\n",
       "      <td>2.7</td>\n",
       "      <td>0.7</td>\n",
       "      <td>1.5</td>\n",
       "      <td>29.4</td>\n",
       "      <td>31.3</td>\n",
       "      <td>61754</td>\n",
       "      <td>1</td>\n",
       "      <td>52.29</td>\n",
       "    </tr>\n",
       "    <tr>\n",
       "      <th>235</th>\n",
       "      <td>OH-12</td>\n",
       "      <td>47.1</td>\n",
       "      <td>51.6</td>\n",
       "      <td>OH</td>\n",
       "      <td>R</td>\n",
       "      <td>49.83</td>\n",
       "      <td>100.0</td>\n",
       "      <td>Troy</td>\n",
       "      <td>Balderson</td>\n",
       "      <td>2018 Special</td>\n",
       "      <td>...</td>\n",
       "      <td>4.4</td>\n",
       "      <td>1.7</td>\n",
       "      <td>2.0</td>\n",
       "      <td>0.1</td>\n",
       "      <td>1.7</td>\n",
       "      <td>41.0</td>\n",
       "      <td>39.9</td>\n",
       "      <td>67415</td>\n",
       "      <td>0</td>\n",
       "      <td>49.83</td>\n",
       "    </tr>\n",
       "    <tr>\n",
       "      <th>284</th>\n",
       "      <td>TX-27</td>\n",
       "      <td>36.6</td>\n",
       "      <td>60.3</td>\n",
       "      <td>TX</td>\n",
       "      <td>R</td>\n",
       "      <td>61.70</td>\n",
       "      <td>100.0</td>\n",
       "      <td>Michael</td>\n",
       "      <td>Cloud</td>\n",
       "      <td>2018 Special</td>\n",
       "      <td>...</td>\n",
       "      <td>5.4</td>\n",
       "      <td>45.2</td>\n",
       "      <td>1.1</td>\n",
       "      <td>0.2</td>\n",
       "      <td>0.8</td>\n",
       "      <td>20.3</td>\n",
       "      <td>29.3</td>\n",
       "      <td>53047</td>\n",
       "      <td>0</td>\n",
       "      <td>61.70</td>\n",
       "    </tr>\n",
       "  </tbody>\n",
       "</table>\n",
       "<p>3 rows × 39 columns</p>\n",
       "</div>"
      ],
      "text/plain": [
       "    District  Dem2018  Rep2018 state party  voteshare  TRUMP.SCORE Inc_fname  \\\n",
       "16      AZ-8     44.4     55.6    AZ     R      52.29         95.5    Debbie   \n",
       "235    OH-12     47.1     51.6    OH     R      49.83        100.0      Troy   \n",
       "284    TX-27     36.6     60.3    TX     R      61.70        100.0   Michael   \n",
       "\n",
       "     Inc_lname inc_year_elected  ... Black Latino Asian Native Other    BA  \\\n",
       "16       Lesko     2018 Special  ...   4.2   14.6   2.7    0.7   1.5  29.4   \n",
       "235  Balderson     2018 Special  ...   4.4    1.7   2.0    0.1   1.7  41.0   \n",
       "284      Cloud     2018 Special  ...   5.4   45.2   1.1    0.2   0.8  20.3   \n",
       "\n",
       "     BA_WHite  Med_Income  Inc_F  Rep.forecast  \n",
       "16       31.3       61754      1         52.29  \n",
       "235      39.9       67415      0         49.83  \n",
       "284      29.3       53047      0         61.70  \n",
       "\n",
       "[3 rows x 39 columns]"
      ]
     },
     "execution_count": 33,
     "metadata": {},
     "output_type": "execute_result"
    }
   ],
   "source": [
    "data[data['inc_religion'].isnull() == True]"
   ]
  },
  {
   "cell_type": "code",
   "execution_count": 36,
   "metadata": {},
   "outputs": [
    {
     "data": {
      "text/plain": [
       "District                           OH-12\n",
       "Dem2018                             47.1\n",
       "Rep2018                             51.6\n",
       "state                                 OH\n",
       "party                                  R\n",
       "voteshare                          49.83\n",
       "TRUMP.SCORE                          100\n",
       "Inc_fname                           Troy\n",
       "Inc_lname                      Balderson\n",
       "inc_year_elected            2018 Special\n",
       "inc_birth                           1962\n",
       "inc_gender                           Man\n",
       "inc_race            White - Non-Hispanic\n",
       "inc_religion                         NaN\n",
       "inc_lgbtq                             No\n",
       "inc_2016status                Re-elected\n",
       "Clinton_2016                        41.9\n",
       "Trump_2016                          53.2\n",
       "Obama_2012                          43.9\n",
       "Romney_2012                         54.4\n",
       "Obama_2008                          44.8\n",
       "McCain_2008                         53.7\n",
       "HouseD_2016                         29.8\n",
       "HouseR_2016                         66.6\n",
       "HouseD_2014                         27.8\n",
       "HouseR_2014                         68.1\n",
       "HouseD_2012                         36.5\n",
       "HouseR_2012                         63.5\n",
       "White                               90.1\n",
       "Black                                4.4\n",
       "Latino                               1.7\n",
       "Asian                                  2\n",
       "Native                               0.1\n",
       "Other                                1.7\n",
       "BA                                    41\n",
       "BA_WHite                            39.9\n",
       "Med_Income                         67415\n",
       "Inc_F                                  0\n",
       "Rep.forecast                       49.83\n",
       "Name: 235, dtype: object"
      ]
     },
     "execution_count": 36,
     "metadata": {},
     "output_type": "execute_result"
    }
   ],
   "source": [
    "data.iloc[235]"
   ]
  },
  {
   "cell_type": "code",
   "execution_count": null,
   "metadata": {},
   "outputs": [],
   "source": []
  }
 ],
 "metadata": {
  "kernelspec": {
   "display_name": "Python 3",
   "language": "python",
   "name": "python3"
  },
  "language_info": {
   "codemirror_mode": {
    "name": "ipython",
    "version": 3
   },
   "file_extension": ".py",
   "mimetype": "text/x-python",
   "name": "python",
   "nbconvert_exporter": "python",
   "pygments_lexer": "ipython3",
   "version": "3.7.6"
  }
 },
 "nbformat": 4,
 "nbformat_minor": 4
}
