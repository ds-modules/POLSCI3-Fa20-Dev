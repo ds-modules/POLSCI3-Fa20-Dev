{
 "cells": [
  {
   "cell_type": "code",
   "execution_count": 2,
   "metadata": {},
   "outputs": [],
   "source": [
    "import numpy as np\n",
    "import pandas as pd\n",
    "import statsmodels.api as sm\n",
    "import statsmodels.formula.api as smf\n",
    "from scipy import stats\n",
    "from datascience import Table\n",
    "from datascience.predicates import are\n",
    "df = pd.read_stata('rd_analysis.dta').dropna(subset=['turnout_party_share'])\n",
    "extremist_df = df[['treat', 'turnout_party_share', 'low_info_turnout_party', 'high_info_turnout_party','low_info_turnout_opp_party','high_info_turnout_opp_party'  ]].dropna()\n",
    "extremist=Table.from_df(extremist_df)"
   ]
  },
  {
   "cell_type": "markdown",
   "metadata": {},
   "source": [
    "# statsmodels OLS introduction"
   ]
  },
  {
   "cell_type": "markdown",
   "metadata": {},
   "source": [
    "In this problem, we will be introducing statsmodels, a Python Module that will provide us with helpful functions that we will use to run linear regression on our data. Regression is useful because it allows us to predict unknown quantities from existing data. In this example, we know all the quantities of our data, but this may not always be the case! Let’s first practice using statsmodels on a toy data set. In the cell below, we will create a table with two columns. The first column will be numbers 1-20 and the second column will be the first column multiplied by 2. Run the cell below to create and view this table called `toy_data`."
   ]
  },
  {
   "cell_type": "code",
   "execution_count": 10,
   "metadata": {},
   "outputs": [
    {
     "data": {
      "text/html": [
       "<table border=\"1\" class=\"dataframe\">\n",
       "    <thead>\n",
       "        <tr>\n",
       "            <th>x</th> <th>y</th>\n",
       "        </tr>\n",
       "    </thead>\n",
       "    <tbody>\n",
       "        <tr>\n",
       "            <td>1   </td> <td>2   </td>\n",
       "        </tr>\n",
       "        <tr>\n",
       "            <td>2   </td> <td>4   </td>\n",
       "        </tr>\n",
       "        <tr>\n",
       "            <td>3   </td> <td>6   </td>\n",
       "        </tr>\n",
       "        <tr>\n",
       "            <td>4   </td> <td>8   </td>\n",
       "        </tr>\n",
       "        <tr>\n",
       "            <td>5   </td> <td>10  </td>\n",
       "        </tr>\n",
       "        <tr>\n",
       "            <td>6   </td> <td>12  </td>\n",
       "        </tr>\n",
       "        <tr>\n",
       "            <td>7   </td> <td>14  </td>\n",
       "        </tr>\n",
       "        <tr>\n",
       "            <td>8   </td> <td>16  </td>\n",
       "        </tr>\n",
       "        <tr>\n",
       "            <td>9   </td> <td>18  </td>\n",
       "        </tr>\n",
       "        <tr>\n",
       "            <td>10  </td> <td>20  </td>\n",
       "        </tr>\n",
       "    </tbody>\n",
       "</table>\n",
       "<p>... (10 rows omitted)</p>"
      ],
      "text/plain": [
       "x    | y\n",
       "1    | 2\n",
       "2    | 4\n",
       "3    | 6\n",
       "4    | 8\n",
       "5    | 10\n",
       "6    | 12\n",
       "7    | 14\n",
       "8    | 16\n",
       "9    | 18\n",
       "10   | 20\n",
       "... (10 rows omitted)"
      ]
     },
     "execution_count": 10,
     "metadata": {},
     "output_type": "execute_result"
    }
   ],
   "source": [
    "x=np.arange(1, 21)\n",
    "toy_data=Table.from_df(pd.DataFrame(data= {'x': x, 'y': x*2} ))  \n",
    "toy_data"
   ]
  },
  {
   "cell_type": "markdown",
   "metadata": {},
   "source": [
    "Now we will use statsmodels to find a linear model that will predict the 'y' column (the dependant variable) from the 'x' column (the independent variable) of the toy data set. In the first cell of this notebook, we imported the `statsmodels.formula.api` as `smf`. We will use Ordinarily Least Squares (ols) function provided by `smf` to define a linear regression model of our toy data set. \n",
    "\n",
    "`smf.ols` takes in two parameters:\n",
    "  -  'dependant variable ~ independant variable'\n",
    "  -  data set\n",
    "\n",
    "The function will find the coefficient to multiply the independent value by to find an estimate of the corresponding dependant value, an R-squared value that will tell us how accurate the model is, along with other useful information about the model. \n",
    "\n",
    "Run the cell below to fit the model.\n",
    "\n"
   ]
  },
  {
   "cell_type": "code",
   "execution_count": 11,
   "metadata": {},
   "outputs": [],
   "source": [
    "fit_model= smf.ols('y ~ x', toy_data).fit()"
   ]
  },
  {
   "cell_type": "markdown",
   "metadata": {},
   "source": [
    "Now that the model is fitted, we can run `.summary()` to view the OLS Regression Results."
   ]
  },
  {
   "cell_type": "code",
   "execution_count": 12,
   "metadata": {},
   "outputs": [
    {
     "data": {
      "text/html": [
       "<table class=\"simpletable\">\n",
       "<caption>OLS Regression Results</caption>\n",
       "<tr>\n",
       "  <th>Dep. Variable:</th>            <td>y</td>        <th>  R-squared:         </th> <td>   1.000</td> \n",
       "</tr>\n",
       "<tr>\n",
       "  <th>Model:</th>                   <td>OLS</td>       <th>  Adj. R-squared:    </th> <td>   1.000</td> \n",
       "</tr>\n",
       "<tr>\n",
       "  <th>Method:</th>             <td>Least Squares</td>  <th>  F-statistic:       </th> <td>1.045e+32</td>\n",
       "</tr>\n",
       "<tr>\n",
       "  <th>Date:</th>             <td>Tue, 17 Nov 2020</td> <th>  Prob (F-statistic):</th> <td>2.48e-278</td>\n",
       "</tr>\n",
       "<tr>\n",
       "  <th>Time:</th>                 <td>11:30:45</td>     <th>  Log-Likelihood:    </th> <td>  631.08</td> \n",
       "</tr>\n",
       "<tr>\n",
       "  <th>No. Observations:</th>      <td>    20</td>      <th>  AIC:               </th> <td>  -1258.</td> \n",
       "</tr>\n",
       "<tr>\n",
       "  <th>Df Residuals:</th>          <td>    18</td>      <th>  BIC:               </th> <td>  -1256.</td> \n",
       "</tr>\n",
       "<tr>\n",
       "  <th>Df Model:</th>              <td>     1</td>      <th>                     </th>     <td> </td>    \n",
       "</tr>\n",
       "<tr>\n",
       "  <th>Covariance Type:</th>      <td>nonrobust</td>    <th>                     </th>     <td> </td>    \n",
       "</tr>\n",
       "</table>\n",
       "<table class=\"simpletable\">\n",
       "<tr>\n",
       "      <td></td>         <th>coef</th>     <th>std err</th>      <th>t</th>      <th>P>|t|</th>  <th>[0.025</th>    <th>0.975]</th>  \n",
       "</tr>\n",
       "<tr>\n",
       "  <th>Intercept</th> <td> 7.994e-15</td> <td> 2.34e-15</td> <td>    3.410</td> <td> 0.003</td> <td> 3.07e-15</td> <td> 1.29e-14</td>\n",
       "</tr>\n",
       "<tr>\n",
       "  <th>x</th>         <td>    2.0000</td> <td> 1.96e-16</td> <td> 1.02e+16</td> <td> 0.000</td> <td>    2.000</td> <td>    2.000</td>\n",
       "</tr>\n",
       "</table>\n",
       "<table class=\"simpletable\">\n",
       "<tr>\n",
       "  <th>Omnibus:</th>       <td> 3.110</td> <th>  Durbin-Watson:     </th> <td>   0.093</td>\n",
       "</tr>\n",
       "<tr>\n",
       "  <th>Prob(Omnibus):</th> <td> 0.211</td> <th>  Jarque-Bera (JB):  </th> <td>   1.307</td>\n",
       "</tr>\n",
       "<tr>\n",
       "  <th>Skew:</th>          <td> 0.156</td> <th>  Prob(JB):          </th> <td>   0.520</td>\n",
       "</tr>\n",
       "<tr>\n",
       "  <th>Kurtosis:</th>      <td> 1.787</td> <th>  Cond. No.          </th> <td>    25.0</td>\n",
       "</tr>\n",
       "</table><br/><br/>Notes:<br/>[1] Standard Errors assume that the covariance matrix of the errors is correctly specified."
      ],
      "text/plain": [
       "<class 'statsmodels.iolib.summary.Summary'>\n",
       "\"\"\"\n",
       "                            OLS Regression Results                            \n",
       "==============================================================================\n",
       "Dep. Variable:                      y   R-squared:                       1.000\n",
       "Model:                            OLS   Adj. R-squared:                  1.000\n",
       "Method:                 Least Squares   F-statistic:                 1.045e+32\n",
       "Date:                Tue, 17 Nov 2020   Prob (F-statistic):          2.48e-278\n",
       "Time:                        11:30:45   Log-Likelihood:                 631.08\n",
       "No. Observations:                  20   AIC:                            -1258.\n",
       "Df Residuals:                      18   BIC:                            -1256.\n",
       "Df Model:                           1                                         \n",
       "Covariance Type:            nonrobust                                         \n",
       "==============================================================================\n",
       "                 coef    std err          t      P>|t|      [0.025      0.975]\n",
       "------------------------------------------------------------------------------\n",
       "Intercept   7.994e-15   2.34e-15      3.410      0.003    3.07e-15    1.29e-14\n",
       "x              2.0000   1.96e-16   1.02e+16      0.000       2.000       2.000\n",
       "==============================================================================\n",
       "Omnibus:                        3.110   Durbin-Watson:                   0.093\n",
       "Prob(Omnibus):                  0.211   Jarque-Bera (JB):                1.307\n",
       "Skew:                           0.156   Prob(JB):                        0.520\n",
       "Kurtosis:                       1.787   Cond. No.                         25.0\n",
       "==============================================================================\n",
       "\n",
       "Notes:\n",
       "[1] Standard Errors assume that the covariance matrix of the errors is correctly specified.\n",
       "\"\"\""
      ]
     },
     "execution_count": 12,
     "metadata": {},
     "output_type": "execute_result"
    }
   ],
   "source": [
    "fit_model.summary()"
   ]
  },
  {
   "cell_type": "markdown",
   "metadata": {},
   "source": [
    "Running `.summary()` yields a lot of information that may seem confusing. Let’s extract some of the useful information from the OLS regression results. \n",
    "\n",
    "First, let’s look at the parameter of x. This is the number that the model suggests the independent variable be multiplied by to obtain the dependant variable. We expect this parameter to be ~2 since the 'y' column is simply the 'x' column multiplied by 2. Run the cell below to see if the model’s parameter for 'x' matches our expectation. "
   ]
  },
  {
   "cell_type": "code",
   "execution_count": 13,
   "metadata": {},
   "outputs": [
    {
     "data": {
      "text/plain": [
       "1.9999999999999993"
      ]
     },
     "execution_count": 13,
     "metadata": {},
     "output_type": "execute_result"
    }
   ],
   "source": [
    "x_param=fit_model.params.x\n",
    "x_param"
   ]
  },
  {
   "cell_type": "markdown",
   "metadata": {},
   "source": [
    "Now we will check how the model's accuracy in predicting the 'y' value by adding a new column to the `toy_data` table called 'predicted'. This column will contain the models predicted 'y' which we will find by multiplying the 'x' column by the `x_param` parameter given by the model."
   ]
  },
  {
   "cell_type": "code",
   "execution_count": 14,
   "metadata": {},
   "outputs": [
    {
     "data": {
      "text/html": [
       "<table border=\"1\" class=\"dataframe\">\n",
       "    <thead>\n",
       "        <tr>\n",
       "            <th>x</th> <th>y</th> <th>predicted</th>\n",
       "        </tr>\n",
       "    </thead>\n",
       "    <tbody>\n",
       "        <tr>\n",
       "            <td>1   </td> <td>2   </td> <td>2        </td>\n",
       "        </tr>\n",
       "        <tr>\n",
       "            <td>2   </td> <td>4   </td> <td>4        </td>\n",
       "        </tr>\n",
       "        <tr>\n",
       "            <td>3   </td> <td>6   </td> <td>6        </td>\n",
       "        </tr>\n",
       "        <tr>\n",
       "            <td>4   </td> <td>8   </td> <td>8        </td>\n",
       "        </tr>\n",
       "        <tr>\n",
       "            <td>5   </td> <td>10  </td> <td>10       </td>\n",
       "        </tr>\n",
       "        <tr>\n",
       "            <td>6   </td> <td>12  </td> <td>12       </td>\n",
       "        </tr>\n",
       "        <tr>\n",
       "            <td>7   </td> <td>14  </td> <td>14       </td>\n",
       "        </tr>\n",
       "        <tr>\n",
       "            <td>8   </td> <td>16  </td> <td>16       </td>\n",
       "        </tr>\n",
       "        <tr>\n",
       "            <td>9   </td> <td>18  </td> <td>18       </td>\n",
       "        </tr>\n",
       "        <tr>\n",
       "            <td>10  </td> <td>20  </td> <td>20       </td>\n",
       "        </tr>\n",
       "    </tbody>\n",
       "</table>\n",
       "<p>... (10 rows omitted)</p>"
      ],
      "text/plain": [
       "x    | y    | predicted\n",
       "1    | 2    | 2\n",
       "2    | 4    | 4\n",
       "3    | 6    | 6\n",
       "4    | 8    | 8\n",
       "5    | 10   | 10\n",
       "6    | 12   | 12\n",
       "7    | 14   | 14\n",
       "8    | 16   | 16\n",
       "9    | 18   | 18\n",
       "10   | 20   | 20\n",
       "... (10 rows omitted)"
      ]
     },
     "execution_count": 14,
     "metadata": {},
     "output_type": "execute_result"
    }
   ],
   "source": [
    "toy_data.with_column('predicted', toy_data.column('x')* x_param)"
   ]
  },
  {
   "cell_type": "markdown",
   "metadata": {},
   "source": [
    "The model perfectly predicts the 'y' value! We will expect to see an R-Squared value of 1 to represent the perfect fit of the data. Run the cell below to view the R-Squared value our model calculated."
   ]
  },
  {
   "cell_type": "code",
   "execution_count": 15,
   "metadata": {},
   "outputs": [
    {
     "data": {
      "text/plain": [
       "1.0"
      ]
     },
     "execution_count": 15,
     "metadata": {},
     "output_type": "execute_result"
    }
   ],
   "source": [
    "fit_model.rsquared"
   ]
  },
  {
   "cell_type": "markdown",
   "metadata": {},
   "source": [
    "In the real world, it is unlikely to get such a perfect fit on data, but this way a good way to be introduced the the statsmodels library. You will now use statsmodels to find a linear model on some real world data regarding extremists candidates. "
   ]
  },
  {
   "cell_type": "markdown",
   "metadata": {},
   "source": [
    "# Problem 3: OLS with extremist data"
   ]
  },
  {
   "cell_type": "markdown",
   "metadata": {},
   "source": [
    "We will be working with the `extremist` table below. The `extremist` table has 6 columns: \n",
    "* `treat`: whether the extremist candidate won in the primary\n",
    "* `turnout_party_share`: share of the turnout for that party that voted for the extremist candidate\n",
    "* `low_info_turnout_party`: low info voter turnout for that party\n",
    "* `high_info_turnout_party`: high info voter turnout for that party\n",
    "* `low_info_turnout_opp_party`: low info voter turnout for the opposing party\n",
    "* `high_info_turnout_opp_party`: high info voter turnout for the opposing party\n",
    "\n",
    "Run the cell below to view the table."
   ]
  },
  {
   "cell_type": "code",
   "execution_count": 45,
   "metadata": {},
   "outputs": [
    {
     "data": {
      "text/html": [
       "<table border=\"1\" class=\"dataframe\">\n",
       "    <thead>\n",
       "        <tr>\n",
       "            <th>treat</th> <th>turnout_party_share</th> <th>low_info_turnout_party</th> <th>high_info_turnout_party</th> <th>low_info_turnout_opp_party</th> <th>high_info_turnout_opp_party</th>\n",
       "        </tr>\n",
       "    </thead>\n",
       "    <tbody>\n",
       "        <tr>\n",
       "            <td>0    </td> <td>0.529412           </td> <td>0.333333              </td> <td>0.866667               </td> <td>0.666667                  </td> <td>0.842105                   </td>\n",
       "        </tr>\n",
       "        <tr>\n",
       "            <td>0    </td> <td>0.352941           </td> <td>0.666667              </td> <td>0.842105               </td> <td>0.333333                  </td> <td>0.866667                   </td>\n",
       "        </tr>\n",
       "        <tr>\n",
       "            <td>0    </td> <td>0.585366           </td> <td>0.722222              </td> <td>0.767442               </td> <td>0.3                       </td> <td>0.8125                     </td>\n",
       "        </tr>\n",
       "        <tr>\n",
       "            <td>1    </td> <td>0.741935           </td> <td>0.75                  </td> <td>0.875                  </td> <td>0.285714                  </td> <td>1                          </td>\n",
       "        </tr>\n",
       "        <tr>\n",
       "            <td>0    </td> <td>0.792453           </td> <td>0.619048              </td> <td>0.896552               </td> <td>0.142857                  </td> <td>1                          </td>\n",
       "        </tr>\n",
       "        <tr>\n",
       "            <td>1    </td> <td>0.657534           </td> <td>0.6                   </td> <td>0.846154               </td> <td>0.235294                  </td> <td>0.714286                   </td>\n",
       "        </tr>\n",
       "        <tr>\n",
       "            <td>0    </td> <td>0.205479           </td> <td>0.235294              </td> <td>0.714286               </td> <td>0.6                       </td> <td>0.846154                   </td>\n",
       "        </tr>\n",
       "        <tr>\n",
       "            <td>1    </td> <td>0.630769           </td> <td>0.65                  </td> <td>0.757576               </td> <td>0.545455                  </td> <td>0.666667                   </td>\n",
       "        </tr>\n",
       "        <tr>\n",
       "            <td>0    </td> <td>0.632353           </td> <td>0.5                   </td> <td>0.815789               </td> <td>0.384615                  </td> <td>0.722222                   </td>\n",
       "        </tr>\n",
       "        <tr>\n",
       "            <td>1    </td> <td>0.581395           </td> <td>0.5                   </td> <td>0.714286               </td> <td>0.444444                  </td> <td>0.5                        </td>\n",
       "        </tr>\n",
       "    </tbody>\n",
       "</table>\n",
       "<p>... (352 rows omitted)</p>"
      ],
      "text/plain": [
       "treat | turnout_party_share | low_info_turnout_party | high_info_turnout_party | low_info_turnout_opp_party | high_info_turnout_opp_party\n",
       "0     | 0.529412            | 0.333333               | 0.866667                | 0.666667                   | 0.842105\n",
       "0     | 0.352941            | 0.666667               | 0.842105                | 0.333333                   | 0.866667\n",
       "0     | 0.585366            | 0.722222               | 0.767442                | 0.3                        | 0.8125\n",
       "1     | 0.741935            | 0.75                   | 0.875                   | 0.285714                   | 1\n",
       "0     | 0.792453            | 0.619048               | 0.896552                | 0.142857                   | 1\n",
       "1     | 0.657534            | 0.6                    | 0.846154                | 0.235294                   | 0.714286\n",
       "0     | 0.205479            | 0.235294               | 0.714286                | 0.6                        | 0.846154\n",
       "1     | 0.630769            | 0.65                   | 0.757576                | 0.545455                   | 0.666667\n",
       "0     | 0.632353            | 0.5                    | 0.815789                | 0.384615                   | 0.722222\n",
       "1     | 0.581395            | 0.5                    | 0.714286                | 0.444444                   | 0.5\n",
       "... (352 rows omitted)"
      ]
     },
     "execution_count": 45,
     "metadata": {},
     "output_type": "execute_result"
    }
   ],
   "source": [
    "extremist"
   ]
  },
  {
   "cell_type": "markdown",
   "metadata": {},
   "source": [
    "**Part 1: exploratory data analysis**\n",
    "\n",
    "First, let's do some exploratory data analysis to understand the data.  Run a difference of means test to determine whether there is a meaningful difference in the turn out of the party when the candidate wins versus when they don’t. \n",
    "\n",
    "In the cell below use the `extremist` table to assign `tps_won` to the `turnout_party_share` column for all candidates who won (`treat` value is 1) and `tps_lost` to the `turnout_party_share` column for all candidates who lost (`treat` value is 0). \n",
    "\n",
    "    (*hint: use `.where` and `.column`*)\n"
   ]
  },
  {
   "cell_type": "code",
   "execution_count": 27,
   "metadata": {},
   "outputs": [],
   "source": [
    "tps_won= ...\n",
    "tps_lost= ..."
   ]
  },
  {
   "cell_type": "markdown",
   "metadata": {},
   "source": [
    "Use the `stats.ttest_ind` function introduced in previous problem sets to find out if there is a difference in means between `tps_won` and `tps_lost`. \n",
    "\n",
    "    Reminder: `stats.ttest_ind` takes in two arrays and outputs the pvalue and test statistic."
   ]
  },
  {
   "cell_type": "code",
   "execution_count": 32,
   "metadata": {},
   "outputs": [
    {
     "ename": "TypeError",
     "evalue": "unsupported operand type(s) for /: 'ellipsis' and 'int'",
     "output_type": "error",
     "traceback": [
      "\u001b[1;31m---------------------------------------------------------------------------\u001b[0m",
      "\u001b[1;31mTypeError\u001b[0m                                 Traceback (most recent call last)",
      "\u001b[1;32m<ipython-input-32-3a7ba865664b>\u001b[0m in \u001b[0;36m<module>\u001b[1;34m\u001b[0m\n\u001b[1;32m----> 1\u001b[1;33m \u001b[0mstats\u001b[0m\u001b[1;33m.\u001b[0m\u001b[0mttest_ind\u001b[0m\u001b[1;33m(\u001b[0m\u001b[1;33m...\u001b[0m\u001b[1;33m,\u001b[0m \u001b[1;33m...\u001b[0m\u001b[1;33m)\u001b[0m\u001b[1;33m\u001b[0m\u001b[1;33m\u001b[0m\u001b[0m\n\u001b[0m",
      "\u001b[1;32mc:\\users\\5mika\\appdata\\local\\programs\\python\\python37\\lib\\site-packages\\scipy\\stats\\stats.py\u001b[0m in \u001b[0;36mttest_ind\u001b[1;34m(a, b, axis, equal_var, nan_policy)\u001b[0m\n\u001b[0;32m   5640\u001b[0m         \u001b[1;32mreturn\u001b[0m \u001b[0m_ttest_nans\u001b[0m\u001b[1;33m(\u001b[0m\u001b[0ma\u001b[0m\u001b[1;33m,\u001b[0m \u001b[0mb\u001b[0m\u001b[1;33m,\u001b[0m \u001b[0maxis\u001b[0m\u001b[1;33m,\u001b[0m \u001b[0mTtest_indResult\u001b[0m\u001b[1;33m)\u001b[0m\u001b[1;33m\u001b[0m\u001b[1;33m\u001b[0m\u001b[0m\n\u001b[0;32m   5641\u001b[0m \u001b[1;33m\u001b[0m\u001b[0m\n\u001b[1;32m-> 5642\u001b[1;33m     \u001b[0mv1\u001b[0m \u001b[1;33m=\u001b[0m \u001b[0mnp\u001b[0m\u001b[1;33m.\u001b[0m\u001b[0mvar\u001b[0m\u001b[1;33m(\u001b[0m\u001b[0ma\u001b[0m\u001b[1;33m,\u001b[0m \u001b[0maxis\u001b[0m\u001b[1;33m,\u001b[0m \u001b[0mddof\u001b[0m\u001b[1;33m=\u001b[0m\u001b[1;36m1\u001b[0m\u001b[1;33m)\u001b[0m\u001b[1;33m\u001b[0m\u001b[1;33m\u001b[0m\u001b[0m\n\u001b[0m\u001b[0;32m   5643\u001b[0m     \u001b[0mv2\u001b[0m \u001b[1;33m=\u001b[0m \u001b[0mnp\u001b[0m\u001b[1;33m.\u001b[0m\u001b[0mvar\u001b[0m\u001b[1;33m(\u001b[0m\u001b[0mb\u001b[0m\u001b[1;33m,\u001b[0m \u001b[0maxis\u001b[0m\u001b[1;33m,\u001b[0m \u001b[0mddof\u001b[0m\u001b[1;33m=\u001b[0m\u001b[1;36m1\u001b[0m\u001b[1;33m)\u001b[0m\u001b[1;33m\u001b[0m\u001b[1;33m\u001b[0m\u001b[0m\n\u001b[0;32m   5644\u001b[0m     \u001b[0mn1\u001b[0m \u001b[1;33m=\u001b[0m \u001b[0ma\u001b[0m\u001b[1;33m.\u001b[0m\u001b[0mshape\u001b[0m\u001b[1;33m[\u001b[0m\u001b[0maxis\u001b[0m\u001b[1;33m]\u001b[0m\u001b[1;33m\u001b[0m\u001b[1;33m\u001b[0m\u001b[0m\n",
      "\u001b[1;32m<__array_function__ internals>\u001b[0m in \u001b[0;36mvar\u001b[1;34m(*args, **kwargs)\u001b[0m\n",
      "\u001b[1;32mc:\\users\\5mika\\appdata\\local\\programs\\python\\python37\\lib\\site-packages\\numpy\\core\\fromnumeric.py\u001b[0m in \u001b[0;36mvar\u001b[1;34m(a, axis, dtype, out, ddof, keepdims)\u001b[0m\n\u001b[0;32m   3620\u001b[0m \u001b[1;33m\u001b[0m\u001b[0m\n\u001b[0;32m   3621\u001b[0m     return _methods._var(a, axis=axis, dtype=dtype, out=out, ddof=ddof,\n\u001b[1;32m-> 3622\u001b[1;33m                          **kwargs)\n\u001b[0m\u001b[0;32m   3623\u001b[0m \u001b[1;33m\u001b[0m\u001b[0m\n\u001b[0;32m   3624\u001b[0m \u001b[1;33m\u001b[0m\u001b[0m\n",
      "\u001b[1;32mc:\\users\\5mika\\appdata\\local\\programs\\python\\python37\\lib\\site-packages\\numpy\\core\\_methods.py\u001b[0m in \u001b[0;36m_var\u001b[1;34m(a, axis, dtype, out, ddof, keepdims)\u001b[0m\n\u001b[0;32m    193\u001b[0m     \u001b[1;32mif\u001b[0m \u001b[0misinstance\u001b[0m\u001b[1;33m(\u001b[0m\u001b[0marrmean\u001b[0m\u001b[1;33m,\u001b[0m \u001b[0mmu\u001b[0m\u001b[1;33m.\u001b[0m\u001b[0mndarray\u001b[0m\u001b[1;33m)\u001b[0m\u001b[1;33m:\u001b[0m\u001b[1;33m\u001b[0m\u001b[1;33m\u001b[0m\u001b[0m\n\u001b[0;32m    194\u001b[0m         arrmean = um.true_divide(\n\u001b[1;32m--> 195\u001b[1;33m                 arrmean, rcount, out=arrmean, casting='unsafe', subok=False)\n\u001b[0m\u001b[0;32m    196\u001b[0m     \u001b[1;32melse\u001b[0m\u001b[1;33m:\u001b[0m\u001b[1;33m\u001b[0m\u001b[1;33m\u001b[0m\u001b[0m\n\u001b[0;32m    197\u001b[0m         \u001b[0marrmean\u001b[0m \u001b[1;33m=\u001b[0m \u001b[0marrmean\u001b[0m\u001b[1;33m.\u001b[0m\u001b[0mdtype\u001b[0m\u001b[1;33m.\u001b[0m\u001b[0mtype\u001b[0m\u001b[1;33m(\u001b[0m\u001b[0marrmean\u001b[0m \u001b[1;33m/\u001b[0m \u001b[0mrcount\u001b[0m\u001b[1;33m)\u001b[0m\u001b[1;33m\u001b[0m\u001b[1;33m\u001b[0m\u001b[0m\n",
      "\u001b[1;31mTypeError\u001b[0m: unsupported operand type(s) for /: 'ellipsis' and 'int'"
     ]
    }
   ],
   "source": [
    "stats.ttest_ind(..., ...)"
   ]
  },
  {
   "cell_type": "markdown",
   "metadata": {},
   "source": [
    "Was the difference between the turnout_party_share of candidates who won and candidates who did not win? Was this what you were expecting? Explain why or why not. Write your answer in the cell below."
   ]
  },
  {
   "cell_type": "markdown",
   "metadata": {},
   "source": [
    "*Write Answer Here*"
   ]
  },
  {
   "cell_type": "markdown",
   "metadata": {},
   "source": [
    "It would also be interesting to explore whether there is a difference in means between the high information voters turnout and the low information voter turnout. Use the `high_info_turnout_party` and `low_info_turnout_party` columns to run a t-test in the cell below. \n",
    "\n",
    "    (*hint: use `.column`*)"
   ]
  },
  {
   "cell_type": "code",
   "execution_count": 19,
   "metadata": {},
   "outputs": [
    {
     "data": {
      "text/plain": [
       "Ttest_indResult(statistic=21.44504084901919, pvalue=2.5596814734025318e-79)"
      ]
     },
     "execution_count": 19,
     "metadata": {},
     "output_type": "execute_result"
    }
   ],
   "source": [
    "stats.ttest_ind(...,...)"
   ]
  },
  {
   "cell_type": "markdown",
   "metadata": {},
   "source": [
    "It would be interesting to compare these results to the high/low information voter turnout of the opposing party. Do this by running a t-test to find the difference in means between the high information voter turnout of the opposite party and the low information voter turnout in the opposite party. Use the `high_info_turnout_opp_party` and `low_info_turnout_opp_party` columns to run a t-test in the cell below."
   ]
  },
  {
   "cell_type": "code",
   "execution_count": 22,
   "metadata": {},
   "outputs": [
    {
     "data": {
      "text/plain": [
       "Ttest_indResult(statistic=21.65278779877982, pvalue=1.6689281582221342e-80)"
      ]
     },
     "execution_count": 22,
     "metadata": {},
     "output_type": "execute_result"
    }
   ],
   "source": [
    "stats.ttest_ind(...,...)"
   ]
  },
  {
   "cell_type": "markdown",
   "metadata": {},
   "source": [
    "Compare the results found by running the t-tests between the two parties’ high/low information voter turnout. Did you find the differences between high and low information voter turnout to be statistically significant? Write your answer in the cell below."
   ]
  },
  {
   "cell_type": "markdown",
   "metadata": {},
   "source": [
    "*Write answer here*"
   ]
  },
  {
   "cell_type": "markdown",
   "metadata": {},
   "source": [
    "**Part 2: OLS**"
   ]
  },
  {
   "cell_type": "markdown",
   "metadata": {},
   "source": [
    "Now that you have done some exploratory data analysis with the `extremist` data you should have a better understanding of the data on when is a good time to use OLS to run a linear regression and when running a linear regression model may not be useful. \n",
    "\n",
    "From your findings of the t-tests, is a good idea to run a linear regression model to predict `turnout_party_share` from `treat` (whether the candidate won or lost)? Do you expect the r-squared value to be low or high? Write your answer in the cell below."
   ]
  },
  {
   "cell_type": "markdown",
   "metadata": {},
   "source": [
    "*Write answer here*"
   ]
  },
  {
   "cell_type": "markdown",
   "metadata": {},
   "source": [
    "Use `smf.ols` as introduced earlier to run a linear regression model to predict `turnout_party_share` from `treat` to test whether your intuition was correct.\n",
    "\n",
    "All you have to do is correctly input the parameters for `smf.ols` in replacement of the elipses in the cell below. With the correct parameters, running the cell below should output the OLS regression results with `turnout_party_share` as the Dep. Variable."
   ]
  },
  {
   "cell_type": "code",
   "execution_count": 42,
   "metadata": {},
   "outputs": [
    {
     "ename": "TypeError",
     "evalue": "from_formula() missing 1 required positional argument: 'data'",
     "output_type": "error",
     "traceback": [
      "\u001b[1;31m---------------------------------------------------------------------------\u001b[0m",
      "\u001b[1;31mTypeError\u001b[0m                                 Traceback (most recent call last)",
      "\u001b[1;32m<ipython-input-42-61d5d8c34be6>\u001b[0m in \u001b[0;36m<module>\u001b[1;34m\u001b[0m\n\u001b[1;32m----> 1\u001b[1;33m \u001b[0mtps_model\u001b[0m \u001b[1;33m=\u001b[0m \u001b[0msmf\u001b[0m\u001b[1;33m.\u001b[0m\u001b[0mols\u001b[0m\u001b[1;33m(\u001b[0m\u001b[1;33m...\u001b[0m\u001b[1;33m)\u001b[0m\u001b[1;33m.\u001b[0m\u001b[0mfit\u001b[0m\u001b[1;33m(\u001b[0m\u001b[1;33m)\u001b[0m\u001b[1;33m\u001b[0m\u001b[1;33m\u001b[0m\u001b[0m\n\u001b[0m\u001b[0;32m      2\u001b[0m \u001b[0mtps_model\u001b[0m\u001b[1;33m.\u001b[0m\u001b[0msummary\u001b[0m\u001b[1;33m(\u001b[0m\u001b[1;33m)\u001b[0m\u001b[1;33m\u001b[0m\u001b[1;33m\u001b[0m\u001b[0m\n",
      "\u001b[1;31mTypeError\u001b[0m: from_formula() missing 1 required positional argument: 'data'"
     ]
    }
   ],
   "source": [
    "tps_model = smf.ols(...).fit()\n",
    "tps_model.summary()"
   ]
  },
  {
   "cell_type": "markdown",
   "metadata": {},
   "source": [
    "Run a linear regression model using `smf.ols`to predict the `high_info_turnout_party` from `low_info_turnout_party`. Assign the model to the variable info_model. Use `.summary()` to output the OLS regression results."
   ]
  },
  {
   "cell_type": "code",
   "execution_count": 40,
   "metadata": {},
   "outputs": [
    {
     "data": {
      "text/html": [
       "<table class=\"simpletable\">\n",
       "<caption>OLS Regression Results</caption>\n",
       "<tr>\n",
       "  <th>Dep. Variable:</th>    <td>high_info_turnout_party</td> <th>  R-squared:         </th> <td>   0.046</td>\n",
       "</tr>\n",
       "<tr>\n",
       "  <th>Model:</th>                      <td>OLS</td>           <th>  Adj. R-squared:    </th> <td>   0.043</td>\n",
       "</tr>\n",
       "<tr>\n",
       "  <th>Method:</th>                <td>Least Squares</td>      <th>  F-statistic:       </th> <td>   17.29</td>\n",
       "</tr>\n",
       "<tr>\n",
       "  <th>Date:</th>                <td>Tue, 17 Nov 2020</td>     <th>  Prob (F-statistic):</th> <td>4.01e-05</td>\n",
       "</tr>\n",
       "<tr>\n",
       "  <th>Time:</th>                    <td>15:56:54</td>         <th>  Log-Likelihood:    </th> <td>  251.09</td>\n",
       "</tr>\n",
       "<tr>\n",
       "  <th>No. Observations:</th>         <td>   362</td>          <th>  AIC:               </th> <td>  -498.2</td>\n",
       "</tr>\n",
       "<tr>\n",
       "  <th>Df Residuals:</th>             <td>   360</td>          <th>  BIC:               </th> <td>  -490.4</td>\n",
       "</tr>\n",
       "<tr>\n",
       "  <th>Df Model:</th>                 <td>     1</td>          <th>                     </th>     <td> </td>   \n",
       "</tr>\n",
       "<tr>\n",
       "  <th>Covariance Type:</th>         <td>nonrobust</td>        <th>                     </th>     <td> </td>   \n",
       "</tr>\n",
       "</table>\n",
       "<table class=\"simpletable\">\n",
       "<tr>\n",
       "             <td></td>               <th>coef</th>     <th>std err</th>      <th>t</th>      <th>P>|t|</th>  <th>[0.025</th>    <th>0.975]</th>  \n",
       "</tr>\n",
       "<tr>\n",
       "  <th>Intercept</th>              <td>    0.7490</td> <td>    0.023</td> <td>   32.744</td> <td> 0.000</td> <td>    0.704</td> <td>    0.794</td>\n",
       "</tr>\n",
       "<tr>\n",
       "  <th>low_info_turnout_party</th> <td>    0.1524</td> <td>    0.037</td> <td>    4.158</td> <td> 0.000</td> <td>    0.080</td> <td>    0.224</td>\n",
       "</tr>\n",
       "</table>\n",
       "<table class=\"simpletable\">\n",
       "<tr>\n",
       "  <th>Omnibus:</th>       <td>223.433</td> <th>  Durbin-Watson:     </th> <td>   1.925</td>\n",
       "</tr>\n",
       "<tr>\n",
       "  <th>Prob(Omnibus):</th> <td> 0.000</td>  <th>  Jarque-Bera (JB):  </th> <td>2538.413</td>\n",
       "</tr>\n",
       "<tr>\n",
       "  <th>Skew:</th>          <td>-2.407</td>  <th>  Prob(JB):          </th> <td>    0.00</td>\n",
       "</tr>\n",
       "<tr>\n",
       "  <th>Kurtosis:</th>      <td>15.046</td>  <th>  Cond. No.          </th> <td>    7.86</td>\n",
       "</tr>\n",
       "</table><br/><br/>Notes:<br/>[1] Standard Errors assume that the covariance matrix of the errors is correctly specified."
      ],
      "text/plain": [
       "<class 'statsmodels.iolib.summary.Summary'>\n",
       "\"\"\"\n",
       "                               OLS Regression Results                              \n",
       "===================================================================================\n",
       "Dep. Variable:     high_info_turnout_party   R-squared:                       0.046\n",
       "Model:                                 OLS   Adj. R-squared:                  0.043\n",
       "Method:                      Least Squares   F-statistic:                     17.29\n",
       "Date:                     Tue, 17 Nov 2020   Prob (F-statistic):           4.01e-05\n",
       "Time:                             15:56:54   Log-Likelihood:                 251.09\n",
       "No. Observations:                      362   AIC:                            -498.2\n",
       "Df Residuals:                          360   BIC:                            -490.4\n",
       "Df Model:                                1                                         \n",
       "Covariance Type:                 nonrobust                                         \n",
       "==========================================================================================\n",
       "                             coef    std err          t      P>|t|      [0.025      0.975]\n",
       "------------------------------------------------------------------------------------------\n",
       "Intercept                  0.7490      0.023     32.744      0.000       0.704       0.794\n",
       "low_info_turnout_party     0.1524      0.037      4.158      0.000       0.080       0.224\n",
       "==============================================================================\n",
       "Omnibus:                      223.433   Durbin-Watson:                   1.925\n",
       "Prob(Omnibus):                  0.000   Jarque-Bera (JB):             2538.413\n",
       "Skew:                          -2.407   Prob(JB):                         0.00\n",
       "Kurtosis:                      15.046   Cond. No.                         7.86\n",
       "==============================================================================\n",
       "\n",
       "Notes:\n",
       "[1] Standard Errors assume that the covariance matrix of the errors is correctly specified.\n",
       "\"\"\""
      ]
     },
     "execution_count": 40,
     "metadata": {},
     "output_type": "execute_result"
    }
   ],
   "source": [
    "info_model = ..."
   ]
  },
  {
   "cell_type": "markdown",
   "metadata": {},
   "source": [
    "Now run a linear regression model to predict `high_info_turnout_opp_party` from `low_info_turnout_opp_party`. Assign the model to the variable info_model. Use `.summary()` to output the OLS regression results."
   ]
  },
  {
   "cell_type": "code",
   "execution_count": 41,
   "metadata": {},
   "outputs": [
    {
     "data": {
      "text/html": [
       "<table class=\"simpletable\">\n",
       "<caption>OLS Regression Results</caption>\n",
       "<tr>\n",
       "  <th>Dep. Variable:</th>    <td>high_info_turnout_opp_party</td> <th>  R-squared:         </th> <td>   0.041</td>\n",
       "</tr>\n",
       "<tr>\n",
       "  <th>Model:</th>                        <td>OLS</td>             <th>  Adj. R-squared:    </th> <td>   0.039</td>\n",
       "</tr>\n",
       "<tr>\n",
       "  <th>Method:</th>                  <td>Least Squares</td>        <th>  F-statistic:       </th> <td>   15.53</td>\n",
       "</tr>\n",
       "<tr>\n",
       "  <th>Date:</th>                  <td>Tue, 17 Nov 2020</td>       <th>  Prob (F-statistic):</th> <td>9.74e-05</td>\n",
       "</tr>\n",
       "<tr>\n",
       "  <th>Time:</th>                      <td>15:56:55</td>           <th>  Log-Likelihood:    </th> <td>  229.97</td>\n",
       "</tr>\n",
       "<tr>\n",
       "  <th>No. Observations:</th>           <td>   362</td>            <th>  AIC:               </th> <td>  -455.9</td>\n",
       "</tr>\n",
       "<tr>\n",
       "  <th>Df Residuals:</th>               <td>   360</td>            <th>  BIC:               </th> <td>  -448.2</td>\n",
       "</tr>\n",
       "<tr>\n",
       "  <th>Df Model:</th>                   <td>     1</td>            <th>                     </th>     <td> </td>   \n",
       "</tr>\n",
       "<tr>\n",
       "  <th>Covariance Type:</th>           <td>nonrobust</td>          <th>                     </th>     <td> </td>   \n",
       "</tr>\n",
       "</table>\n",
       "<table class=\"simpletable\">\n",
       "<tr>\n",
       "               <td></td>                 <th>coef</th>     <th>std err</th>      <th>t</th>      <th>P>|t|</th>  <th>[0.025</th>    <th>0.975]</th>  \n",
       "</tr>\n",
       "<tr>\n",
       "  <th>Intercept</th>                  <td>    0.7571</td> <td>    0.020</td> <td>   37.840</td> <td> 0.000</td> <td>    0.718</td> <td>    0.796</td>\n",
       "</tr>\n",
       "<tr>\n",
       "  <th>low_info_turnout_opp_party</th> <td>    0.1329</td> <td>    0.034</td> <td>    3.941</td> <td> 0.000</td> <td>    0.067</td> <td>    0.199</td>\n",
       "</tr>\n",
       "</table>\n",
       "<table class=\"simpletable\">\n",
       "<tr>\n",
       "  <th>Omnibus:</th>       <td>191.499</td> <th>  Durbin-Watson:     </th> <td>   1.976</td>\n",
       "</tr>\n",
       "<tr>\n",
       "  <th>Prob(Omnibus):</th> <td> 0.000</td>  <th>  Jarque-Bera (JB):  </th> <td>1662.672</td>\n",
       "</tr>\n",
       "<tr>\n",
       "  <th>Skew:</th>          <td>-2.055</td>  <th>  Prob(JB):          </th> <td>    0.00</td>\n",
       "</tr>\n",
       "<tr>\n",
       "  <th>Kurtosis:</th>      <td>12.661</td>  <th>  Cond. No.          </th> <td>    6.60</td>\n",
       "</tr>\n",
       "</table><br/><br/>Notes:<br/>[1] Standard Errors assume that the covariance matrix of the errors is correctly specified."
      ],
      "text/plain": [
       "<class 'statsmodels.iolib.summary.Summary'>\n",
       "\"\"\"\n",
       "                                 OLS Regression Results                                \n",
       "=======================================================================================\n",
       "Dep. Variable:     high_info_turnout_opp_party   R-squared:                       0.041\n",
       "Model:                                     OLS   Adj. R-squared:                  0.039\n",
       "Method:                          Least Squares   F-statistic:                     15.53\n",
       "Date:                         Tue, 17 Nov 2020   Prob (F-statistic):           9.74e-05\n",
       "Time:                                 15:56:55   Log-Likelihood:                 229.97\n",
       "No. Observations:                          362   AIC:                            -455.9\n",
       "Df Residuals:                              360   BIC:                            -448.2\n",
       "Df Model:                                    1                                         \n",
       "Covariance Type:                     nonrobust                                         \n",
       "==============================================================================================\n",
       "                                 coef    std err          t      P>|t|      [0.025      0.975]\n",
       "----------------------------------------------------------------------------------------------\n",
       "Intercept                      0.7571      0.020     37.840      0.000       0.718       0.796\n",
       "low_info_turnout_opp_party     0.1329      0.034      3.941      0.000       0.067       0.199\n",
       "==============================================================================\n",
       "Omnibus:                      191.499   Durbin-Watson:                   1.976\n",
       "Prob(Omnibus):                  0.000   Jarque-Bera (JB):             1662.672\n",
       "Skew:                          -2.055   Prob(JB):                         0.00\n",
       "Kurtosis:                      12.661   Cond. No.                         6.60\n",
       "==============================================================================\n",
       "\n",
       "Notes:\n",
       "[1] Standard Errors assume that the covariance matrix of the errors is correctly specified.\n",
       "\"\"\""
      ]
     },
     "execution_count": 41,
     "metadata": {},
     "output_type": "execute_result"
    }
   ],
   "source": [
    "opp_model = ..."
   ]
  },
  {
   "cell_type": "markdown",
   "metadata": {},
   "source": [
    "What information can you deduce from the R-squared values of the `opp_model` and the `info_model`? Were the R-squared values similar or not between the two models? What other intresting features did you see in the OLS regression results? Do you think it is a good idea to run a linear regression between the high and low information voters? Write your answer in the cell below."
   ]
  },
  {
   "cell_type": "markdown",
   "metadata": {},
   "source": [
    "*Write answer here*"
   ]
  }
 ],
 "metadata": {
  "kernelspec": {
   "display_name": "Python 3",
   "language": "python",
   "name": "python3"
  },
  "language_info": {
   "codemirror_mode": {
    "name": "ipython",
    "version": 3
   },
   "file_extension": ".py",
   "mimetype": "text/x-python",
   "name": "python",
   "nbconvert_exporter": "python",
   "pygments_lexer": "ipython3",
   "version": "3.7.3"
  }
 },
 "nbformat": 4,
 "nbformat_minor": 4
}
