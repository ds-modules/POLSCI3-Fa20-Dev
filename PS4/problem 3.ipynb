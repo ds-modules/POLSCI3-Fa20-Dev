{
 "cells": [
  {
   "cell_type": "code",
   "execution_count": 217,
   "metadata": {},
   "outputs": [],
   "source": [
    "import numpy as np\n",
    "import pandas as pd\n",
    "import matplotlib.pyplot as plt\n",
    "import seaborn as sns\n",
    "import statsmodels.api as sm\n",
    "import statsmodels.formula.api as smf\n",
    "from scipy import stats\n",
    "from datascience import Table\n",
    "from datascience.predicates import are\n",
    "df = pd.read_stata('rd_analysis.dta').dropna(subset=['turnout_party_share'])"
   ]
  },
  {
   "cell_type": "code",
   "execution_count": 218,
   "metadata": {},
   "outputs": [],
   "source": [
    "extremist_df = df[['rv', 'treat', 'turnout_party_share', 'low_info_turnout_party', 'high_info_turnout_party','low_info_turnout_opp_party','high_info_turnout_opp_party'  ]].dropna()\n",
    "extremist=Table.from_df(extremist_df)"
   ]
  },
  {
   "cell_type": "markdown",
   "metadata": {},
   "source": [
    "**RUNNING T-TESTS**"
   ]
  },
  {
   "cell_type": "markdown",
   "metadata": {},
   "source": [
    "Use the `stats.ttest_ind` function to do a difference of means test for whether there is a meaningful difference in the turn out of the party when the candidate wins versus when they dont. "
   ]
  },
  {
   "cell_type": "code",
   "execution_count": 219,
   "metadata": {},
   "outputs": [
    {
     "data": {
      "text/plain": [
       "Ttest_indResult(statistic=-1.0256671245668916, pvalue=0.30573719284698475)"
      ]
     },
     "execution_count": 219,
     "metadata": {},
     "output_type": "execute_result"
    }
   ],
   "source": [
    "low_won_opp=extremist.where('treat', 1).column('low_info_turnout_opp_party')\n",
    "low_lose_opp=extremist.where('treat', 0).column('low_info_turnout_opp_party')\n",
    "stats.ttest_ind(low_lose_opp, low_won_opp)"
   ]
  },
  {
   "cell_type": "code",
   "execution_count": 220,
   "metadata": {},
   "outputs": [
    {
     "data": {
      "text/plain": [
       "Ttest_indResult(statistic=1.6139387807001697, pvalue=0.10741684526167859)"
      ]
     },
     "execution_count": 220,
     "metadata": {},
     "output_type": "execute_result"
    }
   ],
   "source": [
    "high_won_opp=extremist.where('treat', 1).column('high_info_turnout_opp_party')\n",
    "high_lose_opp=extremist.where('treat', 0).column('high_info_turnout_opp_party')\n",
    "stats.ttest_ind(high_won_opp, high_lose_opp)"
   ]
  },
  {
   "cell_type": "code",
   "execution_count": 221,
   "metadata": {},
   "outputs": [
    {
     "data": {
      "text/plain": [
       "Ttest_indResult(statistic=-0.16101698170341555, pvalue=0.8721703451934503)"
      ]
     },
     "execution_count": 221,
     "metadata": {},
     "output_type": "execute_result"
    }
   ],
   "source": [
    "high_won=extremist.where('treat', 1).column('high_info_turnout_party')\n",
    "high_lose=extremist.where('treat', 0).column('high_info_turnout_party')\n",
    "stats.ttest_ind(high_won, high_lose)"
   ]
  },
  {
   "cell_type": "code",
   "execution_count": 222,
   "metadata": {},
   "outputs": [
    {
     "data": {
      "text/plain": [
       "Ttest_indResult(statistic=-0.346446096980798, pvalue=0.7292098875508181)"
      ]
     },
     "execution_count": 222,
     "metadata": {},
     "output_type": "execute_result"
    }
   ],
   "source": [
    "low_won=extremist.where('treat', 1).column('low_info_turnout_party')\n",
    "low_lose=extremist.where('treat', 0).column('low_info_turnout_party')\n",
    "stats.ttest_ind(lowwon, lowlose)"
   ]
  },
  {
   "cell_type": "code",
   "execution_count": 223,
   "metadata": {},
   "outputs": [],
   "source": [
    "won=extremist.where('treat', 1).column('turnout_party_share')\n",
    "lost=extremist.where('treat', 0).column('turnout_party_share')"
   ]
  },
  {
   "cell_type": "code",
   "execution_count": 224,
   "metadata": {},
   "outputs": [
    {
     "data": {
      "text/plain": [
       "Ttest_indResult(statistic=1.5450154343694895, pvalue=0.12322110705731085)"
      ]
     },
     "execution_count": 224,
     "metadata": {},
     "output_type": "execute_result"
    }
   ],
   "source": [
    "t_test = stats.ttest_ind(lost, won)\n",
    "t_test"
   ]
  },
  {
   "cell_type": "markdown",
   "metadata": {},
   "source": [
    "**OLS EXAMPLE**"
   ]
  },
  {
   "cell_type": "markdown",
   "metadata": {},
   "source": [
    "In this problem, we will be introducing statsmodels, a Python Module that will provide us with helpful functions that we will use to run linear regression on our data. Regression is useful because it allows us to predict unknown quantities from existing data. In this example, we know all the quantities of our data but this may not always be the case! Let’s first practice using statsmodels on a toy data set. In the cell below, we will create a table with two columns. The first column will be numbers 1-10 and the second column will be the first column multiplied by 2. Run the cell below to create and view this table called `toy_data`."
   ]
  },
  {
   "cell_type": "code",
   "execution_count": 225,
   "metadata": {},
   "outputs": [
    {
     "data": {
      "text/html": [
       "<table border=\"1\" class=\"dataframe\">\n",
       "    <thead>\n",
       "        <tr>\n",
       "            <th>x</th> <th>y</th>\n",
       "        </tr>\n",
       "    </thead>\n",
       "    <tbody>\n",
       "        <tr>\n",
       "            <td>1   </td> <td>2   </td>\n",
       "        </tr>\n",
       "        <tr>\n",
       "            <td>2   </td> <td>4   </td>\n",
       "        </tr>\n",
       "        <tr>\n",
       "            <td>3   </td> <td>6   </td>\n",
       "        </tr>\n",
       "        <tr>\n",
       "            <td>4   </td> <td>8   </td>\n",
       "        </tr>\n",
       "        <tr>\n",
       "            <td>5   </td> <td>10  </td>\n",
       "        </tr>\n",
       "        <tr>\n",
       "            <td>6   </td> <td>12  </td>\n",
       "        </tr>\n",
       "        <tr>\n",
       "            <td>7   </td> <td>14  </td>\n",
       "        </tr>\n",
       "        <tr>\n",
       "            <td>8   </td> <td>16  </td>\n",
       "        </tr>\n",
       "        <tr>\n",
       "            <td>9   </td> <td>18  </td>\n",
       "        </tr>\n",
       "        <tr>\n",
       "            <td>10  </td> <td>20  </td>\n",
       "        </tr>\n",
       "    </tbody>\n",
       "</table>"
      ],
      "text/plain": [
       "x    | y\n",
       "1    | 2\n",
       "2    | 4\n",
       "3    | 6\n",
       "4    | 8\n",
       "5    | 10\n",
       "6    | 12\n",
       "7    | 14\n",
       "8    | 16\n",
       "9    | 18\n",
       "10   | 20"
      ]
     },
     "execution_count": 225,
     "metadata": {},
     "output_type": "execute_result"
    }
   ],
   "source": [
    "x=np.arange(1, 11)\n",
    "toy_data=Table.from_df(pd.DataFrame(data= {'x': x, 'y': x*2} ))  \n",
    "toy_data"
   ]
  },
  {
   "cell_type": "markdown",
   "metadata": {},
   "source": [
    "Now we will use statsmodels to find a linear model that will predict the 'y' column (the dependant variable) from the 'x' column (the independent variable) of the toy data set. In the first cell of this notebook, we imported the `statsmodels.formula.api` as `smf`. We will use Ordinarily Least Squares (ols) function provided by `smf` to define a linear regression model of our toy data set. \n",
    "\n",
    "`smf.ols` takes in two parameters:\n",
    "  -  'dependant variable ~ independant variable'\n",
    "  -  data set\n",
    "\n",
    "The function will find the coefficient to multiply the independent value by to find an estimate of the corresponding dependant value, an R-squared value that will tell us how accurate the model is, along with other useful information about the model. \n",
    "\n",
    "Run the cell below to fit the model.\n",
    "\n"
   ]
  },
  {
   "cell_type": "code",
   "execution_count": 226,
   "metadata": {},
   "outputs": [],
   "source": [
    "fit_model= smf.ols('y ~ x', toyds).fit()"
   ]
  },
  {
   "cell_type": "markdown",
   "metadata": {},
   "source": [
    "Now that the model is fitted, we can run `.summary()` to view the OLS Regression Results."
   ]
  },
  {
   "cell_type": "code",
   "execution_count": 227,
   "metadata": {},
   "outputs": [
    {
     "data": {
      "text/html": [
       "<table class=\"simpletable\">\n",
       "<caption>OLS Regression Results</caption>\n",
       "<tr>\n",
       "  <th>Dep. Variable:</th>            <td>y</td>        <th>  R-squared:         </th> <td>   1.000</td> \n",
       "</tr>\n",
       "<tr>\n",
       "  <th>Model:</th>                   <td>OLS</td>       <th>  Adj. R-squared:    </th> <td>   1.000</td> \n",
       "</tr>\n",
       "<tr>\n",
       "  <th>Method:</th>             <td>Least Squares</td>  <th>  F-statistic:       </th> <td>1.045e+32</td>\n",
       "</tr>\n",
       "<tr>\n",
       "  <th>Date:</th>             <td>Sat, 14 Nov 2020</td> <th>  Prob (F-statistic):</th> <td>2.48e-278</td>\n",
       "</tr>\n",
       "<tr>\n",
       "  <th>Time:</th>                 <td>13:31:27</td>     <th>  Log-Likelihood:    </th> <td>  631.08</td> \n",
       "</tr>\n",
       "<tr>\n",
       "  <th>No. Observations:</th>      <td>    20</td>      <th>  AIC:               </th> <td>  -1258.</td> \n",
       "</tr>\n",
       "<tr>\n",
       "  <th>Df Residuals:</th>          <td>    18</td>      <th>  BIC:               </th> <td>  -1256.</td> \n",
       "</tr>\n",
       "<tr>\n",
       "  <th>Df Model:</th>              <td>     1</td>      <th>                     </th>     <td> </td>    \n",
       "</tr>\n",
       "<tr>\n",
       "  <th>Covariance Type:</th>      <td>nonrobust</td>    <th>                     </th>     <td> </td>    \n",
       "</tr>\n",
       "</table>\n",
       "<table class=\"simpletable\">\n",
       "<tr>\n",
       "      <td></td>         <th>coef</th>     <th>std err</th>      <th>t</th>      <th>P>|t|</th>  <th>[0.025</th>    <th>0.975]</th>  \n",
       "</tr>\n",
       "<tr>\n",
       "  <th>Intercept</th> <td> 7.994e-15</td> <td> 2.34e-15</td> <td>    3.410</td> <td> 0.003</td> <td> 3.07e-15</td> <td> 1.29e-14</td>\n",
       "</tr>\n",
       "<tr>\n",
       "  <th>x</th>         <td>    2.0000</td> <td> 1.96e-16</td> <td> 1.02e+16</td> <td> 0.000</td> <td>    2.000</td> <td>    2.000</td>\n",
       "</tr>\n",
       "</table>\n",
       "<table class=\"simpletable\">\n",
       "<tr>\n",
       "  <th>Omnibus:</th>       <td> 3.110</td> <th>  Durbin-Watson:     </th> <td>   0.093</td>\n",
       "</tr>\n",
       "<tr>\n",
       "  <th>Prob(Omnibus):</th> <td> 0.211</td> <th>  Jarque-Bera (JB):  </th> <td>   1.307</td>\n",
       "</tr>\n",
       "<tr>\n",
       "  <th>Skew:</th>          <td> 0.156</td> <th>  Prob(JB):          </th> <td>   0.520</td>\n",
       "</tr>\n",
       "<tr>\n",
       "  <th>Kurtosis:</th>      <td> 1.787</td> <th>  Cond. No.          </th> <td>    25.0</td>\n",
       "</tr>\n",
       "</table><br/><br/>Notes:<br/>[1] Standard Errors assume that the covariance matrix of the errors is correctly specified."
      ],
      "text/plain": [
       "<class 'statsmodels.iolib.summary.Summary'>\n",
       "\"\"\"\n",
       "                            OLS Regression Results                            \n",
       "==============================================================================\n",
       "Dep. Variable:                      y   R-squared:                       1.000\n",
       "Model:                            OLS   Adj. R-squared:                  1.000\n",
       "Method:                 Least Squares   F-statistic:                 1.045e+32\n",
       "Date:                Sat, 14 Nov 2020   Prob (F-statistic):          2.48e-278\n",
       "Time:                        13:31:27   Log-Likelihood:                 631.08\n",
       "No. Observations:                  20   AIC:                            -1258.\n",
       "Df Residuals:                      18   BIC:                            -1256.\n",
       "Df Model:                           1                                         \n",
       "Covariance Type:            nonrobust                                         \n",
       "==============================================================================\n",
       "                 coef    std err          t      P>|t|      [0.025      0.975]\n",
       "------------------------------------------------------------------------------\n",
       "Intercept   7.994e-15   2.34e-15      3.410      0.003    3.07e-15    1.29e-14\n",
       "x              2.0000   1.96e-16   1.02e+16      0.000       2.000       2.000\n",
       "==============================================================================\n",
       "Omnibus:                        3.110   Durbin-Watson:                   0.093\n",
       "Prob(Omnibus):                  0.211   Jarque-Bera (JB):                1.307\n",
       "Skew:                           0.156   Prob(JB):                        0.520\n",
       "Kurtosis:                       1.787   Cond. No.                         25.0\n",
       "==============================================================================\n",
       "\n",
       "Notes:\n",
       "[1] Standard Errors assume that the covariance matrix of the errors is correctly specified.\n",
       "\"\"\""
      ]
     },
     "execution_count": 227,
     "metadata": {},
     "output_type": "execute_result"
    }
   ],
   "source": [
    "fit_model.summary()"
   ]
  },
  {
   "cell_type": "markdown",
   "metadata": {},
   "source": [
    "Running `.summary()` yields a lot of information that may seem confusing. Let’s extract some of the useful information from the OLS regression results. \n",
    "\n",
    "First, let’s look at the parameter of x. This is the number that the model suggests the independent variable be multiplied by to obtain the dependant variable. We expect this parameter to be ~2 since the 'y' column is simply the 'x' column multiplied by 2. Run the cell below to see if the model’s parameter for 'x' matches our expectation. "
   ]
  },
  {
   "cell_type": "code",
   "execution_count": 238,
   "metadata": {},
   "outputs": [
    {
     "data": {
      "text/plain": [
       "1.9999999999999993"
      ]
     },
     "execution_count": 238,
     "metadata": {},
     "output_type": "execute_result"
    }
   ],
   "source": [
    "x_param=fit_model.params.x\n",
    "x_param"
   ]
  },
  {
   "cell_type": "markdown",
   "metadata": {},
   "source": [
    "Now we will check how the model's accuracy in predicting the 'y' value by adding a new column to the `toy_data` table called 'predicted'. This column will contain the models predicted 'y' which we will find by multiplying the 'x' column by the `x_param` parameter given by the model."
   ]
  },
  {
   "cell_type": "code",
   "execution_count": 239,
   "metadata": {},
   "outputs": [
    {
     "data": {
      "text/html": [
       "<table border=\"1\" class=\"dataframe\">\n",
       "    <thead>\n",
       "        <tr>\n",
       "            <th>x</th> <th>y</th> <th>predicted</th>\n",
       "        </tr>\n",
       "    </thead>\n",
       "    <tbody>\n",
       "        <tr>\n",
       "            <td>1   </td> <td>2   </td> <td>2        </td>\n",
       "        </tr>\n",
       "        <tr>\n",
       "            <td>2   </td> <td>4   </td> <td>4        </td>\n",
       "        </tr>\n",
       "        <tr>\n",
       "            <td>3   </td> <td>6   </td> <td>6        </td>\n",
       "        </tr>\n",
       "        <tr>\n",
       "            <td>4   </td> <td>8   </td> <td>8        </td>\n",
       "        </tr>\n",
       "        <tr>\n",
       "            <td>5   </td> <td>10  </td> <td>10       </td>\n",
       "        </tr>\n",
       "        <tr>\n",
       "            <td>6   </td> <td>12  </td> <td>12       </td>\n",
       "        </tr>\n",
       "        <tr>\n",
       "            <td>7   </td> <td>14  </td> <td>14       </td>\n",
       "        </tr>\n",
       "        <tr>\n",
       "            <td>8   </td> <td>16  </td> <td>16       </td>\n",
       "        </tr>\n",
       "        <tr>\n",
       "            <td>9   </td> <td>18  </td> <td>18       </td>\n",
       "        </tr>\n",
       "        <tr>\n",
       "            <td>10  </td> <td>20  </td> <td>20       </td>\n",
       "        </tr>\n",
       "    </tbody>\n",
       "</table>"
      ],
      "text/plain": [
       "x    | y    | predicted\n",
       "1    | 2    | 2\n",
       "2    | 4    | 4\n",
       "3    | 6    | 6\n",
       "4    | 8    | 8\n",
       "5    | 10   | 10\n",
       "6    | 12   | 12\n",
       "7    | 14   | 14\n",
       "8    | 16   | 16\n",
       "9    | 18   | 18\n",
       "10   | 20   | 20"
      ]
     },
     "execution_count": 239,
     "metadata": {},
     "output_type": "execute_result"
    }
   ],
   "source": [
    "toy_data.with_column('predicted', toy_data.column('x')* x_param)"
   ]
  },
  {
   "cell_type": "markdown",
   "metadata": {},
   "source": [
    "The model perfectly predicts the 'y' value! We will expect to see an R-Squared value of 1 to represent the perfect fit of the data. Run the cell below to view the R-Squared value our model calculated."
   ]
  },
  {
   "cell_type": "code",
   "execution_count": 230,
   "metadata": {},
   "outputs": [
    {
     "data": {
      "text/plain": [
       "1.0"
      ]
     },
     "execution_count": 230,
     "metadata": {},
     "output_type": "execute_result"
    }
   ],
   "source": [
    "fit_model.rsquared"
   ]
  },
  {
   "cell_type": "markdown",
   "metadata": {},
   "source": [
    "In the real world, it is unlikely to get such a perfect fit on data, but this way a good way to be introduced the the statsmodels library. You will now use statsmodels to find a linear model on some real world data regarding extremists candidates. "
   ]
  },
  {
   "cell_type": "markdown",
   "metadata": {},
   "source": [
    "**OLS with extremist by treat**"
   ]
  },
  {
   "cell_type": "code",
   "execution_count": 231,
   "metadata": {},
   "outputs": [
    {
     "data": {
      "text/html": [
       "<table class=\"simpletable\">\n",
       "<caption>OLS Regression Results</caption>\n",
       "<tr>\n",
       "  <th>Dep. Variable:</th>    <td>turnout_party_share</td> <th>  R-squared:         </th> <td>   0.007</td>\n",
       "</tr>\n",
       "<tr>\n",
       "  <th>Model:</th>                    <td>OLS</td>         <th>  Adj. R-squared:    </th> <td>   0.004</td>\n",
       "</tr>\n",
       "<tr>\n",
       "  <th>Method:</th>              <td>Least Squares</td>    <th>  F-statistic:       </th> <td>   2.387</td>\n",
       "</tr>\n",
       "<tr>\n",
       "  <th>Date:</th>              <td>Sat, 14 Nov 2020</td>   <th>  Prob (F-statistic):</th>  <td> 0.123</td> \n",
       "</tr>\n",
       "<tr>\n",
       "  <th>Time:</th>                  <td>13:31:27</td>       <th>  Log-Likelihood:    </th> <td>  263.46</td>\n",
       "</tr>\n",
       "<tr>\n",
       "  <th>No. Observations:</th>       <td>   362</td>        <th>  AIC:               </th> <td>  -522.9</td>\n",
       "</tr>\n",
       "<tr>\n",
       "  <th>Df Residuals:</th>           <td>   360</td>        <th>  BIC:               </th> <td>  -515.1</td>\n",
       "</tr>\n",
       "<tr>\n",
       "  <th>Df Model:</th>               <td>     1</td>        <th>                     </th>     <td> </td>   \n",
       "</tr>\n",
       "<tr>\n",
       "  <th>Covariance Type:</th>       <td>nonrobust</td>      <th>                     </th>     <td> </td>   \n",
       "</tr>\n",
       "</table>\n",
       "<table class=\"simpletable\">\n",
       "<tr>\n",
       "      <td></td>         <th>coef</th>     <th>std err</th>      <th>t</th>      <th>P>|t|</th>  <th>[0.025</th>    <th>0.975]</th>  \n",
       "</tr>\n",
       "<tr>\n",
       "  <th>Intercept</th> <td>    0.5052</td> <td>    0.009</td> <td>   59.268</td> <td> 0.000</td> <td>    0.488</td> <td>    0.522</td>\n",
       "</tr>\n",
       "<tr>\n",
       "  <th>treat</th>     <td>   -0.0191</td> <td>    0.012</td> <td>   -1.545</td> <td> 0.123</td> <td>   -0.043</td> <td>    0.005</td>\n",
       "</tr>\n",
       "</table>\n",
       "<table class=\"simpletable\">\n",
       "<tr>\n",
       "  <th>Omnibus:</th>       <td> 2.287</td> <th>  Durbin-Watson:     </th> <td>   1.891</td>\n",
       "</tr>\n",
       "<tr>\n",
       "  <th>Prob(Omnibus):</th> <td> 0.319</td> <th>  Jarque-Bera (JB):  </th> <td>   2.263</td>\n",
       "</tr>\n",
       "<tr>\n",
       "  <th>Skew:</th>          <td> 0.193</td> <th>  Prob(JB):          </th> <td>   0.323</td>\n",
       "</tr>\n",
       "<tr>\n",
       "  <th>Kurtosis:</th>      <td> 2.959</td> <th>  Cond. No.          </th> <td>    2.57</td>\n",
       "</tr>\n",
       "</table><br/><br/>Notes:<br/>[1] Standard Errors assume that the covariance matrix of the errors is correctly specified."
      ],
      "text/plain": [
       "<class 'statsmodels.iolib.summary.Summary'>\n",
       "\"\"\"\n",
       "                             OLS Regression Results                            \n",
       "===============================================================================\n",
       "Dep. Variable:     turnout_party_share   R-squared:                       0.007\n",
       "Model:                             OLS   Adj. R-squared:                  0.004\n",
       "Method:                  Least Squares   F-statistic:                     2.387\n",
       "Date:                 Sat, 14 Nov 2020   Prob (F-statistic):              0.123\n",
       "Time:                         13:31:27   Log-Likelihood:                 263.46\n",
       "No. Observations:                  362   AIC:                            -522.9\n",
       "Df Residuals:                      360   BIC:                            -515.1\n",
       "Df Model:                            1                                         \n",
       "Covariance Type:             nonrobust                                         \n",
       "==============================================================================\n",
       "                 coef    std err          t      P>|t|      [0.025      0.975]\n",
       "------------------------------------------------------------------------------\n",
       "Intercept      0.5052      0.009     59.268      0.000       0.488       0.522\n",
       "treat         -0.0191      0.012     -1.545      0.123      -0.043       0.005\n",
       "==============================================================================\n",
       "Omnibus:                        2.287   Durbin-Watson:                   1.891\n",
       "Prob(Omnibus):                  0.319   Jarque-Bera (JB):                2.263\n",
       "Skew:                           0.193   Prob(JB):                        0.323\n",
       "Kurtosis:                       2.959   Cond. No.                         2.57\n",
       "==============================================================================\n",
       "\n",
       "Notes:\n",
       "[1] Standard Errors assume that the covariance matrix of the errors is correctly specified.\n",
       "\"\"\""
      ]
     },
     "execution_count": 231,
     "metadata": {},
     "output_type": "execute_result"
    }
   ],
   "source": [
    "model = smf.ols('turnout_party_share ~ treat', extr_const).fit()\n",
    "model.summary()"
   ]
  },
  {
   "cell_type": "code",
   "execution_count": 232,
   "metadata": {},
   "outputs": [
    {
     "data": {
      "text/html": [
       "<table class=\"simpletable\">\n",
       "<caption>OLS Regression Results</caption>\n",
       "<tr>\n",
       "  <th>Dep. Variable:</th>    <td>turnout_party_share</td> <th>  R-squared:         </th> <td>   0.007</td>\n",
       "</tr>\n",
       "<tr>\n",
       "  <th>Model:</th>                    <td>OLS</td>         <th>  Adj. R-squared:    </th> <td>   0.004</td>\n",
       "</tr>\n",
       "<tr>\n",
       "  <th>Method:</th>              <td>Least Squares</td>    <th>  F-statistic:       </th> <td>   2.387</td>\n",
       "</tr>\n",
       "<tr>\n",
       "  <th>Date:</th>              <td>Sat, 14 Nov 2020</td>   <th>  Prob (F-statistic):</th>  <td> 0.123</td> \n",
       "</tr>\n",
       "<tr>\n",
       "  <th>Time:</th>                  <td>13:31:27</td>       <th>  Log-Likelihood:    </th> <td>  263.46</td>\n",
       "</tr>\n",
       "<tr>\n",
       "  <th>No. Observations:</th>       <td>   362</td>        <th>  AIC:               </th> <td>  -522.9</td>\n",
       "</tr>\n",
       "<tr>\n",
       "  <th>Df Residuals:</th>           <td>   360</td>        <th>  BIC:               </th> <td>  -515.1</td>\n",
       "</tr>\n",
       "<tr>\n",
       "  <th>Df Model:</th>               <td>     1</td>        <th>                     </th>     <td> </td>   \n",
       "</tr>\n",
       "<tr>\n",
       "  <th>Covariance Type:</th>       <td>nonrobust</td>      <th>                     </th>     <td> </td>   \n",
       "</tr>\n",
       "</table>\n",
       "<table class=\"simpletable\">\n",
       "<tr>\n",
       "    <td></td>       <th>coef</th>     <th>std err</th>      <th>t</th>      <th>P>|t|</th>  <th>[0.025</th>    <th>0.975]</th>  \n",
       "</tr>\n",
       "<tr>\n",
       "  <th>const</th> <td>    0.5052</td> <td>    0.009</td> <td>   59.268</td> <td> 0.000</td> <td>    0.488</td> <td>    0.522</td>\n",
       "</tr>\n",
       "<tr>\n",
       "  <th>treat</th> <td>   -0.0191</td> <td>    0.012</td> <td>   -1.545</td> <td> 0.123</td> <td>   -0.043</td> <td>    0.005</td>\n",
       "</tr>\n",
       "</table>\n",
       "<table class=\"simpletable\">\n",
       "<tr>\n",
       "  <th>Omnibus:</th>       <td> 2.287</td> <th>  Durbin-Watson:     </th> <td>   1.891</td>\n",
       "</tr>\n",
       "<tr>\n",
       "  <th>Prob(Omnibus):</th> <td> 0.319</td> <th>  Jarque-Bera (JB):  </th> <td>   2.263</td>\n",
       "</tr>\n",
       "<tr>\n",
       "  <th>Skew:</th>          <td> 0.193</td> <th>  Prob(JB):          </th> <td>   0.323</td>\n",
       "</tr>\n",
       "<tr>\n",
       "  <th>Kurtosis:</th>      <td> 2.959</td> <th>  Cond. No.          </th> <td>    2.57</td>\n",
       "</tr>\n",
       "</table><br/><br/>Notes:<br/>[1] Standard Errors assume that the covariance matrix of the errors is correctly specified."
      ],
      "text/plain": [
       "<class 'statsmodels.iolib.summary.Summary'>\n",
       "\"\"\"\n",
       "                             OLS Regression Results                            \n",
       "===============================================================================\n",
       "Dep. Variable:     turnout_party_share   R-squared:                       0.007\n",
       "Model:                             OLS   Adj. R-squared:                  0.004\n",
       "Method:                  Least Squares   F-statistic:                     2.387\n",
       "Date:                 Sat, 14 Nov 2020   Prob (F-statistic):              0.123\n",
       "Time:                         13:31:27   Log-Likelihood:                 263.46\n",
       "No. Observations:                  362   AIC:                            -522.9\n",
       "Df Residuals:                      360   BIC:                            -515.1\n",
       "Df Model:                            1                                         \n",
       "Covariance Type:             nonrobust                                         \n",
       "==============================================================================\n",
       "                 coef    std err          t      P>|t|      [0.025      0.975]\n",
       "------------------------------------------------------------------------------\n",
       "const          0.5052      0.009     59.268      0.000       0.488       0.522\n",
       "treat         -0.0191      0.012     -1.545      0.123      -0.043       0.005\n",
       "==============================================================================\n",
       "Omnibus:                        2.287   Durbin-Watson:                   1.891\n",
       "Prob(Omnibus):                  0.319   Jarque-Bera (JB):                2.263\n",
       "Skew:                           0.193   Prob(JB):                        0.323\n",
       "Kurtosis:                       2.959   Cond. No.                         2.57\n",
       "==============================================================================\n",
       "\n",
       "Notes:\n",
       "[1] Standard Errors assume that the covariance matrix of the errors is correctly specified.\n",
       "\"\"\""
      ]
     },
     "execution_count": 232,
     "metadata": {},
     "output_type": "execute_result"
    }
   ],
   "source": [
    "X= sm.add_constant(extremist_df['treat'])\n",
    "y= extremist_df['turnout_party_share']\n",
    "lm = sm.OLS(y, X).fit()\n",
    "lm.summary()"
   ]
  },
  {
   "cell_type": "code",
   "execution_count": 233,
   "metadata": {},
   "outputs": [
    {
     "data": {
      "text/html": [
       "<table class=\"simpletable\">\n",
       "<caption>OLS Regression Results</caption>\n",
       "<tr>\n",
       "  <th>Dep. Variable:</th>          <td>treat</td>      <th>  R-squared:         </th> <td>   0.645</td>\n",
       "</tr>\n",
       "<tr>\n",
       "  <th>Model:</th>                   <td>OLS</td>       <th>  Adj. R-squared:    </th> <td>   0.639</td>\n",
       "</tr>\n",
       "<tr>\n",
       "  <th>Method:</th>             <td>Least Squares</td>  <th>  F-statistic:       </th> <td>   107.5</td>\n",
       "</tr>\n",
       "<tr>\n",
       "  <th>Date:</th>             <td>Sat, 14 Nov 2020</td> <th>  Prob (F-statistic):</th> <td>1.03e-76</td>\n",
       "</tr>\n",
       "<tr>\n",
       "  <th>Time:</th>                 <td>13:31:27</td>     <th>  Log-Likelihood:    </th> <td> -74.983</td>\n",
       "</tr>\n",
       "<tr>\n",
       "  <th>No. Observations:</th>      <td>   362</td>      <th>  AIC:               </th> <td>   164.0</td>\n",
       "</tr>\n",
       "<tr>\n",
       "  <th>Df Residuals:</th>          <td>   355</td>      <th>  BIC:               </th> <td>   191.2</td>\n",
       "</tr>\n",
       "<tr>\n",
       "  <th>Df Model:</th>              <td>     6</td>      <th>                     </th>     <td> </td>   \n",
       "</tr>\n",
       "<tr>\n",
       "  <th>Covariance Type:</th>      <td>nonrobust</td>    <th>                     </th>     <td> </td>   \n",
       "</tr>\n",
       "</table>\n",
       "<table class=\"simpletable\">\n",
       "<tr>\n",
       "               <td></td>                  <th>coef</th>     <th>std err</th>      <th>t</th>      <th>P>|t|</th>  <th>[0.025</th>    <th>0.975]</th>  \n",
       "</tr>\n",
       "<tr>\n",
       "  <th>const</th>                       <td>    0.6038</td> <td>    0.155</td> <td>    3.894</td> <td> 0.000</td> <td>    0.299</td> <td>    0.909</td>\n",
       "</tr>\n",
       "<tr>\n",
       "  <th>rv</th>                          <td>    2.5013</td> <td>    0.100</td> <td>   25.117</td> <td> 0.000</td> <td>    2.305</td> <td>    2.697</td>\n",
       "</tr>\n",
       "<tr>\n",
       "  <th>turnout_party_share</th>         <td>   -0.1009</td> <td>    0.144</td> <td>   -0.701</td> <td> 0.484</td> <td>   -0.384</td> <td>    0.182</td>\n",
       "</tr>\n",
       "<tr>\n",
       "  <th>low_info_turnout_party</th>      <td>   -0.1292</td> <td>    0.096</td> <td>   -1.348</td> <td> 0.179</td> <td>   -0.318</td> <td>    0.059</td>\n",
       "</tr>\n",
       "<tr>\n",
       "  <th>high_info_turnout_party</th>     <td>   -0.1594</td> <td>    0.140</td> <td>   -1.139</td> <td> 0.256</td> <td>   -0.435</td> <td>    0.116</td>\n",
       "</tr>\n",
       "<tr>\n",
       "  <th>low_info_turnout_opp_party</th>  <td>    0.0078</td> <td>    0.086</td> <td>    0.091</td> <td> 0.927</td> <td>   -0.161</td> <td>    0.176</td>\n",
       "</tr>\n",
       "<tr>\n",
       "  <th>high_info_turnout_opp_party</th> <td>    0.1982</td> <td>    0.133</td> <td>    1.486</td> <td> 0.138</td> <td>   -0.064</td> <td>    0.460</td>\n",
       "</tr>\n",
       "</table>\n",
       "<table class=\"simpletable\">\n",
       "<tr>\n",
       "  <th>Omnibus:</th>       <td>250.084</td> <th>  Durbin-Watson:     </th> <td>   2.085</td>\n",
       "</tr>\n",
       "<tr>\n",
       "  <th>Prob(Omnibus):</th> <td> 0.000</td>  <th>  Jarque-Bera (JB):  </th> <td>  22.717</td>\n",
       "</tr>\n",
       "<tr>\n",
       "  <th>Skew:</th>          <td>-0.019</td>  <th>  Prob(JB):          </th> <td>1.17e-05</td>\n",
       "</tr>\n",
       "<tr>\n",
       "  <th>Kurtosis:</th>      <td> 1.773</td>  <th>  Cond. No.          </th> <td>    22.9</td>\n",
       "</tr>\n",
       "</table><br/><br/>Notes:<br/>[1] Standard Errors assume that the covariance matrix of the errors is correctly specified."
      ],
      "text/plain": [
       "<class 'statsmodels.iolib.summary.Summary'>\n",
       "\"\"\"\n",
       "                            OLS Regression Results                            \n",
       "==============================================================================\n",
       "Dep. Variable:                  treat   R-squared:                       0.645\n",
       "Model:                            OLS   Adj. R-squared:                  0.639\n",
       "Method:                 Least Squares   F-statistic:                     107.5\n",
       "Date:                Sat, 14 Nov 2020   Prob (F-statistic):           1.03e-76\n",
       "Time:                        13:31:27   Log-Likelihood:                -74.983\n",
       "No. Observations:                 362   AIC:                             164.0\n",
       "Df Residuals:                     355   BIC:                             191.2\n",
       "Df Model:                           6                                         \n",
       "Covariance Type:            nonrobust                                         \n",
       "===============================================================================================\n",
       "                                  coef    std err          t      P>|t|      [0.025      0.975]\n",
       "-----------------------------------------------------------------------------------------------\n",
       "const                           0.6038      0.155      3.894      0.000       0.299       0.909\n",
       "rv                              2.5013      0.100     25.117      0.000       2.305       2.697\n",
       "turnout_party_share            -0.1009      0.144     -0.701      0.484      -0.384       0.182\n",
       "low_info_turnout_party         -0.1292      0.096     -1.348      0.179      -0.318       0.059\n",
       "high_info_turnout_party        -0.1594      0.140     -1.139      0.256      -0.435       0.116\n",
       "low_info_turnout_opp_party      0.0078      0.086      0.091      0.927      -0.161       0.176\n",
       "high_info_turnout_opp_party     0.1982      0.133      1.486      0.138      -0.064       0.460\n",
       "==============================================================================\n",
       "Omnibus:                      250.084   Durbin-Watson:                   2.085\n",
       "Prob(Omnibus):                  0.000   Jarque-Bera (JB):               22.717\n",
       "Skew:                          -0.019   Prob(JB):                     1.17e-05\n",
       "Kurtosis:                       1.773   Cond. No.                         22.9\n",
       "==============================================================================\n",
       "\n",
       "Notes:\n",
       "[1] Standard Errors assume that the covariance matrix of the errors is correctly specified.\n",
       "\"\"\""
      ]
     },
     "execution_count": 233,
     "metadata": {},
     "output_type": "execute_result"
    }
   ],
   "source": [
    "X_var = sm.add_constant(extremist_df.drop(['treat'], axis= 1))\n",
    "y_var= extremist_df[['treat']]\n",
    "linearmodel = sm.OLS(y_var, X_var).fit()\n",
    "linearmodel.summary()"
   ]
  },
  {
   "cell_type": "code",
   "execution_count": 234,
   "metadata": {},
   "outputs": [
    {
     "name": "stderr",
     "output_type": "stream",
     "text": [
      "c:\\users\\5mika\\appdata\\local\\programs\\python\\python37\\lib\\site-packages\\seaborn\\_decorators.py:43: FutureWarning: Pass the following variables as keyword args: x, y. From version 0.12, the only valid positional argument will be `data`, and passing other arguments without an explicit keyword will result in an error or misinterpretation.\n",
      "  FutureWarning\n"
     ]
    },
    {
     "data": {
      "text/plain": [
       "<seaborn.axisgrid.FacetGrid at 0x2b7a66a0438>"
      ]
     },
     "execution_count": 234,
     "metadata": {},
     "output_type": "execute_result"
    }
   ],
   "source": [
    "sns.lmplot('rv', 'turnout_party_share', data=df, col='treat')"
   ]
  },
  {
   "cell_type": "code",
   "execution_count": 235,
   "metadata": {},
   "outputs": [
    {
     "data": {
      "text/plain": [
       "<AxesSubplot:title={'center':'treat = 1.0'}, xlabel='rv'>"
      ]
     },
     "execution_count": 235,
     "metadata": {},
     "output_type": "execute_result"
    }
   ],
   "source": [
    "df['low_info_turnout_party'].hist()\n",
    "df['high_info_turnout_party'].hist()"
   ]
  },
  {
   "cell_type": "code",
   "execution_count": 236,
   "metadata": {},
   "outputs": [
    {
     "data": {
      "text/plain": [
       "<matplotlib.legend.Legend at 0x2b7a6833d68>"
      ]
     },
     "execution_count": 236,
     "metadata": {},
     "output_type": "execute_result"
    }
   ],
   "source": [
    "df['low_info_turnout_opp_party'].hist(label='low')\n",
    "df['high_info_turnout_opp_party'].hist()\n",
    "plt.legend()"
   ]
  }
 ],
 "metadata": {
  "kernelspec": {
   "display_name": "Python 3",
   "language": "python",
   "name": "python3"
  },
  "language_info": {
   "codemirror_mode": {
    "name": "ipython",
    "version": 3
   },
   "file_extension": ".py",
   "mimetype": "text/x-python",
   "name": "python",
   "nbconvert_exporter": "python",
   "pygments_lexer": "ipython3",
   "version": "3.7.3"
  }
 },
 "nbformat": 4,
 "nbformat_minor": 4
}
