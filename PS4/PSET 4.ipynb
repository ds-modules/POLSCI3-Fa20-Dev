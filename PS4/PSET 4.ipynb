{
 "cells": [
  {
   "cell_type": "code",
   "execution_count": 4,
   "metadata": {},
   "outputs": [],
   "source": [
    "\n",
    "import pandas as pd\n",
    "import matplotlib.pyplot as plt\n",
    "import seaborn as sns\n",
    "import statsmodels.api as sm\n",
    "from scipy import stats\n",
    "from datascience import Table\n",
    "from datascience.predicates import are\n",
    "df = pd.read_stata('rd_analysis.dta').dropna(subset=['turnout_party_share'])"
   ]
  },
  {
   "cell_type": "code",
   "execution_count": 33,
   "metadata": {},
   "outputs": [],
   "source": [
    "extremist=Table.from_df(df[['rv', 'treat', 'turnout_party_share', 'low_info_turnout_party', 'high_info_turnout_party','low_info_turnout_opp_party','high_info_turnout_opp_party'  ]].dropna())"
   ]
  },
  {
   "cell_type": "markdown",
   "metadata": {},
   "source": [
    "Use the `stats.ttest_ind` function to do a difference of means test for whether there is a meaningful difference in the turn out of the party when the candidate wins versus when they dont. "
   ]
  },
  {
   "cell_type": "code",
   "execution_count": 34,
   "metadata": {},
   "outputs": [
    {
     "data": {
      "text/plain": [
       "Ttest_indResult(statistic=-1.0256671245668916, pvalue=0.30573719284698475)"
      ]
     },
     "execution_count": 34,
     "metadata": {},
     "output_type": "execute_result"
    }
   ],
   "source": [
    "low_won_opp=extremist.where('treat', 1).column('low_info_turnout_opp_party')\n",
    "low_lose_opp=extremist.where('treat', 0).column('low_info_turnout_opp_party')\n",
    "stats.ttest_ind(low_lose_opp, low_won_opp)"
   ]
  },
  {
   "cell_type": "code",
   "execution_count": 35,
   "metadata": {},
   "outputs": [
    {
     "data": {
      "text/plain": [
       "Ttest_indResult(statistic=1.6139387807001697, pvalue=0.10741684526167859)"
      ]
     },
     "execution_count": 35,
     "metadata": {},
     "output_type": "execute_result"
    }
   ],
   "source": [
    "high_won_opp=extremist.where('treat', 1).column('high_info_turnout_opp_party')\n",
    "high_lose_opp=extremist.where('treat', 0).column('high_info_turnout_opp_party')\n",
    "stats.ttest_ind(high_won_opp, high_lose_opp)"
   ]
  },
  {
   "cell_type": "code",
   "execution_count": 36,
   "metadata": {},
   "outputs": [
    {
     "data": {
      "text/plain": [
       "Ttest_indResult(statistic=-0.16101698170341555, pvalue=0.8721703451934503)"
      ]
     },
     "execution_count": 36,
     "metadata": {},
     "output_type": "execute_result"
    }
   ],
   "source": [
    "high_won=extremist.where('treat', 1).column('high_info_turnout_party')\n",
    "high_lose=extremist.where('treat', 0).column('high_info_turnout_party')\n",
    "stats.ttest_ind(high_won, high_lose)"
   ]
  },
  {
   "cell_type": "code",
   "execution_count": 37,
   "metadata": {},
   "outputs": [
    {
     "data": {
      "text/plain": [
       "Ttest_indResult(statistic=-0.346446096980798, pvalue=0.7292098875508181)"
      ]
     },
     "execution_count": 37,
     "metadata": {},
     "output_type": "execute_result"
    }
   ],
   "source": [
    "low_won=extremist.where('treat', 1).column('low_info_turnout_party')\n",
    "low_lose=extremist.where('treat', 0).column('low_info_turnout_party')\n",
    "stats.ttest_ind(lowwon, lowlose)"
   ]
  },
  {
   "cell_type": "code",
   "execution_count": 38,
   "metadata": {},
   "outputs": [],
   "source": [
    "won=extremist.where('treat', 1).column('turnout_party_share')\n",
    "lost=extremist.where('treat', 0).column('turnout_party_share')"
   ]
  },
  {
   "cell_type": "code",
   "execution_count": 30,
   "metadata": {},
   "outputs": [
    {
     "data": {
      "text/plain": [
       "Ttest_indResult(statistic=1.5450154343694895, pvalue=0.12322110705731085)"
      ]
     },
     "execution_count": 30,
     "metadata": {},
     "output_type": "execute_result"
    }
   ],
   "source": [
    "t_test = stats.ttest_ind(lost, won)\n",
    "t_test"
   ]
  },
  {
   "cell_type": "code",
   "execution_count": 17,
   "metadata": {},
   "outputs": [
    {
     "name": "stdout",
     "output_type": "stream",
     "text": [
      "                             OLS Regression Results                            \n",
      "===============================================================================\n",
      "Dep. Variable:     turnout_party_share   R-squared:                       0.007\n",
      "Model:                             OLS   Adj. R-squared:                  0.004\n",
      "Method:                  Least Squares   F-statistic:                     2.387\n",
      "Date:                 Fri, 13 Nov 2020   Prob (F-statistic):              0.123\n",
      "Time:                         12:56:29   Log-Likelihood:                 263.46\n",
      "No. Observations:                  362   AIC:                            -522.9\n",
      "Df Residuals:                      360   BIC:                            -515.1\n",
      "Df Model:                            1                                         \n",
      "Covariance Type:             nonrobust                                         \n",
      "==============================================================================\n",
      "                 coef    std err          t      P>|t|      [0.025      0.975]\n",
      "------------------------------------------------------------------------------\n",
      "const          0.5052      0.009     59.268      0.000       0.488       0.522\n",
      "treat         -0.0191      0.012     -1.545      0.123      -0.043       0.005\n",
      "==============================================================================\n",
      "Omnibus:                        2.287   Durbin-Watson:                   1.891\n",
      "Prob(Omnibus):                  0.319   Jarque-Bera (JB):                2.263\n",
      "Skew:                           0.193   Prob(JB):                        0.323\n",
      "Kurtosis:                       2.959   Cond. No.                         2.57\n",
      "==============================================================================\n",
      "\n",
      "Notes:\n",
      "[1] Standard Errors assume that the covariance matrix of the errors is correctly specified.\n"
     ]
    }
   ],
   "source": [
    "X= sm.add_constant(extremists['treat'])\n",
    "y= extremists['turnout_party_share']\n",
    "lm = sm.OLS(y, X).fit()\n",
    "print(lm.summary())"
   ]
  },
  {
   "cell_type": "code",
   "execution_count": 168,
   "metadata": {},
   "outputs": [],
   "source": [
    "# X_var = extremist.drop('rv')\n",
    "# y_var= extremist.column('rv')\n",
    "X_var = sm.add_constant(extremists.drop(['treat'], axis= 1))\n",
    "y_var= extremists[['treat']]"
   ]
  },
  {
   "cell_type": "code",
   "execution_count": 169,
   "metadata": {},
   "outputs": [
    {
     "name": "stdout",
     "output_type": "stream",
     "text": [
      "                            OLS Regression Results                            \n",
      "==============================================================================\n",
      "Dep. Variable:                  treat   R-squared:                       0.645\n",
      "Model:                            OLS   Adj. R-squared:                  0.639\n",
      "Method:                 Least Squares   F-statistic:                     107.5\n",
      "Date:                Tue, 10 Nov 2020   Prob (F-statistic):           1.03e-76\n",
      "Time:                        13:57:19   Log-Likelihood:                -74.983\n",
      "No. Observations:                 362   AIC:                             164.0\n",
      "Df Residuals:                     355   BIC:                             191.2\n",
      "Df Model:                           6                                         \n",
      "Covariance Type:            nonrobust                                         \n",
      "===============================================================================================\n",
      "                                  coef    std err          t      P>|t|      [0.025      0.975]\n",
      "-----------------------------------------------------------------------------------------------\n",
      "const                           0.6038      0.155      3.894      0.000       0.299       0.909\n",
      "rv                              2.5013      0.100     25.117      0.000       2.305       2.697\n",
      "turnout_party_share            -0.1009      0.144     -0.701      0.484      -0.384       0.182\n",
      "low_info_turnout_party         -0.1292      0.096     -1.348      0.179      -0.318       0.059\n",
      "high_info_turnout_party        -0.1594      0.140     -1.139      0.256      -0.435       0.116\n",
      "low_info_turnout_opp_party      0.0078      0.086      0.091      0.927      -0.161       0.176\n",
      "high_info_turnout_opp_party     0.1982      0.133      1.486      0.138      -0.064       0.460\n",
      "==============================================================================\n",
      "Omnibus:                      250.084   Durbin-Watson:                   2.085\n",
      "Prob(Omnibus):                  0.000   Jarque-Bera (JB):               22.717\n",
      "Skew:                          -0.019   Prob(JB):                     1.17e-05\n",
      "Kurtosis:                       1.773   Cond. No.                         22.9\n",
      "==============================================================================\n",
      "\n",
      "Notes:\n",
      "[1] Standard Errors assume that the covariance matrix of the errors is correctly specified.\n",
      "Parameters:  const                          0.603778\n",
      "rv                             2.501306\n",
      "turnout_party_share           -0.100868\n",
      "low_info_turnout_party        -0.129213\n",
      "high_info_turnout_party       -0.159429\n",
      "low_info_turnout_opp_party     0.007816\n",
      "high_info_turnout_opp_party    0.198194\n",
      "dtype: float64\n"
     ]
    }
   ],
   "source": [
    "m = sm.OLS.from_formula('treat ~ turnout_party_share + high_info_turnout_opp_party + low_info_turnout_opp_party + high_info_turnout_party + low_info_turnout_party', extremist)\n",
    "linearmodel = sm.OLS(y_var, X_var).fit()\n",
    "print(linearmodel.summary())\n",
    "print('Parameters: ', linearmodel.params)"
   ]
  },
  {
   "cell_type": "code",
   "execution_count": 170,
   "metadata": {},
   "outputs": [],
   "source": [
    "results = m.fit()"
   ]
  },
  {
   "cell_type": "code",
   "execution_count": 171,
   "metadata": {},
   "outputs": [
    {
     "name": "stdout",
     "output_type": "stream",
     "text": [
      "Parameters:  Intercept                      0.436248\n",
      "turnout_party_share           -0.235485\n",
      "high_info_turnout_opp_party    0.318358\n",
      "low_info_turnout_opp_party     0.072535\n",
      "high_info_turnout_party       -0.124747\n",
      "low_info_turnout_party        -0.069854\n",
      "dtype: float64\n"
     ]
    }
   ],
   "source": [
    "print('Parameters: ', results.params)"
   ]
  },
  {
   "cell_type": "code",
   "execution_count": 172,
   "metadata": {},
   "outputs": [
    {
     "name": "stdout",
     "output_type": "stream",
     "text": [
      "                            OLS Regression Results                            \n",
      "==============================================================================\n",
      "Dep. Variable:                  treat   R-squared:                       0.014\n",
      "Model:                            OLS   Adj. R-squared:                 -0.000\n",
      "Method:                 Least Squares   F-statistic:                    0.9989\n",
      "Date:                Tue, 10 Nov 2020   Prob (F-statistic):              0.418\n",
      "Time:                        13:57:21   Log-Likelihood:                -259.86\n",
      "No. Observations:                 362   AIC:                             531.7\n",
      "Df Residuals:                     356   BIC:                             555.1\n",
      "Df Model:                           5                                         \n",
      "Covariance Type:            nonrobust                                         \n",
      "===============================================================================================\n",
      "                                  coef    std err          t      P>|t|      [0.025      0.975]\n",
      "-----------------------------------------------------------------------------------------------\n",
      "Intercept                       0.4362      0.258      1.692      0.091      -0.071       0.943\n",
      "turnout_party_share            -0.2355      0.239     -0.984      0.326      -0.706       0.235\n",
      "high_info_turnout_opp_party     0.3184      0.222      1.436      0.152      -0.118       0.754\n",
      "low_info_turnout_opp_party      0.0725      0.142      0.509      0.611      -0.207       0.353\n",
      "high_info_turnout_party        -0.1247      0.233     -0.535      0.593      -0.583       0.333\n",
      "low_info_turnout_party         -0.0699      0.159     -0.438      0.662      -0.383       0.244\n",
      "==============================================================================\n",
      "Omnibus:                     1676.026   Durbin-Watson:                   2.021\n",
      "Prob(Omnibus):                  0.000   Jarque-Bera (JB):               57.222\n",
      "Skew:                           0.085   Prob(JB):                     3.75e-13\n",
      "Kurtosis:                       1.060   Cond. No.                         22.9\n",
      "==============================================================================\n",
      "\n",
      "Notes:\n",
      "[1] Standard Errors assume that the covariance matrix of the errors is correctly specified.\n"
     ]
    }
   ],
   "source": [
    "print(results.summary())"
   ]
  },
  {
   "cell_type": "code",
   "execution_count": 173,
   "metadata": {},
   "outputs": [
    {
     "name": "stdout",
     "output_type": "stream",
     "text": [
      "Parameters:  Intercept                      0.436248\n",
      "turnout_party_share           -0.235485\n",
      "high_info_turnout_opp_party    0.318358\n",
      "low_info_turnout_opp_party     0.072535\n",
      "high_info_turnout_party       -0.124747\n",
      "low_info_turnout_party        -0.069854\n",
      "dtype: float64\n"
     ]
    }
   ],
   "source": [
    "print('Parameters: ', results.params)"
   ]
  },
  {
   "cell_type": "code",
   "execution_count": 192,
   "metadata": {},
   "outputs": [
    {
     "name": "stderr",
     "output_type": "stream",
     "text": [
      "c:\\users\\5mika\\appdata\\local\\programs\\python\\python37\\lib\\site-packages\\seaborn\\_decorators.py:43: FutureWarning: Pass the following variables as keyword args: x, y. From version 0.12, the only valid positional argument will be `data`, and passing other arguments without an explicit keyword will result in an error or misinterpretation.\n",
      "  FutureWarning\n"
     ]
    },
    {
     "data": {
      "text/plain": [
       "<seaborn.axisgrid.FacetGrid at 0x202fd916828>"
      ]
     },
     "execution_count": 192,
     "metadata": {},
     "output_type": "execute_result"
    },
    {
     "data": {
      "image/png": "[encoded data removed]",
      "text/plain": [
       "<Figure size 720x360 with 2 Axes>"
      ]
     },
     "metadata": {
      "needs_background": "light"
     },
     "output_type": "display_data"
    }
   ],
   "source": [
    "sns.lmplot('rv', 'turnout_party_share', data=df, col='treat')"
   ]
  },
  {
   "cell_type": "code",
   "execution_count": 3,
   "metadata": {},
   "outputs": [
    {
     "data": {
      "text/plain": [
       "<AxesSubplot:>"
      ]
     },
     "execution_count": 3,
     "metadata": {},
     "output_type": "execute_result"
    },
    {
     "data": {
      "image/png": "[encoded data removed]",
      "text/plain": [
       "<Figure size 432x288 with 1 Axes>"
      ]
     },
     "metadata": {
      "needs_background": "light"
     },
     "output_type": "display_data"
    }
   ],
   "source": [
    "df['low_info_turnout_party'].hist()\n",
    "df['high_info_turnout_party'].hist()"
   ]
  },
  {
   "cell_type": "code",
   "execution_count": 4,
   "metadata": {},
   "outputs": [
    {
     "data": {
      "text/plain": [
       "<matplotlib.legend.Legend at 0x202fabf5908>"
      ]
     },
     "execution_count": 4,
     "metadata": {},
     "output_type": "execute_result"
    },
    {
     "data": {
      "image/png": "[encoded data removed]",
      "text/plain": [
       "<Figure size 432x288 with 1 Axes>"
      ]
     },
     "metadata": {
      "needs_background": "light"
     },
     "output_type": "display_data"
    }
   ],
   "source": [
    "df['low_info_turnout_opp_party'].hist(label='low')\n",
    "df['high_info_turnout_opp_party'].hist()\n",
    "plt.legend()"
   ]
  }
 ],
 "metadata": {
  "kernelspec": {
   "display_name": "Python 3",
   "language": "python",
   "name": "python3"
  },
  "language_info": {
   "codemirror_mode": {
    "name": "ipython",
    "version": 3
   },
   "file_extension": ".py",
   "mimetype": "text/x-python",
   "name": "python",
   "nbconvert_exporter": "python",
   "pygments_lexer": "ipython3",
   "version": "3.7.3"
  }
 },
 "nbformat": 4,
 "nbformat_minor": 4
}
