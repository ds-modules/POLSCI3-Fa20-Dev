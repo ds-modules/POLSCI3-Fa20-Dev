{
 "cells": [
  {
   "cell_type": "code",
   "execution_count": 19,
   "metadata": {},
   "outputs": [],
   "source": [
    "import pandas as pd\n",
    "import numpy as np"
   ]
  },
  {
   "cell_type": "code",
   "execution_count": 53,
   "metadata": {},
   "outputs": [
    {
     "data": {
      "text/html": [
       "<div>\n",
       "<style scoped>\n",
       "    .dataframe tbody tr th:only-of-type {\n",
       "        vertical-align: middle;\n",
       "    }\n",
       "\n",
       "    .dataframe tbody tr th {\n",
       "        vertical-align: top;\n",
       "    }\n",
       "\n",
       "    .dataframe thead th {\n",
       "        text-align: right;\n",
       "    }\n",
       "</style>\n",
       "<table border=\"1\" class=\"dataframe\">\n",
       "  <thead>\n",
       "    <tr style=\"text-align: right;\">\n",
       "      <th></th>\n",
       "      <th>year</th>\n",
       "      <th>district</th>\n",
       "      <th>winner_name</th>\n",
       "      <th>cook_rating</th>\n",
       "      <th>dem</th>\n",
       "      <th>repub</th>\n",
       "      <th>other</th>\n",
       "      <th>winner</th>\n",
       "    </tr>\n",
       "  </thead>\n",
       "  <tbody>\n",
       "    <tr>\n",
       "      <th>0</th>\n",
       "      <td>2008</td>\n",
       "      <td>AL-01</td>\n",
       "      <td>Jo Bonner</td>\n",
       "      <td>6</td>\n",
       "      <td>0.0</td>\n",
       "      <td>100.0</td>\n",
       "      <td>0.0</td>\n",
       "      <td>1</td>\n",
       "    </tr>\n",
       "    <tr>\n",
       "      <th>1</th>\n",
       "      <td>2008</td>\n",
       "      <td>AL-02</td>\n",
       "      <td>Bobby Bright</td>\n",
       "      <td>3</td>\n",
       "      <td>50.2</td>\n",
       "      <td>49.6</td>\n",
       "      <td>0.2</td>\n",
       "      <td>0</td>\n",
       "    </tr>\n",
       "    <tr>\n",
       "      <th>2</th>\n",
       "      <td>2008</td>\n",
       "      <td>AL-03</td>\n",
       "      <td>Mike D. Rogers</td>\n",
       "      <td>4</td>\n",
       "      <td>45.8</td>\n",
       "      <td>54.0</td>\n",
       "      <td>0.2</td>\n",
       "      <td>1</td>\n",
       "    </tr>\n",
       "    <tr>\n",
       "      <th>3</th>\n",
       "      <td>2008</td>\n",
       "      <td>AL-04</td>\n",
       "      <td>Robert Aderholt</td>\n",
       "      <td>6</td>\n",
       "      <td>25.1</td>\n",
       "      <td>74.8</td>\n",
       "      <td>0.1</td>\n",
       "      <td>1</td>\n",
       "    </tr>\n",
       "    <tr>\n",
       "      <th>4</th>\n",
       "      <td>2008</td>\n",
       "      <td>AL-05</td>\n",
       "      <td>Parker Griffith</td>\n",
       "      <td>3</td>\n",
       "      <td>51.5</td>\n",
       "      <td>47.9</td>\n",
       "      <td>0.6</td>\n",
       "      <td>0</td>\n",
       "    </tr>\n",
       "  </tbody>\n",
       "</table>\n",
       "</div>"
      ],
      "text/plain": [
       "   year district      winner_name  cook_rating   dem  repub  other  winner\n",
       "0  2008    AL-01        Jo Bonner            6   0.0  100.0    0.0       1\n",
       "1  2008    AL-02     Bobby Bright            3  50.2   49.6    0.2       0\n",
       "2  2008    AL-03   Mike D. Rogers            4  45.8   54.0    0.2       1\n",
       "3  2008    AL-04  Robert Aderholt            6  25.1   74.8    0.1       1\n",
       "4  2008    AL-05  Parker Griffith            3  51.5   47.9    0.6       0"
      ]
     },
     "execution_count": 53,
     "metadata": {},
     "output_type": "execute_result"
    }
   ],
   "source": [
    "df = pd.read_csv('data/house_elections_encoded.csv').drop(columns=['Unnamed: 0'], axis=1)\n",
    "df.head(5)"
   ]
  },
  {
   "cell_type": "code",
   "execution_count": 12,
   "metadata": {},
   "outputs": [
    {
     "data": {
      "image/png": "[encoded data removed]",
      "text/plain": [
       "<Figure size 432x288 with 1 Axes>"
      ]
     },
     "metadata": {
      "needs_background": "light"
     },
     "output_type": "display_data"
    }
   ],
   "source": [
    "df.plot.scatter('cook_rating', 'dem');"
   ]
  },
  {
   "cell_type": "markdown",
   "metadata": {},
   "source": [
    "\n",
    "**<span style=\"color:blue\"> Question 2a) The scatter plot above plots the `cook_rating` and the percentage of votes for `dem` candidates. What does this graph tell us about the relationship between these two variables? What might we thus infer about `cook_rating`?(1 pt)**"
   ]
  },
  {
   "cell_type": "markdown",
   "metadata": {},
   "source": [
    "*Your answer here*  "
   ]
  },
  {
   "cell_type": "markdown",
   "metadata": {},
   "source": [
    "Below are the correlation coefficients for `cook_rating` and `dem`, and for `cook_rating` and `repub`."
   ]
  },
  {
   "cell_type": "code",
   "execution_count": 26,
   "metadata": {},
   "outputs": [
    {
     "name": "stdout",
     "output_type": "stream",
     "text": [
      "Correlation between percentage of democratic votes and the cook rating is: -0.8544960028102963\n"
     ]
    }
   ],
   "source": [
    "r = np.corrcoef(df['dem'], df['cook_rating'])[0][1]\n",
    "print('Correlation between percentage of democratic votes and the cook rating is: ' + str(r))"
   ]
  },
  {
   "cell_type": "code",
   "execution_count": 27,
   "metadata": {},
   "outputs": [
    {
     "name": "stdout",
     "output_type": "stream",
     "text": [
      "Correlation between percentage of republican votes and the cook rating is: 0.8570162700287123\n"
     ]
    }
   ],
   "source": [
    "r = np.corrcoef(df['repub'], df['cook_rating'])[0][1]\n",
    "print('Correlation between percentage of republican votes and the cook rating is: ' + str(r))"
   ]
  },
  {
   "cell_type": "markdown",
   "metadata": {},
   "source": [
    "**<span style=\"color:blue\"> Question 2a) What do the correlation coefficients for each pair of attributes (`cook_rating` & `dem`, `cook_rating` & `repub`) tell us? After seeing the scatter plot and seeing the correlation, what can we infer about `cook_rating`?(1 pt)**"
   ]
  },
  {
   "cell_type": "markdown",
   "metadata": {},
   "source": [
    "*Your answer here*"
   ]
  },
  {
   "cell_type": "code",
   "execution_count": 41,
   "metadata": {},
   "outputs": [
    {
     "data": {
      "text/html": [
       "<div>\n",
       "<style scoped>\n",
       "    .dataframe tbody tr th:only-of-type {\n",
       "        vertical-align: middle;\n",
       "    }\n",
       "\n",
       "    .dataframe tbody tr th {\n",
       "        vertical-align: top;\n",
       "    }\n",
       "\n",
       "    .dataframe thead th {\n",
       "        text-align: right;\n",
       "    }\n",
       "</style>\n",
       "<table border=\"1\" class=\"dataframe\">\n",
       "  <thead>\n",
       "    <tr style=\"text-align: right;\">\n",
       "      <th></th>\n",
       "      <th>year</th>\n",
       "      <th>district</th>\n",
       "      <th>winner_name</th>\n",
       "      <th>cook_rating</th>\n",
       "      <th>dem</th>\n",
       "      <th>repub</th>\n",
       "      <th>other</th>\n",
       "      <th>winner</th>\n",
       "    </tr>\n",
       "  </thead>\n",
       "  <tbody>\n",
       "    <tr>\n",
       "      <th>0</th>\n",
       "      <td>2008</td>\n",
       "      <td>AL-01</td>\n",
       "      <td>Jo Bonner</td>\n",
       "      <td>6</td>\n",
       "      <td>0.0</td>\n",
       "      <td>100.0</td>\n",
       "      <td>0.0</td>\n",
       "      <td>1</td>\n",
       "    </tr>\n",
       "    <tr>\n",
       "      <th>1</th>\n",
       "      <td>2008</td>\n",
       "      <td>AL-02</td>\n",
       "      <td>Bobby Bright</td>\n",
       "      <td>3</td>\n",
       "      <td>50.2</td>\n",
       "      <td>49.6</td>\n",
       "      <td>0.2</td>\n",
       "      <td>0</td>\n",
       "    </tr>\n",
       "    <tr>\n",
       "      <th>2</th>\n",
       "      <td>2008</td>\n",
       "      <td>AL-03</td>\n",
       "      <td>Mike D. Rogers</td>\n",
       "      <td>4</td>\n",
       "      <td>45.8</td>\n",
       "      <td>54.0</td>\n",
       "      <td>0.2</td>\n",
       "      <td>1</td>\n",
       "    </tr>\n",
       "    <tr>\n",
       "      <th>3</th>\n",
       "      <td>2008</td>\n",
       "      <td>AL-04</td>\n",
       "      <td>Robert Aderholt</td>\n",
       "      <td>6</td>\n",
       "      <td>25.1</td>\n",
       "      <td>74.8</td>\n",
       "      <td>0.1</td>\n",
       "      <td>1</td>\n",
       "    </tr>\n",
       "    <tr>\n",
       "      <th>4</th>\n",
       "      <td>2008</td>\n",
       "      <td>AL-05</td>\n",
       "      <td>Parker Griffith</td>\n",
       "      <td>3</td>\n",
       "      <td>51.5</td>\n",
       "      <td>47.9</td>\n",
       "      <td>0.6</td>\n",
       "      <td>0</td>\n",
       "    </tr>\n",
       "    <tr>\n",
       "      <th>5</th>\n",
       "      <td>2008</td>\n",
       "      <td>AL-06</td>\n",
       "      <td>Spencer Bachus</td>\n",
       "      <td>6</td>\n",
       "      <td>0.0</td>\n",
       "      <td>100.0</td>\n",
       "      <td>0.0</td>\n",
       "      <td>1</td>\n",
       "    </tr>\n",
       "    <tr>\n",
       "      <th>6</th>\n",
       "      <td>2008</td>\n",
       "      <td>AL-07</td>\n",
       "      <td>Artur Davis</td>\n",
       "      <td>0</td>\n",
       "      <td>100.0</td>\n",
       "      <td>0.0</td>\n",
       "      <td>0.0</td>\n",
       "      <td>0</td>\n",
       "    </tr>\n",
       "    <tr>\n",
       "      <th>7</th>\n",
       "      <td>2008</td>\n",
       "      <td>AK-01</td>\n",
       "      <td>Don Young</td>\n",
       "      <td>3</td>\n",
       "      <td>45.0</td>\n",
       "      <td>50.2</td>\n",
       "      <td>4.8</td>\n",
       "      <td>1</td>\n",
       "    </tr>\n",
       "    <tr>\n",
       "      <th>8</th>\n",
       "      <td>2008</td>\n",
       "      <td>AZ-01</td>\n",
       "      <td>Ann Kirkpatrick</td>\n",
       "      <td>1</td>\n",
       "      <td>55.9</td>\n",
       "      <td>39.4</td>\n",
       "      <td>4.7</td>\n",
       "      <td>0</td>\n",
       "    </tr>\n",
       "    <tr>\n",
       "      <th>9</th>\n",
       "      <td>2008</td>\n",
       "      <td>AZ-02</td>\n",
       "      <td>Trent Franks</td>\n",
       "      <td>6</td>\n",
       "      <td>37.2</td>\n",
       "      <td>59.4</td>\n",
       "      <td>3.4</td>\n",
       "      <td>1</td>\n",
       "    </tr>\n",
       "  </tbody>\n",
       "</table>\n",
       "</div>"
      ],
      "text/plain": [
       "   year district      winner_name  cook_rating    dem  repub  other  winner\n",
       "0  2008    AL-01        Jo Bonner            6    0.0  100.0    0.0       1\n",
       "1  2008    AL-02     Bobby Bright            3   50.2   49.6    0.2       0\n",
       "2  2008    AL-03   Mike D. Rogers            4   45.8   54.0    0.2       1\n",
       "3  2008    AL-04  Robert Aderholt            6   25.1   74.8    0.1       1\n",
       "4  2008    AL-05  Parker Griffith            3   51.5   47.9    0.6       0\n",
       "5  2008    AL-06   Spencer Bachus            6    0.0  100.0    0.0       1\n",
       "6  2008    AL-07      Artur Davis            0  100.0    0.0    0.0       0\n",
       "7  2008    AK-01        Don Young            3   45.0   50.2    4.8       1\n",
       "8  2008    AZ-01  Ann Kirkpatrick            1   55.9   39.4    4.7       0\n",
       "9  2008    AZ-02     Trent Franks            6   37.2   59.4    3.4       1"
      ]
     },
     "execution_count": 41,
     "metadata": {},
     "output_type": "execute_result"
    }
   ],
   "source": [
    "df.head(10)"
   ]
  },
  {
   "cell_type": "code",
   "execution_count": null,
   "metadata": {},
   "outputs": [],
   "source": [
    "* generate random number from (0, len(df)) --> make these random numbers the row to be changed\n",
    "* iterate through the rows in the array above\n",
    "* if the row value is "
   ]
  },
  {
   "cell_type": "code",
   "execution_count": 47,
   "metadata": {},
   "outputs": [
    {
     "data": {
      "text/html": [
       "<div>\n",
       "<style scoped>\n",
       "    .dataframe tbody tr th:only-of-type {\n",
       "        vertical-align: middle;\n",
       "    }\n",
       "\n",
       "    .dataframe tbody tr th {\n",
       "        vertical-align: top;\n",
       "    }\n",
       "\n",
       "    .dataframe thead th {\n",
       "        text-align: right;\n",
       "    }\n",
       "</style>\n",
       "<table border=\"1\" class=\"dataframe\">\n",
       "  <thead>\n",
       "    <tr style=\"text-align: right;\">\n",
       "      <th></th>\n",
       "      <th>year</th>\n",
       "      <th>district</th>\n",
       "      <th>winner_name</th>\n",
       "      <th>cook_rating</th>\n",
       "      <th>dem</th>\n",
       "      <th>repub</th>\n",
       "      <th>other</th>\n",
       "      <th>winner</th>\n",
       "    </tr>\n",
       "  </thead>\n",
       "  <tbody>\n",
       "    <tr>\n",
       "      <th>1760</th>\n",
       "      <td>2016</td>\n",
       "      <td>AR-04</td>\n",
       "      <td>Bruce Westerman</td>\n",
       "      <td>6</td>\n",
       "      <td>0.0</td>\n",
       "      <td>74.9</td>\n",
       "      <td>25.1</td>\n",
       "      <td>1</td>\n",
       "    </tr>\n",
       "    <tr>\n",
       "      <th>2411</th>\n",
       "      <td>2018</td>\n",
       "      <td>NV-01</td>\n",
       "      <td>Dina Titus</td>\n",
       "      <td>0</td>\n",
       "      <td>66.2</td>\n",
       "      <td>30.9</td>\n",
       "      <td>2.9</td>\n",
       "      <td>0</td>\n",
       "    </tr>\n",
       "    <tr>\n",
       "      <th>2269</th>\n",
       "      <td>2018</td>\n",
       "      <td>FL-08</td>\n",
       "      <td>Bill Posey</td>\n",
       "      <td>6</td>\n",
       "      <td>39.5</td>\n",
       "      <td>60.5</td>\n",
       "      <td>0.0</td>\n",
       "      <td>1</td>\n",
       "    </tr>\n",
       "    <tr>\n",
       "      <th>2129</th>\n",
       "      <td>2016</td>\n",
       "      <td>TX-29</td>\n",
       "      <td>Gene Green</td>\n",
       "      <td>0</td>\n",
       "      <td>72.5</td>\n",
       "      <td>24.0</td>\n",
       "      <td>3.5</td>\n",
       "      <td>0</td>\n",
       "    </tr>\n",
       "    <tr>\n",
       "      <th>2477</th>\n",
       "      <td>2018</td>\n",
       "      <td>OH-05</td>\n",
       "      <td>Bob Latta</td>\n",
       "      <td>6</td>\n",
       "      <td>35.1</td>\n",
       "      <td>62.3</td>\n",
       "      <td>2.6</td>\n",
       "      <td>1</td>\n",
       "    </tr>\n",
       "    <tr>\n",
       "      <th>2078</th>\n",
       "      <td>2016</td>\n",
       "      <td>PA-15</td>\n",
       "      <td>Charlie Dent</td>\n",
       "      <td>6</td>\n",
       "      <td>38.0</td>\n",
       "      <td>58.4</td>\n",
       "      <td>3.6</td>\n",
       "      <td>1</td>\n",
       "    </tr>\n",
       "    <tr>\n",
       "      <th>2240</th>\n",
       "      <td>2018</td>\n",
       "      <td>CA-45</td>\n",
       "      <td>Katie Porter</td>\n",
       "      <td>3</td>\n",
       "      <td>52.1</td>\n",
       "      <td>47.9</td>\n",
       "      <td>0.0</td>\n",
       "      <td>0</td>\n",
       "    </tr>\n",
       "    <tr>\n",
       "      <th>1456</th>\n",
       "      <td>2014</td>\n",
       "      <td>IN-02</td>\n",
       "      <td>Jackie Walorski</td>\n",
       "      <td>6</td>\n",
       "      <td>38.3</td>\n",
       "      <td>58.9</td>\n",
       "      <td>2.8</td>\n",
       "      <td>1</td>\n",
       "    </tr>\n",
       "    <tr>\n",
       "      <th>12</th>\n",
       "      <td>2008</td>\n",
       "      <td>AZ-05</td>\n",
       "      <td>Harry Mitchell</td>\n",
       "      <td>1</td>\n",
       "      <td>53.2</td>\n",
       "      <td>43.6</td>\n",
       "      <td>3.2</td>\n",
       "      <td>0</td>\n",
       "    </tr>\n",
       "    <tr>\n",
       "      <th>1118</th>\n",
       "      <td>2012</td>\n",
       "      <td>NJ-07</td>\n",
       "      <td>Leonard Lance</td>\n",
       "      <td>6</td>\n",
       "      <td>40.0</td>\n",
       "      <td>57.2</td>\n",
       "      <td>2.8</td>\n",
       "      <td>1</td>\n",
       "    </tr>\n",
       "  </tbody>\n",
       "</table>\n",
       "</div>"
      ],
      "text/plain": [
       "      year district      winner_name  cook_rating   dem  repub  other  winner\n",
       "1760  2016    AR-04  Bruce Westerman            6   0.0   74.9   25.1       1\n",
       "2411  2018    NV-01       Dina Titus            0  66.2   30.9    2.9       0\n",
       "2269  2018    FL-08       Bill Posey            6  39.5   60.5    0.0       1\n",
       "2129  2016    TX-29       Gene Green            0  72.5   24.0    3.5       0\n",
       "2477  2018    OH-05        Bob Latta            6  35.1   62.3    2.6       1\n",
       "2078  2016    PA-15     Charlie Dent            6  38.0   58.4    3.6       1\n",
       "2240  2018    CA-45     Katie Porter            3  52.1   47.9    0.0       0\n",
       "1456  2014    IN-02  Jackie Walorski            6  38.3   58.9    2.8       1\n",
       "12    2008    AZ-05   Harry Mitchell            1  53.2   43.6    3.2       0\n",
       "1118  2012    NJ-07    Leonard Lance            6  40.0   57.2    2.8       1"
      ]
     },
     "execution_count": 47,
     "metadata": {},
     "output_type": "execute_result"
    }
   ],
   "source": [
    "df.sample(n=10)"
   ]
  },
  {
   "cell_type": "code",
   "execution_count": 55,
   "metadata": {},
   "outputs": [],
   "source": [
    "def insert_outlier(num_outliers, data):\n",
    "    sample_indices = data.sample(n=num_outliers).index\n",
    "    for i in sample_indices:\n",
    "        print(i)"
   ]
  },
  {
   "cell_type": "code",
   "execution_count": 40,
   "metadata": {},
   "outputs": [
    {
     "name": "stdout",
     "output_type": "stream",
     "text": [
      "0\n",
      "6\n",
      "2\n",
      "4\n",
      "3\n",
      "6\n",
      "5\n",
      "6\n",
      "9\n",
      "6\n",
      "10\n",
      "5\n"
     ]
    }
   ],
   "source": [
    "count = 0\n",
    "for i in df.iterrows():\n",
    "    republican =  i[1][3] > 3\n",
    "    if republican:\n",
    "        print(i[0])\n",
    "        print(i[1][3])\n",
    "    if count > 10:\n",
    "        break\n",
    "    count += 1"
   ]
  },
  {
   "cell_type": "code",
   "execution_count": null,
   "metadata": {},
   "outputs": [],
   "source": [
    "def change_value(data, col, num_changed):\n",
    "    \n",
    "    republican = data['cook_rating'] > 3\n",
    "    if data['cook_rating'] >= 3:\n",
    "        republican = True"
   ]
  }
 ],
 "metadata": {
  "kernelspec": {
   "display_name": "Python 3",
   "language": "python",
   "name": "python3"
  },
  "language_info": {
   "codemirror_mode": {
    "name": "ipython",
    "version": 3
   },
   "file_extension": ".py",
   "mimetype": "text/x-python",
   "name": "python",
   "nbconvert_exporter": "python",
   "pygments_lexer": "ipython3",
   "version": "3.7.3"
  }
 },
 "nbformat": 4,
 "nbformat_minor": 4
}
