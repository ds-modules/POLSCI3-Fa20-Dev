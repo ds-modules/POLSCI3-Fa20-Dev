{
 "cells": [
  {
   "cell_type": "code",
   "execution_count": 170,
   "metadata": {},
   "outputs": [],
   "source": [
    "import pandas as pd\n",
    "import numpy as np\n",
    "from ipywidgets import interact, IntSlider, fixed\n",
    "from sklearn.linear_model import LinearRegression"
   ]
  },
  {
   "cell_type": "code",
   "execution_count": 157,
   "metadata": {},
   "outputs": [
    {
     "data": {
      "text/html": [
       "<div>\n",
       "<style scoped>\n",
       "    .dataframe tbody tr th:only-of-type {\n",
       "        vertical-align: middle;\n",
       "    }\n",
       "\n",
       "    .dataframe tbody tr th {\n",
       "        vertical-align: top;\n",
       "    }\n",
       "\n",
       "    .dataframe thead th {\n",
       "        text-align: right;\n",
       "    }\n",
       "</style>\n",
       "<table border=\"1\" class=\"dataframe\">\n",
       "  <thead>\n",
       "    <tr style=\"text-align: right;\">\n",
       "      <th></th>\n",
       "      <th>year</th>\n",
       "      <th>district</th>\n",
       "      <th>winner_name</th>\n",
       "      <th>cook_rating</th>\n",
       "      <th>dem</th>\n",
       "      <th>repub</th>\n",
       "      <th>other</th>\n",
       "      <th>winner</th>\n",
       "    </tr>\n",
       "  </thead>\n",
       "  <tbody>\n",
       "    <tr>\n",
       "      <th>0</th>\n",
       "      <td>2008</td>\n",
       "      <td>AL-01</td>\n",
       "      <td>Jo Bonner</td>\n",
       "      <td>6</td>\n",
       "      <td>0.0</td>\n",
       "      <td>100.0</td>\n",
       "      <td>0.0</td>\n",
       "      <td>1</td>\n",
       "    </tr>\n",
       "    <tr>\n",
       "      <th>1</th>\n",
       "      <td>2008</td>\n",
       "      <td>AL-02</td>\n",
       "      <td>Bobby Bright</td>\n",
       "      <td>3</td>\n",
       "      <td>50.2</td>\n",
       "      <td>49.6</td>\n",
       "      <td>0.2</td>\n",
       "      <td>0</td>\n",
       "    </tr>\n",
       "    <tr>\n",
       "      <th>2</th>\n",
       "      <td>2008</td>\n",
       "      <td>AL-03</td>\n",
       "      <td>Mike D. Rogers</td>\n",
       "      <td>4</td>\n",
       "      <td>45.8</td>\n",
       "      <td>54.0</td>\n",
       "      <td>0.2</td>\n",
       "      <td>1</td>\n",
       "    </tr>\n",
       "    <tr>\n",
       "      <th>3</th>\n",
       "      <td>2008</td>\n",
       "      <td>AL-04</td>\n",
       "      <td>Robert Aderholt</td>\n",
       "      <td>6</td>\n",
       "      <td>25.1</td>\n",
       "      <td>74.8</td>\n",
       "      <td>0.1</td>\n",
       "      <td>1</td>\n",
       "    </tr>\n",
       "    <tr>\n",
       "      <th>4</th>\n",
       "      <td>2008</td>\n",
       "      <td>AL-05</td>\n",
       "      <td>Parker Griffith</td>\n",
       "      <td>3</td>\n",
       "      <td>51.5</td>\n",
       "      <td>47.9</td>\n",
       "      <td>0.6</td>\n",
       "      <td>0</td>\n",
       "    </tr>\n",
       "  </tbody>\n",
       "</table>\n",
       "</div>"
      ],
      "text/plain": [
       "   year district      winner_name  cook_rating   dem  repub  other  winner\n",
       "0  2008    AL-01        Jo Bonner            6   0.0  100.0    0.0       1\n",
       "1  2008    AL-02     Bobby Bright            3  50.2   49.6    0.2       0\n",
       "2  2008    AL-03   Mike D. Rogers            4  45.8   54.0    0.2       1\n",
       "3  2008    AL-04  Robert Aderholt            6  25.1   74.8    0.1       1\n",
       "4  2008    AL-05  Parker Griffith            3  51.5   47.9    0.6       0"
      ]
     },
     "execution_count": 157,
     "metadata": {},
     "output_type": "execute_result"
    }
   ],
   "source": [
    "df = pd.read_csv('data/house_elections_encoded.csv').drop(columns=['Unnamed: 0'], axis=1)\n",
    "dta = df\n",
    "df.head(5)"
   ]
  },
  {
   "cell_type": "code",
   "execution_count": 133,
   "metadata": {},
   "outputs": [
    {
     "data": {
      "image/png": "[encoded data removed]",
      "text/plain": [
       "<Figure size 432x288 with 1 Axes>"
      ]
     },
     "metadata": {
      "needs_background": "light"
     },
     "output_type": "display_data"
    }
   ],
   "source": [
    "df.plot.scatter('cook_rating', 'dem');"
   ]
  },
  {
   "cell_type": "markdown",
   "metadata": {},
   "source": [
    "\n",
    "**<span style=\"color:blue\"> Question 2a) The scatter plot above plots the `cook_rating` and the percentage of votes for `dem` candidates. What does this graph tell us about the relationship between these two variables? What might we thus infer about `cook_rating`?(1 pt)**"
   ]
  },
  {
   "cell_type": "markdown",
   "metadata": {},
   "source": [
    "*Your answer here*  "
   ]
  },
  {
   "cell_type": "markdown",
   "metadata": {},
   "source": [
    "Below are the correlation coefficients for `cook_rating` and `dem`, and for `cook_rating` and `repub`."
   ]
  },
  {
   "cell_type": "code",
   "execution_count": 126,
   "metadata": {},
   "outputs": [
    {
     "name": "stdout",
     "output_type": "stream",
     "text": [
      "Correlation between percentage of democratic votes and the cook rating is: -0.7684776275024428\n"
     ]
    }
   ],
   "source": [
    "r = np.corrcoef(df['dem'], df['cook_rating'])[0][1]\n",
    "print('Correlation between percentage of democratic votes and the cook rating is: ' + str(r))"
   ]
  },
  {
   "cell_type": "code",
   "execution_count": 27,
   "metadata": {},
   "outputs": [
    {
     "name": "stdout",
     "output_type": "stream",
     "text": [
      "Correlation between percentage of republican votes and the cook rating is: 0.8570162700287123\n"
     ]
    }
   ],
   "source": [
    "r = np.corrcoef(df['repub'], df['cook_rating'])[0][1]\n",
    "print('Correlation between percentage of republican votes and the cook rating is: ' + str(r))"
   ]
  },
  {
   "cell_type": "markdown",
   "metadata": {},
   "source": [
    "**<span style=\"color:blue\"> Question 2b) What do the correlation coefficients for each pair of attributes (`cook_rating` & `dem`, `cook_rating` & `repub`) tell us? After seeing the scatter plot and seeing the correlation, what can we infer about `cook_rating`?(1 pt)**"
   ]
  },
  {
   "cell_type": "markdown",
   "metadata": {},
   "source": [
    "*Your answer here*"
   ]
  },
  {
   "cell_type": "markdown",
   "metadata": {},
   "source": [
    "We can see how the correlation between `cook_rating` and `dem` is highly negative. How would the correlation change if we added one outlier? Run the function below, which generates one outlier in the data, and see how the scatter plot and correlation change."
   ]
  },
  {
   "cell_type": "code",
   "execution_count": 161,
   "metadata": {},
   "outputs": [],
   "source": [
    "def reset_data():\n",
    "    data = pd.read_csv('data/house_elections_encoded.csv').drop(columns=['Unnamed: 0'], axis=1)\n",
    "    return data"
   ]
  },
  {
   "cell_type": "code",
   "execution_count": 162,
   "metadata": {},
   "outputs": [],
   "source": [
    "def insert_outlier(num_outliers):\n",
    "    df = reset_data()\n",
    "    sample_indices = df.sample(n=num_outliers).index\n",
    "    for i in sample_indices:\n",
    "        if df.at[i, 'cook_rating'] > 3:\n",
    "            df.at[i, 'cook_rating'] = np.random.choice(4)\n",
    "        else:\n",
    "            df.at[i, 'cook_rating'] = np.random.choice([4, 5, 6])\n",
    "    r = np.corrcoef(df['dem'], df['cook_rating'])[0][1]\n",
    "    print('Correlation between percentage of democratic votes and the cook rating is: ' + str(r))\n",
    "    df.plot.scatter('cook_rating', 'dem');"
   ]
  },
  {
   "cell_type": "code",
   "execution_count": 163,
   "metadata": {},
   "outputs": [
    {
     "name": "stdout",
     "output_type": "stream",
     "text": [
      "Correlation between percentage of democratic votes and the cook rating is: -0.85365057972917\n"
     ]
    },
    {
     "data": {
      "image/png": "[encoded data removed]",
      "text/plain": [
       "<Figure size 432x288 with 1 Axes>"
      ]
     },
     "metadata": {
      "needs_background": "light"
     },
     "output_type": "display_data"
    }
   ],
   "source": [
    "insert_outlier(1)"
   ]
  },
  {
   "cell_type": "markdown",
   "metadata": {},
   "source": [
    "Can you see the new outlier in the scatter plot? However, we can see that the correlation did not change much. Use the interactive slider above to change the number of outliers we want to generate in the data. "
   ]
  },
  {
   "cell_type": "code",
   "execution_count": 164,
   "metadata": {},
   "outputs": [
    {
     "data": {
      "application/vnd.jupyter.widget-view+json": {
       "model_id": "d3de0b3dfea84199a890de4bfbbb098b",
       "version_major": 2,
       "version_minor": 0
      },
      "text/plain": [
       "interactive(children=(IntSlider(value=10, description='num_outliers', max=300, min=1), Output()), _dom_classes…"
      ]
     },
     "metadata": {},
     "output_type": "display_data"
    }
   ],
   "source": [
    "interact(insert_outlier, num_outliers=IntSlider(min=1, max=300, step=1, value=10));"
   ]
  },
  {
   "cell_type": "markdown",
   "metadata": {},
   "source": [
    "**<span style=\"color:blue\"> Question 2c) How many outliers did we need to generate to notice a significant change in the correlation? How is this change reflected in the scatter plot? How much did the correlation change? Write your answer below. (1 pt)**"
   ]
  },
  {
   "cell_type": "markdown",
   "metadata": {},
   "source": [
    "*Your answer here*"
   ]
  },
  {
   "cell_type": "markdown",
   "metadata": {},
   "source": [
    "HEre is the output for a regression model using `dem` (the percentage of votes for a democratic candidate) as the IV and the `cook_rating` as the DV. "
   ]
  },
  {
   "cell_type": "code",
   "execution_count": 174,
   "metadata": {},
   "outputs": [],
   "source": [
    "df = reset_data()\n",
    "\n",
    "y = np.array(df['cook_rating']).reshape(-1, 1)\n",
    "X = np.array(df['dem']).reshape(-1, 1)"
   ]
  },
  {
   "cell_type": "code",
   "execution_count": 184,
   "metadata": {},
   "outputs": [
    {
     "name": "stdout",
     "output_type": "stream",
     "text": [
      "The coefficient for this model is: -0.10467765202395146\n",
      "The intercept for this model is: 8.269314001539925\n"
     ]
    }
   ],
   "source": [
    "# fitting the model \n",
    "\n",
    "model = LinearRegression().fit(X, y)\n",
    "\n",
    "print(\"The coefficient for this model is: \" + str(float(model.coef_))) \n",
    "print(\"The intercept for this model is: \" + str(float(model.intercept_)))"
   ]
  },
  {
   "cell_type": "markdown",
   "metadata": {},
   "source": [
    "**<span style=\"color:blue\"> Question 2d) Interpret the slope coefficient.(1 pt)**"
   ]
  },
  {
   "cell_type": "markdown",
   "metadata": {},
   "source": [
    "*Your answer here*"
   ]
  },
  {
   "cell_type": "code",
   "execution_count": null,
   "metadata": {},
   "outputs": [],
   "source": []
  }
 ],
 "metadata": {
  "kernelspec": {
   "display_name": "Python 3",
   "language": "python",
   "name": "python3"
  },
  "language_info": {
   "codemirror_mode": {
    "name": "ipython",
    "version": 3
   },
   "file_extension": ".py",
   "mimetype": "text/x-python",
   "name": "python",
   "nbconvert_exporter": "python",
   "pygments_lexer": "ipython3",
   "version": "3.7.3"
  }
 },
 "nbformat": 4,
 "nbformat_minor": 4
}
