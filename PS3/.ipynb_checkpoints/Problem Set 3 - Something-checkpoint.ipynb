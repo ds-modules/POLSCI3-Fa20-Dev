{
 "cells": [
  {
   "cell_type": "markdown",
   "metadata": {},
   "source": [
    "Table of Contents:  \n",
    "1) [TEXT QUESTION HERE](#gt)  \n",
    "2) [Deaths in War](#war)  \n",
    "3) [Presidential Approval](#putin)  \n",
    "4) [GDP Distributions](#gdp)"
   ]
  },
  {
   "cell_type": "markdown",
   "metadata": {},
   "source": [
    "## 2. Deaths in War <a class=\"anchor\" id=\"war\"></a>\n",
    "\n",
    "A researcher is interested in the effect of GDP (Gross Domestic Product) on war death rates. She first collects data on wars worldwide, finding the average number of people who died in every war with more than 25,000 deaths."
   ]
  },
  {
   "cell_type": "markdown",
   "metadata": {},
   "source": [
    "First lets take the table `deaths_gdp` which contains wars worldwide since the year 1850 and turn it into a table that you are more familiar working with. The table contains four columns:\n",
    "- `War`: the name of the war\n",
    "- `Location`: where the war took place\n",
    "- `GDP_range`: whether the GDP of the country that the war took place had a high or low GDP based on the time the war took place\n",
    "- `Deaths`: The average deaths from the war"
   ]
  },
  {
   "cell_type": "markdown",
   "metadata": {},
   "source": [
    "The cell below imports the deaths_gdp table. Run it to create the table!"
   ]
  },
  {
   "cell_type": "code",
   "execution_count": 1,
   "metadata": {
    "scrolled": true
   },
   "outputs": [
    {
     "data": {
      "text/html": [
       "<table border=\"1\" class=\"dataframe\">\n",
       "    <thead>\n",
       "        <tr>\n",
       "            <th>War</th> <th>Location</th> <th>GDP_range</th> <th>Deaths</th>\n",
       "        </tr>\n",
       "    </thead>\n",
       "    <tbody>\n",
       "        <tr>\n",
       "            <td>Taiping Rebellion            </td> <td>china        </td> <td>low      </td> <td>25000000</td>\n",
       "        </tr>\n",
       "        <tr>\n",
       "            <td>Crimean War                  </td> <td>uk           </td> <td>high     </td> <td>383000  </td>\n",
       "        </tr>\n",
       "        <tr>\n",
       "            <td>Panthay Rebellion            </td> <td>china        </td> <td>low      </td> <td>945000  </td>\n",
       "        </tr>\n",
       "        <tr>\n",
       "            <td>Indian Rebellion of 1857     </td> <td>india        </td> <td>low      </td> <td>900000  </td>\n",
       "        </tr>\n",
       "        <tr>\n",
       "            <td>American Civil War           </td> <td>united states</td> <td>high     </td> <td>825000  </td>\n",
       "        </tr>\n",
       "        <tr>\n",
       "            <td>Dungan Revolt                </td> <td>china        </td> <td>low      </td> <td>14000000</td>\n",
       "        </tr>\n",
       "        <tr>\n",
       "            <td>French intervention in Mexico</td> <td>mexico       </td> <td>low      </td> <td>49287   </td>\n",
       "        </tr>\n",
       "        <tr>\n",
       "            <td>Paraguayan War               </td> <td>south america</td> <td>low      </td> <td>750000  </td>\n",
       "        </tr>\n",
       "        <tr>\n",
       "            <td>Ten Years' War               </td> <td>cuba         </td> <td>low      </td> <td>241000  </td>\n",
       "        </tr>\n",
       "        <tr>\n",
       "            <td>Conquest of the Desert       </td> <td>patagonia    </td> <td>low      </td> <td>32500   </td>\n",
       "        </tr>\n",
       "    </tbody>\n",
       "</table>\n",
       "<p>... (83 rows omitted)</p>"
      ],
      "text/plain": [
       "War                           | Location      | GDP_range | Deaths\n",
       "Taiping Rebellion             | china         | low       | 25000000\n",
       "Crimean War                   | uk            | high      | 383000\n",
       "Panthay Rebellion             | china         | low       | 945000\n",
       "Indian Rebellion of 1857      | india         | low       | 900000\n",
       "American Civil War            | united states | high      | 825000\n",
       "Dungan Revolt                 | china         | low       | 14000000\n",
       "French intervention in Mexico | mexico        | low       | 49287\n",
       "Paraguayan War                | south america | low       | 750000\n",
       "Ten Years' War                | cuba          | low       | 241000\n",
       "Conquest of the Desert        | patagonia     | low       | 32500\n",
       "... (83 rows omitted)"
      ]
     },
     "execution_count": 1,
     "metadata": {},
     "output_type": "execute_result"
    }
   ],
   "source": [
    "import numpy as np\n",
    "from scipy import stats\n",
    "from datascience import Table\n",
    "from datascience.predicates import are\n",
    "deaths_gdp = Table.read_table('data/deaths_gdp.csv')\n",
    "deaths_gdp"
   ]
  },
  {
   "cell_type": "markdown",
   "metadata": {},
   "source": [
    "Lets continue to explore the NumPy methods you practiced in Problem Set 2. `np.mean` takes in an array of numbers like `np.median`, e.g some columns in `deaths_gdp` are arrays of numbers.\n",
    "\n",
    "To practice how `np.mean`works, run the two cells below. We create an array called `nums` and calculate its mean."
   ]
  },
  {
   "cell_type": "code",
   "execution_count": 2,
   "metadata": {},
   "outputs": [],
   "source": [
    "nums = [1,2,3,4,5,6]"
   ]
  },
  {
   "cell_type": "code",
   "execution_count": 3,
   "metadata": {},
   "outputs": [
    {
     "data": {
      "text/plain": [
       "3.5"
      ]
     },
     "execution_count": 3,
     "metadata": {},
     "output_type": "execute_result"
    }
   ],
   "source": [
    "np.mean(nums)"
   ]
  },
  {
   "cell_type": "markdown",
   "metadata": {},
   "source": [
    "Each column of the `wars` data table is made up of an array. You can access the arrays that make up the columns by using `.column()` with the column name as an input. Heres an example that will return the array of values that make up the `War` column. "
   ]
  },
  {
   "cell_type": "code",
   "execution_count": 4,
   "metadata": {},
   "outputs": [
    {
     "data": {
      "text/plain": [
       "array(['Taiping Rebellion', 'Crimean War', 'Panthay Rebellion',\n",
       "       'Indian Rebellion of 1857', 'American Civil War', 'Dungan Revolt',\n",
       "       'French intervention in Mexico', 'Paraguayan War',\n",
       "       \"Ten Years' War\", 'Conquest of the Desert', 'Aceh War',\n",
       "       'First Sino–Japanese War', 'Cuban War of Independence',\n",
       "       \"Thousand Days' War\", 'South African War (Second Boer War)',\n",
       "       'Philippine–American War', 'Mexican Revolution', 'Balkan Wars',\n",
       "       'World War I', 'Russian Civil War', 'Iraqi–Kurdish conflict',\n",
       "       'Kurdish rebellions in Turkey', 'Second Italo-Senussi War',\n",
       "       'Chinese Civil War', 'Chaco War', 'Second Italo-Ethiopian War',\n",
       "       'Spanish Civil War', 'Second Sino-Japanese War', 'World War II',\n",
       "       'Winter War', 'Greco-Italian War', 'Continuation War',\n",
       "       'Soviet–Japanese War', 'First Indochina War', 'Greek Civil War',\n",
       "       'Malagasy Uprising', 'Kashmir Conflict', 'La Violencia',\n",
       "       'Internal conflict in Myanmar', 'Arab–Israeli conflict',\n",
       "       'Indian annexation of Hyderabad', 'Korean War', 'Algerian War',\n",
       "       'Ethnic conflict in Nagaland', 'Vietnam War',\n",
       "       'First Sudanese Civil War', 'Congo Crisis',\n",
       "       'Angolan War of Independence', 'North Yemen Civil War',\n",
       "       'Mozambican War of Independence', 'Insurgency in Northeast India',\n",
       "       'Colombian conflict', 'Nigerian Civil War', 'Moro Conflict',\n",
       "       'CPP-NPA-NDF rebellion', 'Bangladesh Liberation War',\n",
       "       'Ethiopian Civil War', 'Angolan Civil War', 'Lebanese Civil War',\n",
       "       'Insurgency in Laos', 'War in Afghanistan',\n",
       "       'Kurdish–Turkish conflict', 'Soviet–Afghan War',\n",
       "       'Salvadoran Civil War', 'Iran–Iraq War',\n",
       "       'Internal conflict in Peru', 'Ugandan Bush War',\n",
       "       'Second Sudanese Civil War', 'Sri Lankan Civil War',\n",
       "       'Somali Civil War', \"Lord's Resistance Army insurgency\",\n",
       "       'Nagorno-Karabakh War', 'Gulf War', 'Algerian Civil War',\n",
       "       'Bosnian War', '1991 Iraqi Civil War', 'Sierra Leone Civil War',\n",
       "       'Burundian Civil War', 'Rwandan genocide', 'First Congo War',\n",
       "       'Second Congo War', 'Ituri conflict', 'War on Terror',\n",
       "       'War in Afghanistan (2001–present)', 'Iraq War', 'War in Darfur',\n",
       "       'Kivu Conflict', 'War in North-West Pakistan', 'Mexican Drug War',\n",
       "       'Boko Haram insurgency', 'Syrian Civil War',\n",
       "       'Iraqi Civil War (2014–2017)', 'Yemeni Civil War'], dtype='<U35')"
      ]
     },
     "execution_count": 4,
     "metadata": {},
     "output_type": "execute_result"
    }
   ],
   "source": [
    "deaths_gdp.column(\"War\")"
   ]
  },
  {
   "cell_type": "markdown",
   "metadata": {},
   "source": [
    "**Part I**"
   ]
  },
  {
   "cell_type": "markdown",
   "metadata": {},
   "source": [
    "**<span style=\"color:blue\">Question 2.1(a): Set the `mean_deaths` and `median_deaths` equal to the mean and median deaths using `np.mean` and `np.median` in the cells below.  (2 pts)</span>** "
   ]
  },
  {
   "cell_type": "code",
   "execution_count": 5,
   "metadata": {},
   "outputs": [
    {
     "data": {
      "text/plain": [
       "Ellipsis"
      ]
     },
     "execution_count": 5,
     "metadata": {},
     "output_type": "execute_result"
    }
   ],
   "source": [
    "mean_deaths = ...\n",
    "mean_deaths"
   ]
  },
  {
   "cell_type": "code",
   "execution_count": 6,
   "metadata": {},
   "outputs": [
    {
     "data": {
      "text/plain": [
       "Ellipsis"
      ]
     },
     "execution_count": 6,
     "metadata": {},
     "output_type": "execute_result"
    }
   ],
   "source": [
    "median_deaths= ...\n",
    "median_deaths"
   ]
  },
  {
   "cell_type": "markdown",
   "metadata": {},
   "source": [
    "**<span style=\"color:blue\">Question 2.1(b): Explain why the mean (or median) is larger. Why might there be a difference?. (1 pt)</span>** "
   ]
  },
  {
   "cell_type": "markdown",
   "metadata": {},
   "source": [
    "*Answer in this cell*"
   ]
  },
  {
   "cell_type": "markdown",
   "metadata": {},
   "source": [
    "**Part 2**"
   ]
  },
  {
   "cell_type": "markdown",
   "metadata": {},
   "source": [
    "\n",
    "**<span style=\"color:blue\">Question 2.2: Do you think mean or median is a better judge of how many lives are typically lost during a war? (2 pt)</span>** "
   ]
  },
  {
   "cell_type": "markdown",
   "metadata": {},
   "source": [
    "*Answer in this cell*"
   ]
  },
  {
   "cell_type": "markdown",
   "metadata": {},
   "source": [
    "**Part 3**"
   ]
  },
  {
   "cell_type": "markdown",
   "metadata": {},
   "source": [
    "She then creates two arrays: `high_gdp` and `low_gdp`, which contain the death tolls from wars that took place in countries with a high GDP and a low GDP respectively. Run the cells below to view the arrays `high_gdp`."
   ]
  },
  {
   "cell_type": "code",
   "execution_count": 7,
   "metadata": {},
   "outputs": [
    {
     "data": {
      "text/plain": [
       "array([  383000,   825000, 28000000,  7000000,   229450,   100000,\n",
       "       70562500,    27000,   387300,   116074,   694500,   766000,\n",
       "         529982,   100000,   200000,   570000,   197500])"
      ]
     },
     "execution_count": 7,
     "metadata": {},
     "output_type": "execute_result"
    }
   ],
   "source": [
    "high_gdp = deaths_gdp.where('GDP_range', 'high').column('Deaths')\n",
    "high_gdp"
   ]
  },
  {
   "cell_type": "markdown",
   "metadata": {},
   "source": [
    "**<span style=\"color:blue\">Question 2.3(a): Set `low_gdp` to the array of death tolls from countries with a low GDP. (1 pt)</span>** "
   ]
  },
  {
   "cell_type": "code",
   "execution_count": 8,
   "metadata": {},
   "outputs": [
    {
     "data": {
      "text/plain": [
       "array([25000000,   945000,   900000, 14000000,    49287,   750000,\n",
       "         241000,    32500,   102000,    48311,   362000,   120000,\n",
       "          81500,   234000,  1250000,   140000,    40000,  8000000,\n",
       "         107500,   278000,   750000, 22500000,   174286,    64594,\n",
       "         400000,   158000,    50171,    95000,   193700,   190000,\n",
       "         135500,  3000000,   950000,    34000,  3350000,   500000,\n",
       "         100000,    93000,   150000,    76000,    25000,   220000,\n",
       "        2000000,   120000,    36500,  3000000,  1000000,   504158,\n",
       "         135000,   100000,  1620000,    45000,  1300000,    75000,\n",
       "          70000,   300000,  1500000,    90000,   400000,   300000,\n",
       "          38000,    33000,   122000,   101000,   160000,   175000,\n",
       "         300000,   800000,   525000,  3950000,    60000,    54500,\n",
       "         300000,    62450,    51567,   112000])"
      ]
     },
     "execution_count": 8,
     "metadata": {},
     "output_type": "execute_result"
    }
   ],
   "source": [
    "low_gdp = deaths_gdp.where(\"GDP_range\", 'low').column(\"Deaths\")\n",
    "low_gdp"
   ]
  },
  {
   "cell_type": "markdown",
   "metadata": {},
   "source": [
    "She then wants to find the averages of deaths in countries with high GDP's versus the averages of deaths in countries with low GDP's. She uses `np.mean` in the cell below and uses a print statement to report her findings.   \n",
    "**<span style=\"color:blue\">Question 2.3(b): Set `mean_low_gdp` to the average death toll from countries with a low GDP. (1 pt)</span>** "
   ]
  },
  {
   "cell_type": "code",
   "execution_count": 9,
   "metadata": {},
   "outputs": [
    {
     "name": "stdout",
     "output_type": "stream",
     "text": [
      "The average deaths for a war in a country with a high GDP is 6511077.0\n"
     ]
    },
    {
     "ename": "AttributeError",
     "evalue": "'ellipsis' object has no attribute 'round'",
     "output_type": "error",
     "traceback": [
      "\u001b[0;31m---------------------------------------------------------------------------\u001b[0m",
      "\u001b[0;31mAttributeError\u001b[0m                            Traceback (most recent call last)",
      "\u001b[0;32m<ipython-input-9-771e1ebfd91f>\u001b[0m in \u001b[0;36m<module>\u001b[0;34m\u001b[0m\n\u001b[1;32m      4\u001b[0m \u001b[0;34m\u001b[0m\u001b[0m\n\u001b[1;32m      5\u001b[0m \u001b[0mprint\u001b[0m\u001b[0;34m(\u001b[0m\u001b[0;34m'The average deaths for a war in a country with a high GDP is '\u001b[0m \u001b[0;34m+\u001b[0m \u001b[0mstr\u001b[0m\u001b[0;34m(\u001b[0m\u001b[0mmean_high_gdp\u001b[0m\u001b[0;34m.\u001b[0m\u001b[0mround\u001b[0m\u001b[0;34m(\u001b[0m\u001b[0;34m)\u001b[0m\u001b[0;34m)\u001b[0m\u001b[0;34m)\u001b[0m\u001b[0;34m\u001b[0m\u001b[0;34m\u001b[0m\u001b[0m\n\u001b[0;32m----> 6\u001b[0;31m \u001b[0mprint\u001b[0m\u001b[0;34m(\u001b[0m\u001b[0;34m'The average deaths for a war in a country with a low GDP is '\u001b[0m \u001b[0;34m+\u001b[0m \u001b[0mstr\u001b[0m\u001b[0;34m(\u001b[0m\u001b[0mmean_low_gdp\u001b[0m\u001b[0;34m.\u001b[0m\u001b[0mround\u001b[0m\u001b[0;34m(\u001b[0m\u001b[0;34m)\u001b[0m\u001b[0;34m)\u001b[0m\u001b[0;34m)\u001b[0m\u001b[0;34m\u001b[0m\u001b[0;34m\u001b[0m\u001b[0m\n\u001b[0m",
      "\u001b[0;31mAttributeError\u001b[0m: 'ellipsis' object has no attribute 'round'"
     ]
    }
   ],
   "source": [
    "mean_high_gdp = np.mean(high_gdp)\n",
    "\n",
    "mean_low_gdp = ...\n",
    "\n",
    "print('The average deaths for a war in a country with a high GDP is ' + str(mean_high_gdp.round()))\n",
    "print('The average deaths for a war in a country with a low GDP is ' + str(mean_low_gdp.round()))"
   ]
  },
  {
   "cell_type": "markdown",
   "metadata": {},
   "source": [
    "Lets run a t-test and find the p-value of the difference of means test. We can do this using a helpful Python library similar to NumPy called SciPy. `scipy.stats.ttest_ind` is a method in SciPy that will help us run a t-test for the means of two independent samples and will give us the test statistic along with the p-value for our data.`scipy.stats.ttest_ind` takes in two arrays that contain the data of these independant samples. In this case the two arrays that contain the data of the independant samples are `high_gdp` and `low_gdp`.\n",
    "\n",
    "Use `scipy.stats.ttest_ind`, `high_gdp_deaths`, and `low_gdp_deaths` to run a t-test and find the p-value in the cell below, assigning your answer to the variable t_test.  \n",
    "**<span style=\"color:blue\">Question 2.3(c): Set `t_test` to the p-value associated with the likelihood that low and high GDP countries have similar death tolls. (3 pts)</span>** "
   ]
  },
  {
   "cell_type": "code",
   "execution_count": null,
   "metadata": {},
   "outputs": [],
   "source": [
    "t_test = \n",
    "t_test"
   ]
  },
  {
   "cell_type": "markdown",
   "metadata": {},
   "source": [
    "What does the p-value you found tell us about the 95% confidence interval for the difference of means? (You don’t need to figure out what it is exactly, just an important property of the interval.)   \n",
    "**<span style=\"color:blue\">Question 2.3(d): Explain the significance of the p-vale in the cell below. (1 pt)</span>** "
   ]
  },
  {
   "cell_type": "markdown",
   "metadata": {},
   "source": [
    "*Answer in this cell*"
   ]
  },
  {
   "cell_type": "markdown",
   "metadata": {},
   "source": [
    "**Part 4**"
   ]
  },
  {
   "cell_type": "markdown",
   "metadata": {},
   "source": [
    "In writing up these results, the researcher determines that there is a statistically significant difference between the number of deaths in wars with countries that have high GDP and countries that have a low GDP. What might the researcher be missing that could be resulting in this outcome?\n",
    "**<span style=\"color:blue\">Question 2.4: Explain what limitations are present inhibiting any causal claims. (2 pts)</span>** "
   ]
  },
  {
   "cell_type": "markdown",
   "metadata": {},
   "source": [
    "*Answer in this cell*"
   ]
  },
  {
   "cell_type": "markdown",
   "metadata": {},
   "source": [
    "## 2. Presidential Approval <a class=\"anchor\" id=\"putin\"></a>\n",
    "In this question, we will explore Russian presidential approval rating. We use data from the Levada Center, which conducts public opinion polls in Russia, which are generally consideredamong the most credible surveys in a non-democratic country. Their most recent poll in August 2020, with a sample of 1600, found that 69% of respondents approve of Vladimir Putin’s performance as Prime Minister.  \n",
    "The following cell loads in Putin's approval as the table `putin`."
   ]
  },
  {
   "cell_type": "code",
   "execution_count": 19,
   "metadata": {},
   "outputs": [
    {
     "data": {
      "text/html": [
       "<table border=\"1\" class=\"dataframe\">\n",
       "    <thead>\n",
       "        <tr>\n",
       "            <th>Date</th> <th>Approved</th> <th>Disapproved</th> <th>No Answer</th>\n",
       "        </tr>\n",
       "    </thead>\n",
       "    <tbody>\n",
       "        <tr>\n",
       "            <td>1999-Aug</td> <td>31      </td> <td>33         </td> <td>36       </td>\n",
       "        </tr>\n",
       "        <tr>\n",
       "            <td>1999-Sep</td> <td>53      </td> <td>27         </td> <td>20       </td>\n",
       "        </tr>\n",
       "        <tr>\n",
       "            <td>1999-Oct</td> <td>65      </td> <td>20         </td> <td>15       </td>\n",
       "        </tr>\n",
       "        <tr>\n",
       "            <td>1999-Nov</td> <td>80      </td> <td>12         </td> <td>8        </td>\n",
       "        </tr>\n",
       "        <tr>\n",
       "            <td>1999-Dec</td> <td>79      </td> <td>13         </td> <td>8        </td>\n",
       "        </tr>\n",
       "        <tr>\n",
       "            <td>2000-Jan</td> <td>84      </td> <td>10         </td> <td>6        </td>\n",
       "        </tr>\n",
       "        <tr>\n",
       "            <td>2000-Feb</td> <td>75      </td> <td>17         </td> <td>8        </td>\n",
       "        </tr>\n",
       "        <tr>\n",
       "            <td>2000-Mar</td> <td>70      </td> <td>21         </td> <td>9        </td>\n",
       "        </tr>\n",
       "        <tr>\n",
       "            <td>2000-Apr</td> <td>77      </td> <td>15         </td> <td>8        </td>\n",
       "        </tr>\n",
       "        <tr>\n",
       "            <td>2000-May</td> <td>72      </td> <td>17         </td> <td>11       </td>\n",
       "        </tr>\n",
       "    </tbody>\n",
       "</table>\n",
       "<p>... (243 rows omitted)</p>"
      ],
      "text/plain": [
       "Date     | Approved | Disapproved | No Answer\n",
       "1999-Aug | 31       | 33          | 36\n",
       "1999-Sep | 53       | 27          | 20\n",
       "1999-Oct | 65       | 20          | 15\n",
       "1999-Nov | 80       | 12          | 8\n",
       "1999-Dec | 79       | 13          | 8\n",
       "2000-Jan | 84       | 10          | 6\n",
       "2000-Feb | 75       | 17          | 8\n",
       "2000-Mar | 70       | 21          | 9\n",
       "2000-Apr | 77       | 15          | 8\n",
       "2000-May | 72       | 17          | 11\n",
       "... (243 rows omitted)"
      ]
     },
     "execution_count": 19,
     "metadata": {},
     "output_type": "execute_result"
    }
   ],
   "source": [
    "from utils import table_dict, time\n",
    "from datascience import Table\n",
    "import pandas as pd\n",
    "import matplotlib.pyplot as plt\n",
    "import seaborn as sns \n",
    "import scipy.stats as stats\n",
    "%matplotlib inline\n",
    "\n",
    "putin = Table().with_columns(table_dict)\n",
    "putin"
   ]
  },
  {
   "cell_type": "markdown",
   "metadata": {},
   "source": [
    "For a better visual of Putin's approval, we will graph his approval and disapproval ratings between 1999 and 2020. For now, you don't need to know how the plotting works, but it's useful to get an idea of the data."
   ]
  },
  {
   "cell_type": "code",
   "execution_count": null,
   "metadata": {},
   "outputs": [],
   "source": [
    "#Plot Putin's approval rates against his disapproval rates from 1999 to 2020\n",
    "putin.to_df().plot(figsize=(8, 6), linewidth=2.5,)\n",
    "sns.set(font_scale=1.4)\n",
    "plt.xlabel(\"Date\", labelpad=15)\n",
    "plt.ylabel(\"Percentage of People\", labelpad=15)\n",
    "plt.title(\"Putin's Approval Ratings\", y=1.02, fontsize=22);\n"
   ]
  },
  {
   "cell_type": "markdown",
   "metadata": {},
   "source": [
    "**Part 1**  \n",
    "Assuming that the survey is a simple random sample, we can calculate the standard error for Putin's approval using the standard deviation of the approval and the sample size.  \n",
    "**<span style=\"color:blue\">Question 3.1(a): Set `approval_sd` to standard deviation of the `Approved` column. (1 pt)</span>** "
   ]
  },
  {
   "cell_type": "code",
   "execution_count": null,
   "metadata": {},
   "outputs": [],
   "source": [
    "approval_sd = ... #enter the approval rating here\n",
    "sample_size = len(putin.column('Approved'))\n",
    "approval_sd, sample_size"
   ]
  },
  {
   "cell_type": "markdown",
   "metadata": {},
   "source": [
    "With these two values, we calculate the standard error as $$\\frac{\\sigma}{\\sqrt{n}}$$ $\\sigma$ is the standard deviation and n is the sample size.  \n",
    "**<span style=\"color:blue\">Question 3.1(b): Set `approval_se` to the standard error of the `Approved` column. (1 pt)</span>** "
   ]
  },
  {
   "cell_type": "code",
   "execution_count": null,
   "metadata": {},
   "outputs": [],
   "source": [
    "approval_se = ..."
   ]
  },
  {
   "cell_type": "markdown",
   "metadata": {},
   "source": [
    "Now that we have the standard error, we can find the 95% confidence interval for Putin's approval rating. We find the lower bound of the confidence interval by multiplying 1.96 and the standard error, and subtracting it from our approval rate. We find our upper confidence interval by multiplying 1.96 and the standard error and adding it to our approval rate. This can be viewed as $\\mu \\pm 1.96*SE$, where $\\mu$ is our mean and SE is the standard error.\n",
    "**<span style=\"color:blue\">Question 3.1(b): Set `lower_confidence` to the lower bound of the 95% confidence interval. (1 pt)</span>** "
   ]
  },
  {
   "cell_type": "code",
   "execution_count": null,
   "metadata": {},
   "outputs": [],
   "source": [
    "upper_confidence = approval + (1.96 * approval_se) \n",
    "lower_confidence = ...\n",
    "\n",
    "print('The 95% confidence interval is between '+ str(lower_confidence)+' and '+ str(upper_confidence)+ '.')"
   ]
  },
  {
   "cell_type": "markdown",
   "metadata": {},
   "source": [
    "**Part 2**  \n",
    "Suppose that 20% of the sample lives in the Moscow area, while the remaining 80% does not. A researcher wants to know if there is a difference between Muscovites (Moscow residents) and the general population.    \n",
    "\n",
    "Among Moscow residents, Putin's approval is 60%, while amongst non-residents he has support from 68% of the population."
   ]
  },
  {
   "cell_type": "markdown",
   "metadata": {},
   "source": [
    "First we will find the standard deviation of the Muscovite sample distribution. Enter Putin's approval rating for the Muscovite sample, and the size of the Muscovite sample. We have entered the rest data for you.  \n",
    "**<span style=\"color:blue\">Question 3.2(a): Set `moscow_approval` and `moscow_sample_size` to average approval rating and the sample size respectively. (1 pt)</span>** "
   ]
  },
  {
   "cell_type": "code",
   "execution_count": null,
   "metadata": {},
   "outputs": [],
   "source": [
    "#Find the approval rating and population of the Muscovite sample\n",
    "moscow_approval = ...\n",
    "moscow_sample_size = ...\n",
    "\n",
    "rest_approval = .68\n",
    "rest_sample_size = len(putin.column('Approved'))*.8"
   ]
  },
  {
   "cell_type": "markdown",
   "metadata": {},
   "source": [
    "Next, we calculate the standard deviation by taking the square root of the approval multiplied by 1 minus the approval.   \n",
    "**<span style=\"color:blue\">Question 3.2(b): Set `moscow_sd` to the standard deviation of approval among Muscovites. (1 pt)</span>** "
   ]
  },
  {
   "cell_type": "code",
   "execution_count": null,
   "metadata": {},
   "outputs": [],
   "source": [
    "moscow_sd = ...\n",
    "\n",
    "rest_sd = np.sqrt(rest_approval * (1 - rest_approval))"
   ]
  },
  {
   "cell_type": "markdown",
   "metadata": {},
   "source": [
    "We can use the `stats` library to calculate the probability that there is a statistically significant difference. The method signature is:\n",
    "`stats.ttest_ind_from_stats(mean1, sd1, first_sample_size, mean2, sd2, second_sample_size)`  \n",
    "**<span style=\"color:blue\">Question 3.2(c): Calculate the probability that there is a statistically significant difference between the two groups. (2 pt)</span>** "
   ]
  },
  {
   "cell_type": "code",
   "execution_count": null,
   "metadata": {},
   "outputs": [],
   "source": [
    "stats.ttest_ind_from_stats(...,...,...,...,...,...)"
   ]
  },
  {
   "cell_type": "markdown",
   "metadata": {},
   "source": [
    "This function returns a `pvalue`. What does this p-value tell us about the two distributions?  \n",
    "**<span style=\"color:blue\">Question 3.2(d): Explain the significance of our result (2 pts)</span>** "
   ]
  },
  {
   "cell_type": "markdown",
   "metadata": {},
   "source": [
    "*YOUR ANSWER HERE*"
   ]
  },
  {
   "cell_type": "markdown",
   "metadata": {},
   "source": [
    "**<span style=\"color:blue\">Question 3.2(e): If we want to know what people really think about Putin, why might this measure not be valid?. (2 pts)</span>** "
   ]
  },
  {
   "cell_type": "markdown",
   "metadata": {},
   "source": [
    "*YOUR ANSWER HERE*"
   ]
  },
  {
   "cell_type": "markdown",
   "metadata": {},
   "source": [
    "## 4. GDP Distributions <a class=\"anchor\" id=\"gdp\"></a>\n"
   ]
  },
  {
   "cell_type": "code",
   "execution_count": 20,
   "metadata": {},
   "outputs": [
    {
     "data": {
      "text/html": [
       "<table border=\"1\" class=\"dataframe\">\n",
       "    <thead>\n",
       "        <tr>\n",
       "            <th>Country</th> <th>2016</th>\n",
       "        </tr>\n",
       "    </thead>\n",
       "    <tbody>\n",
       "        <tr>\n",
       "            <td>uk         </td> <td>37334</td>\n",
       "        </tr>\n",
       "        <tr>\n",
       "            <td>netherlands</td> <td>45600</td>\n",
       "        </tr>\n",
       "        <tr>\n",
       "            <td>belgium    </td> <td>38766</td>\n",
       "        </tr>\n",
       "        <tr>\n",
       "            <td>france     </td> <td>37124</td>\n",
       "        </tr>\n",
       "        <tr>\n",
       "            <td>germany    </td> <td>44689</td>\n",
       "        </tr>\n",
       "        <tr>\n",
       "            <td>austria    </td> <td>41445</td>\n",
       "        </tr>\n",
       "        <tr>\n",
       "            <td>finland    </td> <td>37239</td>\n",
       "        </tr>\n",
       "        <tr>\n",
       "            <td>russia     </td> <td>23635</td>\n",
       "        </tr>\n",
       "        <tr>\n",
       "            <td>ukraine    </td> <td>9214 </td>\n",
       "        </tr>\n",
       "        <tr>\n",
       "            <td>ussr       </td> <td>18635</td>\n",
       "        </tr>\n",
       "    </tbody>\n",
       "</table>\n",
       "<p>... (29 rows omitted)</p>"
      ],
      "text/plain": [
       "Country     | 2016\n",
       "uk          | 37334\n",
       "netherlands | 45600\n",
       "belgium     | 38766\n",
       "france      | 37124\n",
       "germany     | 44689\n",
       "austria     | 41445\n",
       "finland     | 37239\n",
       "russia      | 23635\n",
       "ukraine     | 9214\n",
       "ussr        | 18635\n",
       "... (29 rows omitted)"
      ]
     },
     "execution_count": 20,
     "metadata": {},
     "output_type": "execute_result"
    }
   ],
   "source": [
    "from datascience import Table\n",
    "import seaborn as sns \n",
    "import numpy as np\n",
    "%matplotlib inline\n",
    "\n",
    "gdp = Table.read_table('data/gdp.csv')\n",
    "gdp"
   ]
  },
  {
   "cell_type": "markdown",
   "metadata": {},
   "source": [
    "**Part 1** \n",
    "We are interested in the *distribution* of the GDP for all countries in our dataset. A *histogram* allows us to visualize this distribution. First, we need our gdp data.  \n",
    "**<span style=\"color:blue\">Question 4.1(a): Set `gdp_numbers` to `2016` column. (1 pt)</span>** "
   ]
  },
  {
   "cell_type": "code",
   "execution_count": 11,
   "metadata": {},
   "outputs": [
    {
     "data": {
      "text/plain": [
       "array([37334, 45600, 38766, 37124, 44689, 41445, 37239, 23635,  9214,\n",
       "       18635, 15416, 27738, 23279, 24838, 33419, 30110, 25346, 22574,\n",
       "       17906, 11351, 13898, 11529, 16783, 10911,  6125, 12569, 36103,\n",
       "       37465, 53015, 43745, 16133,  1728,  7889, 13873, 15219, 21696,\n",
       "       18875, 12139, 48845])"
      ]
     },
     "execution_count": 11,
     "metadata": {},
     "output_type": "execute_result"
    }
   ],
   "source": [
    "gdp_numbers = gdp.column('2016')\n",
    "gdp_numbers"
   ]
  },
  {
   "cell_type": "markdown",
   "metadata": {},
   "source": [
    "`sns.distplot(values)` allows us to create a histogram of input values. In the cell below, we plot the distribution of a uniform random sample of values between 0 and 100.\n"
   ]
  },
  {
   "cell_type": "code",
   "execution_count": 12,
   "metadata": {},
   "outputs": [
    {
     "data": {
      "text/plain": [
       "<matplotlib.axes._subplots.AxesSubplot at 0x7f43b44654d0>"
      ]
     },
     "execution_count": 12,
     "metadata": {},
     "output_type": "execute_result"
    }
   ],
   "source": [
    "sns.distplot(np.random.uniform(0,100, 30))"
   ]
  },
  {
   "cell_type": "markdown",
   "metadata": {},
   "source": [
    "**<span style=\"color:blue\">Question 4.1(b): Using `gdp_numbers` and `sns.distplot`, create a histogram of the distribution of gdp across all countries in our dataset. (2 pt)</span>**"
   ]
  },
  {
   "cell_type": "code",
   "execution_count": 13,
   "metadata": {},
   "outputs": [
    {
     "data": {
      "text/plain": [
       "Ellipsis"
      ]
     },
     "execution_count": 13,
     "metadata": {},
     "output_type": "execute_result"
    }
   ],
   "source": [
    "...#REPLACE ELLIPSIS WITH YOUR PLOT"
   ]
  },
  {
   "cell_type": "markdown",
   "metadata": {},
   "source": [
    "**<span style=\"color:blue\">Question 4.1(c): What do you notice about the shape of the data?  (1 pt)</span>**"
   ]
  },
  {
   "cell_type": "markdown",
   "metadata": {},
   "source": [
    "*YOUR ANSWER HERE*"
   ]
  },
  {
   "cell_type": "markdown",
   "metadata": {},
   "source": [
    "**Part 2**\n",
    "What happens when we take many samples of this data? In the following section, we'll arrive at the Central Limit Theorem.  \n",
    "To begin, we want to calculate the mean and median of our data.   \n",
    "**<span style=\"color:blue\">Question 4.2(a):Using `np.mean` and `np.median`, set `gdp_mean` and `gdp_median` to the appropriate values. (1 pt)</span>**"
   ]
  },
  {
   "cell_type": "code",
   "execution_count": 14,
   "metadata": {},
   "outputs": [
    {
     "name": "stdout",
     "output_type": "stream",
     "text": [
      "The mean GDP in our data is 24,723\n",
      "The median GDP in our data is 22,574\n"
     ]
    }
   ],
   "source": [
    "gdp_mean = np.mean(gdp_numbers)\n",
    "gdp_median = np.median(gdp_numbers)\n",
    "mean_str = \"{:,}\".format(int(gdp_mean))\n",
    "median_str = \"{:,}\".format(int(gdp_median))\n",
    "\n",
    "print(\"The mean GDP in our data is \" + mean_str)\n",
    "print(\"The median GDP in our data is \" + median_str)"
   ]
  },
  {
   "cell_type": "markdown",
   "metadata": {},
   "source": [
    "**<span style=\"color:blue\">Question 4.2(b): Why might we expect the median and mean to differ?. (1 pt)</span>**"
   ]
  },
  {
   "cell_type": "markdown",
   "metadata": {},
   "source": [
    "*YOUR ANSWER HERE*"
   ]
  },
  {
   "cell_type": "markdown",
   "metadata": {},
   "source": [
    "If we want to create a larger sample, we can sample *with replacement* from the data. Sampling with replacement means that each data point will have an equal chance of being drawn regardless of what was previously sampled. In the following cell, we sample five points from the uniform distribution between 0 and 100.Try running the cell a couple times to see what happens."
   ]
  },
  {
   "cell_type": "code",
   "execution_count": 15,
   "metadata": {},
   "outputs": [
    {
     "data": {
      "text/plain": [
       "array([75.85543887, 67.27225945, 67.27225945,  1.73888591,  3.77962014])"
      ]
     },
     "execution_count": 15,
     "metadata": {},
     "output_type": "execute_result"
    }
   ],
   "source": [
    "np.random.choice(np.random.uniform(0,100,30), 5)\n",
    "        #OUR DATA^           Number of samples^"
   ]
  },
  {
   "cell_type": "markdown",
   "metadata": {},
   "source": [
    "Now that we have a sampling function, we can generate synthetic data by sampling from the data n times, where n is the sample size.  \n",
    "**<span style=\"color:blue\">Question 4.2(c): Create a random sample the size of our original data. (2 pts)</span>**"
   ]
  },
  {
   "cell_type": "code",
   "execution_count": 16,
   "metadata": {},
   "outputs": [
    {
     "data": {
      "text/plain": [
       "array([13873, 38766, 18875, 38766, 25346, 18635, 22574, 45600, 38766,\n",
       "       15219, 37334, 23279, 37334, 37334, 41445, 48845, 33419, 48845,\n",
       "       12139, 30110, 13898, 11351, 37334, 12569, 23279, 12139, 27738,\n",
       "        6125, 27738, 23279,  6125, 25346, 11351, 17906, 11529,  6125,\n",
       "       18875, 37124, 16133])"
      ]
     },
     "execution_count": 16,
     "metadata": {},
     "output_type": "execute_result"
    }
   ],
   "source": [
    "n = len(gdp_numbers)\n",
    "fake_data = np.random.choice(gdp_numbers, n)\n",
    "fake_data"
   ]
  },
  {
   "cell_type": "markdown",
   "metadata": {},
   "source": [
    "If we repeat this process many times, we can create a normal distribution from the means of each sample. We have implemented the code to do this for you, so your goal should be to understand why this works."
   ]
  },
  {
   "cell_type": "code",
   "execution_count": 27,
   "metadata": {},
   "outputs": [
    {
     "data": {
      "application/vnd.jupyter.widget-view+json": {
       "model_id": "cae584f4874041f19f9dcd73d64cd603",
       "version_major": 2,
       "version_minor": 0
      },
      "text/plain": [
       "interactive(children=(IntSlider(value=100, description='iterations', max=3000, min=10), Output()), _dom_classe…"
      ]
     },
     "metadata": {},
     "output_type": "display_data"
    }
   ],
   "source": [
    "from utils import bootstrap\n",
    "from ipywidgets import interact, IntSlider, fixed\n",
    "interact(bootstrap, data=fixed(gdp_numbers), iterations=IntSlider(min=10, max=3000, step=1, value=100));"
   ]
  },
  {
   "cell_type": "markdown",
   "metadata": {},
   "source": [
    "**<span style=\"color:blue\">Question 4.2(d): What number of iterations is necessary for a normal distribution? (1 pt)</span>**"
   ]
  },
  {
   "cell_type": "markdown",
   "metadata": {},
   "source": [
    "**Part 3** \n",
    "The code below creates two datasets from our original `gdp` dataset such that one dataset contains the GDPs of countries without an \"L\" in the name and another for countries with an \"L\" in the name. A very self-centered Professor L hypothesizes that countries with an \"L\" in the name much be better and richer. "
   ]
  },
  {
   "cell_type": "code",
   "execution_count": 29,
   "metadata": {},
   "outputs": [],
   "source": [
    "# Separating data between countries with an L and countries without an L \n",
    "countries_with_L = gdp.where('Country', are.containing('l'))\n",
    "\n",
    "countries_no_L = gdp.where('Country', are.not_containing('l'))"
   ]
  },
  {
   "cell_type": "markdown",
   "metadata": {},
   "source": [
    "Run the following cell to calculate the t-test for the countries with and without an l in the name."
   ]
  },
  {
   "cell_type": "code",
   "execution_count": 30,
   "metadata": {
    "scrolled": true
   },
   "outputs": [
    {
     "data": {
      "text/plain": [
       "Ttest_indResult(statistic=1.4245344959707544, pvalue=0.1668310818829151)"
      ]
     },
     "execution_count": 30,
     "metadata": {},
     "output_type": "execute_result"
    }
   ],
   "source": [
    "from scipy import stats\n",
    "\n",
    "stats.ttest_ind(countries_with_L.column('2016'), countries_no_L.column('2016'), equal_var = False)"
   ]
  },
  {
   "cell_type": "markdown",
   "metadata": {},
   "source": [
    "**<span style=\"color:blue\">Question 4.3: What does the result of this t-test suggest? What limitations are present? (2 pts)</span>**"
   ]
  },
  {
   "cell_type": "markdown",
   "metadata": {},
   "source": [
    "*YOUR ANSWER HERE*"
   ]
  }
 ],
 "metadata": {
  "kernelspec": {
   "display_name": "Python 3",
   "language": "python",
   "name": "python3"
  },
  "language_info": {
   "codemirror_mode": {
    "name": "ipython",
    "version": 3
   },
   "file_extension": ".py",
   "mimetype": "text/x-python",
   "name": "python",
   "nbconvert_exporter": "python",
   "pygments_lexer": "ipython3",
   "version": "3.7.3"
  }
 },
 "nbformat": 4,
 "nbformat_minor": 4
}
