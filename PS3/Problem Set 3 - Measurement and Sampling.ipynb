{
 "cells": [
  {
   "cell_type": "markdown",
   "metadata": {},
   "source": [
    "Table of Contents:  \n",
    "1) [Measuring Undemocratic Parties](#gt)  \n",
    "2) [Deaths in War](#war)  \n",
    "3) [Presidential Approval](#putin)  \n",
    "4) [GDP Distributions](#gdp)"
   ]
  },
  {
   "cell_type": "markdown",
   "metadata": {},
   "source": [
    "## 1. Measuring Undemocratic Parties <a class=\"anchor\" id=\"gt\"></a>\n",
    "\n",
    "Political parties are often accused of behaving in an undemocratic manner. Is it possible to come up with a measure of this?\n",
    "\n",
    "Here are two proposals to measure whether parties were undemocratic in 2020. Proposal 1 is to do an expert survey, where those who know a lot about a country are asked to rate parties on a 3 point scale (\"No undemocratic behavior\", \"Minor undemocratic behavior\", \"Major undemocratic behavior\"). Proposal 2 is to come up with 3 examples of undemocratic behaviors which are possible to code systematically (e.g., Did they propose or enact changes to electoral rules in their favor? Did they censor media outlets who criticized the party?), and then count how many of these things a party did in 2020. "
   ]
  },
  {
   "cell_type": "markdown",
   "metadata": {},
   "source": [
    "**<span style=\"color:blue\">1.1 What kind of variable (categorical, ordinal, numeric) would measure 1 produce, and why? (2 pts)</span>**"
   ]
  },
  {
   "cell_type": "markdown",
   "metadata": {},
   "source": [
    "*ANSWER TO 1.1 HERE*"
   ]
  },
  {
   "cell_type": "markdown",
   "metadata": {},
   "source": [
    "**<span style=\"color:blue\">1.2 What kind of variable (categorical, ordinal, numeric) would measure 2 produce, and why? (2 pts) </span>**"
   ]
  },
  {
   "cell_type": "markdown",
   "metadata": {},
   "source": [
    "*ANSWER TO 1.2 HERE*"
   ]
  },
  {
   "cell_type": "markdown",
   "metadata": {},
   "source": [
    "**<span style=\"color:blue\">1.3 Which measure do you think is more reliable, and why? (2 pts)</span>**"
   ]
  },
  {
   "cell_type": "markdown",
   "metadata": {},
   "source": [
    "*ANSWER TO 1.3 HERE*"
   ]
  },
  {
   "cell_type": "markdown",
   "metadata": {},
   "source": [
    "**<span style=\"color:blue\">1.4 Which measure do you think is more valid, and why? (2 pts) </span>**"
   ]
  },
  {
   "cell_type": "markdown",
   "metadata": {},
   "source": [
    "*ANSWER TO 1.4 HERE*"
   ]
  },
  {
   "cell_type": "markdown",
   "metadata": {},
   "source": [
    "## 2. Deaths in War <a class=\"anchor\" id=\"war\"></a>\n",
    "\n",
    "A researcher is interested in the severity of wars across time. She first collects data on wars worldwide, finding the average number of people who died in every war with more than 25,000 deaths."
   ]
  },
  {
   "cell_type": "markdown",
   "metadata": {},
   "source": [
    "She puts together a data frame called `wars` with the following four columns:\n",
    "- `War`: the name of the war\n",
    "- `Location`: the primary location of the war\n",
    "- `Deaths`: the average deaths from the war\n",
    "- `Region`: a more general region where the war took place"
   ]
  },
  {
   "cell_type": "markdown",
   "metadata": {},
   "source": [
    "The cell below imports some libraries and the `wars` table. Run it to create the table!"
   ]
  },
  {
   "cell_type": "code",
   "execution_count": null,
   "metadata": {
    "scrolled": true
   },
   "outputs": [],
   "source": [
    "import numpy as np\n",
    "from scipy import stats\n",
    "from datascience import Table\n",
    "import pandas as pd\n",
    "from datascience.predicates import are\n",
    "import matplotlib.pyplot as plt\n",
    "%matplotlib inline\n",
    "import seaborn as sns\n",
    "\n",
    "wars = Table.read_table('data/wardeaths.csv')\n",
    "wars = wars.to_df()\n",
    "wars"
   ]
  },
  {
   "cell_type": "markdown",
   "metadata": {},
   "source": [
    "Each column of the `wars` data table is made up of an array. As a reminder, you can access the arrays that make up the columns by writing the name of the data frame folled by the variable name in quotation marks and square brackets. Heres an example that will return the array of values that make up the `War` column. "
   ]
  },
  {
   "cell_type": "code",
   "execution_count": null,
   "metadata": {},
   "outputs": [],
   "source": [
    "wars[\"War\"]"
   ]
  },
  {
   "cell_type": "markdown",
   "metadata": {},
   "source": [
    "Recall we can use the `.value_counts()` function to count how often values show up in a column of our data (or any array). For example, this creates a table of some random simulated die rolls and and then makes a table of how often each number comes up. "
   ]
  },
  {
   "cell_type": "code",
   "execution_count": null,
   "metadata": {},
   "outputs": [],
   "source": [
    "# Don't worry about the pd.Index part: \n",
    "# this is just putting our array in a format that value_counts() knows how to work with.\n",
    "fakedata = pd.Index(np.random.randint(1, 7, 200))\n",
    "fakedata.value_counts()"
   ]
  },
  {
   "cell_type": "markdown",
   "metadata": {},
   "source": [
    "**<span style=\"color:blue\"> Question 2.1 Use the `.value_counts()` function to make a table to count the frequencies of the `Region` variable. (1 pt) </span>**"
   ]
  },
  {
   "cell_type": "code",
   "execution_count": null,
   "metadata": {},
   "outputs": [],
   "source": [
    "# Code for 2.1 here\n",
    "wars[\"Region\"].value_counts()"
   ]
  },
  {
   "cell_type": "markdown",
   "metadata": {},
   "source": [
    "The deaths variable is numeric, and so one way to describe the distribution is with a histogram. \n",
    "\n",
    "`sns.distplot(values)` allows us to create a histogram of input values. In the cell below, we plot the distribution of a uniform random sample of values between 0 and 100.\n"
   ]
  },
  {
   "cell_type": "code",
   "execution_count": null,
   "metadata": {},
   "outputs": [],
   "source": [
    "sns.distplot(np.random.uniform(0,100, 30))"
   ]
  },
  {
   "cell_type": "markdown",
   "metadata": {},
   "source": [
    "**<span style=\"color:blue\"> Question 2.2 Make a histogram of the deaths varible. (1 pt) </span>**"
   ]
  },
  {
   "cell_type": "code",
   "execution_count": null,
   "metadata": {},
   "outputs": [],
   "source": [
    "# Code for 2.2 here\n",
    "sns.distplot(wars['Deaths'])"
   ]
  },
  {
   "cell_type": "markdown",
   "metadata": {},
   "source": [
    "You should see that there are a few extremely high observations. One way we can see this is by pulling out a subset of the table. We can do this by putting a \"condition\" in square brackets after the data frame name. For example, this code pulls the wars with relatively few deaths."
   ]
  },
  {
   "cell_type": "code",
   "execution_count": null,
   "metadata": {},
   "outputs": [],
   "source": [
    "wars[wars['Deaths'] < 100000]"
   ]
  },
  {
   "cell_type": "markdown",
   "metadata": {},
   "source": [
    "**<span style=\"color:blue\">Question 2.3. Write a line of code to identify the wars with more than 1 million deaths. (1 pt)</span>**"
   ]
  },
  {
   "cell_type": "code",
   "execution_count": null,
   "metadata": {},
   "outputs": [],
   "source": [
    "# Code for 2.3 here\n",
    "wars[wars['Deaths'] > 10000000]"
   ]
  },
  {
   "cell_type": "markdown",
   "metadata": {},
   "source": [
    "**<span style=\"color:blue\">Question 2.4: Set the `mean_deaths` and `median_deaths` equal to the mean and median deaths using `np.mean` and `np.median` in the cells below.  (2 pts)</span>** "
   ]
  },
  {
   "cell_type": "code",
   "execution_count": null,
   "metadata": {},
   "outputs": [],
   "source": [
    "mean_deaths = np.mean(wars['Deaths'])\n",
    "mean_deaths"
   ]
  },
  {
   "cell_type": "code",
   "execution_count": null,
   "metadata": {},
   "outputs": [],
   "source": [
    "median_deaths= np.median(wars['Deaths'])\n",
    "median_deaths"
   ]
  },
  {
   "cell_type": "markdown",
   "metadata": {},
   "source": [
    "**<span style=\"color:blue\">Question 2.5: Explain why the mean (or median) is larger. (2 pts)</span>** "
   ]
  },
  {
   "cell_type": "markdown",
   "metadata": {},
   "source": [
    "*ANSWER TO 2.5 HERE*"
   ]
  },
  {
   "cell_type": "markdown",
   "metadata": {},
   "source": [
    "Let's see how these measure of typical values change if we drop extreme observations. Run the following lines of code to explore this. "
   ]
  },
  {
   "cell_type": "code",
   "execution_count": null,
   "metadata": {},
   "outputs": [],
   "source": [
    "wars_noww = wars[wars['Deaths'] <= 25000000]\n",
    "np.mean(wars_noww['Deaths'])"
   ]
  },
  {
   "cell_type": "code",
   "execution_count": null,
   "metadata": {},
   "outputs": [],
   "source": [
    "np.median(wars_noww['Deaths'])"
   ]
  },
  {
   "cell_type": "markdown",
   "metadata": {},
   "source": [
    "**<span style=\"color:blue\">Question 2.6. What do these line of code do? (Hints: refer back to the table produced by Question 2.3, and note that `<=` means \"less than or equal to\")? Compare the output here to your answers to Question 2.4  (2 pts) </span>**"
   ]
  },
  {
   "cell_type": "markdown",
   "metadata": {},
   "source": [
    "*ANSWER TO 2.6 HERE*"
   ]
  },
  {
   "cell_type": "markdown",
   "metadata": {},
   "source": [
    "Collecting data on historic wars can be challenging and time consuming. For the sake of illustration, suppose we could only figure this out for a random sample of the wars. A way we can quickly simulate this is with the `.sample` function. For example, the following takes a random sample of the number of deaths from 10 wars:"
   ]
  },
  {
   "cell_type": "code",
   "execution_count": null,
   "metadata": {},
   "outputs": [],
   "source": [
    "wars['Deaths'].sample(10)"
   ]
  },
  {
   "cell_type": "markdown",
   "metadata": {},
   "source": [
    "Let's suppose we had enough resources to collect data on about half of the major wars, or 45. To get a sense of whether this would give us a reliable estimate of the average deaths per war, we can simulate repeated samples of this size with the following code, and then plot the distribution of sample means."
   ]
  },
  {
   "cell_type": "code",
   "execution_count": null,
   "metadata": {},
   "outputs": [],
   "source": [
    "n=45\n",
    "np.random.seed(32020)\n",
    "sample_dist45 = [np.mean(wars['Deaths'].sample(n)) for _ in range(10000)]\n",
    "sns.distplot(sample_dist45)\n",
    "plt.axvline(np.mean(wars['Deaths']), ymax=1, color='r')"
   ]
  },
  {
   "cell_type": "markdown",
   "metadata": {},
   "source": [
    "Note that this isn't quite normally distributed around the real average (represented by the red line): in fact there are two peaks, one below the real average and one above. \n",
    "\n",
    "**<span style=\"color:blue\"> Ungraded question: what explains this pattern? (Hint: how often will our sample include World War II? </span>)**"
   ]
  },
  {
   "cell_type": "markdown",
   "metadata": {},
   "source": [
    "*ANSWER TO UNGRADED QUESTION*"
   ]
  },
  {
   "cell_type": "markdown",
   "metadata": {},
   "source": [
    "One way to make our analysis closer to the ideal of the Central Limit Theorem is to not include the most extreme wars, subsetting to those with fewer than a million deaths."
   ]
  },
  {
   "cell_type": "code",
   "execution_count": null,
   "metadata": {},
   "outputs": [],
   "source": [
    "wars_nobig = wars[wars['Deaths'] < 1000000]"
   ]
  },
  {
   "cell_type": "code",
   "execution_count": null,
   "metadata": {},
   "outputs": [],
   "source": [
    "n=45\n",
    "np.random.seed(32020)\n",
    "# Drawing samples with size 10 and 100\n",
    "sample_dist_nobig = [np.mean(wars_nobig['Deaths'].sample(n)) for _ in range(10000)]\n",
    "# Plotting the two distributions\n",
    "sns.distplot(sample_dist_nobig)\n",
    "plt.axvline(np.mean(wars_nobig['Deaths']), ymax=1, color='r')"
   ]
  },
  {
   "cell_type": "markdown",
   "metadata": {},
   "source": [
    "Let's compare this to what would happen if we only had the time to collect data on 20 wars. "
   ]
  },
  {
   "cell_type": "code",
   "execution_count": null,
   "metadata": {},
   "outputs": [],
   "source": [
    "smalln=10\n",
    "np.random.seed(32020)\n",
    "# Drawing samples with size 10 and 100\n",
    "smallsample_dist_nobig = [np.mean(wars_nobig['Deaths'].sample(smalln)) for _ in range(10000)]\n",
    "# Plotting the two distributions\n",
    "sns.distplot(sample_dist_nobig)\n",
    "sns.distplot(smallsample_dist_nobig)\n",
    "plt.axvline(np.mean(wars_nobig['Deaths']), ymax=1, color='r')"
   ]
  },
  {
   "cell_type": "markdown",
   "metadata": {},
   "source": [
    "**<span style=\"color:blue\">Question 2.5 Identify three aspects of the Central Limit Theorem which are illustrated by this picture. (3 pts.) </span>**"
   ]
  },
  {
   "cell_type": "markdown",
   "metadata": {},
   "source": [
    "*ANSWER TO 2.5 HERE*"
   ]
  },
  {
   "cell_type": "markdown",
   "metadata": {},
   "source": [
    "While it is less realistic, one way we can illustrate the theoretical properties of the Central Limit Theorem is to sample *with replacement* from the data, which allows us to take very large samples even from a small population. In the following cell, we can see that with big enough samples, means from the original data with the outliers of the World Wars are still roughly normally distributed:"
   ]
  },
  {
   "cell_type": "code",
   "execution_count": null,
   "metadata": {},
   "outputs": [],
   "source": [
    "replacen=20000\n",
    "np.random.seed(32020)\n",
    "# Drawing samples with size 10 and 100\n",
    "sample_dist_rep = [np.mean(np.random.choice(wars['Deaths'], replacen)) for _ in range(10000)]\n",
    "# Plotting the two distributions\n",
    "sns.distplot(sample_dist_rep)\n",
    "plt.axvline(np.mean(wars['Deaths']), ymax=1, color='r')"
   ]
  },
  {
   "cell_type": "markdown",
   "metadata": {},
   "source": [
    "The theoretical result of the Central Limit Theorem predicts that the standard deviation of the sampling distribution will be:"
   ]
  },
  {
   "cell_type": "code",
   "execution_count": null,
   "metadata": {},
   "outputs": [],
   "source": [
    "np.std(wars['Deaths'])/np.sqrt(replacen)"
   ]
  },
  {
   "cell_type": "markdown",
   "metadata": {},
   "source": [
    "<span style=\"color:blue\">**Question 2.6. Write a line of code to check that the standard deviation of the samplign distribution is very close to the theoretical prediction. (1 pt)**</span>"
   ]
  },
  {
   "cell_type": "code",
   "execution_count": null,
   "metadata": {},
   "outputs": [],
   "source": [
    "# Code for 2.6 below\n",
    "np.std(sample_dist_rep)"
   ]
  },
  {
   "cell_type": "markdown",
   "metadata": {},
   "source": [
    "## 3. Presidential Approval <a class=\"anchor\" id=\"putin\"></a>\n",
    "In this question, we will explore Russian presidential approval rating. We use data from the Levada Center, which conducts public opinion polls in Russia, which are generally considered among the most credible surveys in a non-democratic country. Their most recent poll in August 2020, with a sample of 1600, found that 69% of respondents approve of Vladimir Putin’s performance as Prime Minister.  \n",
    "\n",
    "The following cell loads in Putin's approval as the table `putin`."
   ]
  },
  {
   "cell_type": "code",
   "execution_count": null,
   "metadata": {},
   "outputs": [],
   "source": [
    "from utils import table_dict, time\n",
    "from datascience import Table\n",
    "import pandas as pd\n",
    "import numpy as np\n",
    "import matplotlib.pyplot as plt\n",
    "import seaborn as sns \n",
    "import scipy.stats as stats\n",
    "%matplotlib inline\n",
    "\n",
    "putin = Table().with_columns(table_dict)\n",
    "putin"
   ]
  },
  {
   "cell_type": "markdown",
   "metadata": {},
   "source": [
    "For a better visual of Putin's approval, we will graph his approval and disapproval ratings between 1999 and 2020. For now, you don't need to know how the plotting works, but it's useful to get an idea of the data."
   ]
  },
  {
   "cell_type": "code",
   "execution_count": null,
   "metadata": {},
   "outputs": [],
   "source": [
    "#Plot Putin's approval rates against his disapproval rates from 1999 to 2020\n",
    "putin = putin.to_df()\n",
    "putin.plot(figsize=(8, 6), linewidth=2.5)\n",
    "sns.set(font_scale=1.4)\n",
    "plt.xlabel(\"Date\", labelpad=15)\n",
    "plt.ylabel(\"Percentage of People\", labelpad=15)\n",
    "plt.title(\"Putin's Approval Ratings\", y=1.02, fontsize=22);\n"
   ]
  },
  {
   "cell_type": "markdown",
   "metadata": {},
   "source": [
    "If we want to know the highest and lowest approval ratings registered we can use the `min` and `max` functions:"
   ]
  },
  {
   "cell_type": "code",
   "execution_count": null,
   "metadata": {},
   "outputs": [],
   "source": [
    "np.min(putin[\"Approved\"])"
   ]
  },
  {
   "cell_type": "code",
   "execution_count": null,
   "metadata": {},
   "outputs": [],
   "source": [
    "np.max(putin[\"Approved\"])"
   ]
  },
  {
   "cell_type": "markdown",
   "metadata": {},
   "source": [
    "And figure out when these numbers were recorded using some similar tricks as section 2:"
   ]
  },
  {
   "cell_type": "code",
   "execution_count": null,
   "metadata": {},
   "outputs": [],
   "source": [
    "putin[putin[\"Approved\"] == 31]"
   ]
  },
  {
   "cell_type": "code",
   "execution_count": null,
   "metadata": {},
   "outputs": [],
   "source": [
    "putin[putin[\"Approved\"] == 89]"
   ]
  },
  {
   "cell_type": "markdown",
   "metadata": {},
   "source": [
    "Suppose that the August 1999 survey was a simple random sample with 1500 respondents. The standard error of the estimate for approval would then be:"
   ]
  },
  {
   "cell_type": "code",
   "execution_count": null,
   "metadata": {},
   "outputs": [],
   "source": [
    "se_aug99 = np.sqrt((.31)*(1-.31)/1500)\n",
    "se_aug99"
   ]
  },
  {
   "cell_type": "markdown",
   "metadata": {},
   "source": [
    "And a 95% confidence interval has lower and upper bounds:"
   ]
  },
  {
   "cell_type": "code",
   "execution_count": null,
   "metadata": {},
   "outputs": [],
   "source": [
    "lower_aug99 = .31 - 1.96*se_aug99\n",
    "upper_aug99 = .31 + 1.96*se_aug99\n",
    "print('The 95% confidence interval is ['+ str(lower_aug99)+' , '+ str(upper_aug99)+ ']')"
   ]
  },
  {
   "cell_type": "markdown",
   "metadata": {},
   "source": [
    "**<span style=\"color:blue\">Question 3.1. Suppose the June 2015 survey was a simple random sample with 1600 respondents. Modify the code below to set `se_jun15` to the standard error on the approval. (1 pt)**"
   ]
  },
  {
   "cell_type": "code",
   "execution_count": null,
   "metadata": {},
   "outputs": [],
   "source": [
    "se_jun15 = np.sqrt(.89*(1-.89)/1600)\n",
    "se_jun15"
   ]
  },
  {
   "cell_type": "markdown",
   "metadata": {},
   "source": [
    "**<span style=\"color:blue\">Question 3.2: Modify the code below to produce a 95% confidence interval for the June 2015 approval rating (2 pts)</span>** "
   ]
  },
  {
   "cell_type": "code",
   "execution_count": null,
   "metadata": {},
   "outputs": [],
   "source": [
    "lower_jun15 = .89 - 1.96*se_jun15\n",
    "upper_jun15 = .89 + 1.96*se_jun15\n",
    "print('The 95% confidence interval is ['+ str(lower_jun15)+' , '+ str(upper_jun15)+ ']')"
   ]
  },
  {
   "cell_type": "markdown",
   "metadata": {},
   "source": [
    "**<span style=\"color:blue\"> Question 3.3. Now write code in the cell below to produce a 90% confidence interval. As a reminder, for any normally distributed variable about 90% of the data will lie within 1.64 standard deviations of the mean. (1 pt) </span>**"
   ]
  },
  {
   "cell_type": "code",
   "execution_count": null,
   "metadata": {},
   "outputs": [],
   "source": [
    "# Code for 3.3 here\n",
    "lower_jun15_90 = .89 - 1.64*se_jun15\n",
    "upper_jun15_90 = .89 + 1.64*se_jun15\n",
    "print('The 90% confidence interval is ['+ str(lower_jun15)+' , '+ str(upper_jun15)+ ']')"
   ]
  },
  {
   "cell_type": "markdown",
   "metadata": {},
   "source": [
    "**<span style=\"color:blue\">Question 3.4. Compare your answers to 3.2 and 3.3. Which interval is \"wider\", and why? (2 pts)</span>**"
   ]
  },
  {
   "cell_type": "markdown",
   "metadata": {},
   "source": [
    "*ANSWER TO 3.4 HERE*"
   ]
  },
  {
   "cell_type": "markdown",
   "metadata": {},
   "source": [
    "Now let's ask whether Putin is more or less popular in some subgroups. Here is a formula we can use to calculate a standard error for a difference of proportions."
   ]
  },
  {
   "cell_type": "code",
   "execution_count": null,
   "metadata": {},
   "outputs": [],
   "source": [
    "def se_dprop(p1, p2, n1, n2):\n",
    "    sd1 = np.sqrt(p1*(1-p1))\n",
    "    sd2 = np.sqrt(p2*(1-p2))\n",
    "    return np.sqrt((sd1**2)/n1 + (sd2**2)/n2)"
   ]
  },
  {
   "cell_type": "markdown",
   "metadata": {},
   "source": [
    "For example, if Group 1 is 500 people and 10% support a candidate, and group 2 has 700 people and 20% support, the standard error for the the difference of proportions between the groups is:"
   ]
  },
  {
   "cell_type": "code",
   "execution_count": null,
   "metadata": {},
   "outputs": [],
   "source": [
    "se_dprop(p1=.1, p2=.2, n1=500, n2=700)"
   ]
  },
  {
   "cell_type": "markdown",
   "metadata": {},
   "source": [
    "In the June 2020 Survey, the overall approval was 60%. Suppose that 480 people in the sample live in the Moscow area, and among these residents the approval rating was 55% while the remaining 1120 of residents outside of Moscow give Putin a 72% approval rating.\n",
    "\n",
    "**<span style=\"color:blue\"> Question 3.5 Use the `se_dprop` function to compute the standard error on this difference in approval (1 pt) </span>**"
   ]
  },
  {
   "cell_type": "code",
   "execution_count": null,
   "metadata": {},
   "outputs": [],
   "source": [
    "se_putin_diff = se_dprop(p1=.55, p2=.72, n1=480, n2=1120)\n",
    "se_putin_diff"
   ]
  },
  {
   "cell_type": "markdown",
   "metadata": {},
   "source": [
    "<span style=\"color:blue\">**Question 3.6. Now, write some code like you used for question 3.2 to compute a 95% confidence interval for the difference in Putin approval rating (2 pts)**</span>"
   ]
  },
  {
   "cell_type": "code",
   "execution_count": null,
   "metadata": {},
   "outputs": [],
   "source": [
    "# Code for 3.5 here\n",
    "lower_diff = .55 - .72 - 1.96*se_putin_diff\n",
    "upper_diff = .55 -.72 + 1.96*se_putin_diff\n",
    "print('The 90% confidence interval is ['+ str(lower_diff)+' , '+ str(upper_diff)+ ']')"
   ]
  },
  {
   "cell_type": "markdown",
   "metadata": {},
   "source": [
    "**<span style=\"color:blue\">Question 3.7. Does 0 lie in this confidence interval? Interpret this finding. (2 pts) </span>**"
   ]
  },
  {
   "cell_type": "markdown",
   "metadata": {},
   "source": [
    "*ANSWER TO 3.5 HERE*"
   ]
  }
 ],
 "metadata": {
  "kernelspec": {
   "display_name": "Python 3",
   "language": "python",
   "name": "python3"
  },
  "language_info": {
   "codemirror_mode": {
    "name": "ipython",
    "version": 3
   },
   "file_extension": ".py",
   "mimetype": "text/x-python",
   "name": "python",
   "nbconvert_exporter": "python",
   "pygments_lexer": "ipython3",
   "version": "3.7.9"
  }
 },
 "nbformat": 4,
 "nbformat_minor": 4
}
