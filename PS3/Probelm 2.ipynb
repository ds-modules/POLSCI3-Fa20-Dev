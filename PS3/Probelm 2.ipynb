{
 "cells": [
  {
   "cell_type": "code",
   "execution_count": 37,
   "metadata": {},
   "outputs": [],
   "source": [
    "import numpy as np\n",
    "%store -r deaths_gdp\n",
    "from scipy import stats\n",
    "from datascience import Table\n",
    "from datascience.predicates import are"
   ]
  },
  {
   "cell_type": "markdown",
   "metadata": {},
   "source": [
    "## Question 2\n",
    "\n",
    "A researcher is interested in the effect of having a high GDP (Gross Domestic Product) on how many people die in wars. She first collects data on wars worldwide, finding the average number of people who died in every war with more than 25,000 deaths."
   ]
  },
  {
   "cell_type": "markdown",
   "metadata": {},
   "source": [
    "First lets take the table `deaths_gdp` which contains wars worldwide since the year 1850 and turn it into a table that you are more familiar working with. We will call the table `wars`. The table contains four columns:\n",
    "- `War`: the name of the war\n",
    "- `Location`: where the war took place\n",
    "- `GDP_range`: whether the GDP of the country that the war took place had a high or low GDP based on the time the war took place\n",
    "- `Deaths`: The average deaths from the war"
   ]
  },
  {
   "cell_type": "markdown",
   "metadata": {},
   "source": [
    "Run the cell below to view the table"
   ]
  },
  {
   "cell_type": "code",
   "execution_count": 38,
   "metadata": {},
   "outputs": [
    {
     "data": {
      "text/html": [
       "<table border=\"1\" class=\"dataframe\">\n",
       "    <thead>\n",
       "        <tr>\n",
       "            <th>War</th> <th>Location</th> <th>GDP_range</th> <th>Deaths</th>\n",
       "        </tr>\n",
       "    </thead>\n",
       "    <tbody>\n",
       "        <tr>\n",
       "            <td>Taiping Rebellion            </td> <td>china        </td> <td>low      </td> <td>25000000</td>\n",
       "        </tr>\n",
       "        <tr>\n",
       "            <td>Crimean War                  </td> <td>uk           </td> <td>high     </td> <td>383000  </td>\n",
       "        </tr>\n",
       "        <tr>\n",
       "            <td>Panthay Rebellion            </td> <td>china        </td> <td>low      </td> <td>945000  </td>\n",
       "        </tr>\n",
       "        <tr>\n",
       "            <td>Indian Rebellion of 1857     </td> <td>india        </td> <td>low      </td> <td>900000  </td>\n",
       "        </tr>\n",
       "        <tr>\n",
       "            <td>American Civil War           </td> <td>united states</td> <td>high     </td> <td>825000  </td>\n",
       "        </tr>\n",
       "        <tr>\n",
       "            <td>Dungan Revolt                </td> <td>china        </td> <td>low      </td> <td>14000000</td>\n",
       "        </tr>\n",
       "        <tr>\n",
       "            <td>French intervention in Mexico</td> <td>mexico       </td> <td>low      </td> <td>49287   </td>\n",
       "        </tr>\n",
       "        <tr>\n",
       "            <td>Paraguayan War               </td> <td>south america</td> <td>low      </td> <td>750000  </td>\n",
       "        </tr>\n",
       "        <tr>\n",
       "            <td>Ten Years' War               </td> <td>cuba         </td> <td>low      </td> <td>241000  </td>\n",
       "        </tr>\n",
       "        <tr>\n",
       "            <td>Conquest of the Desert       </td> <td>patagonia    </td> <td>low      </td> <td>32500   </td>\n",
       "        </tr>\n",
       "    </tbody>\n",
       "</table>\n",
       "<p>... (83 rows omitted)</p>"
      ],
      "text/plain": [
       "War                           | Location      | GDP_range | Deaths\n",
       "Taiping Rebellion             | china         | low       | 25000000\n",
       "Crimean War                   | uk            | high      | 383000\n",
       "Panthay Rebellion             | china         | low       | 945000\n",
       "Indian Rebellion of 1857      | india         | low       | 900000\n",
       "American Civil War            | united states | high      | 825000\n",
       "Dungan Revolt                 | china         | low       | 14000000\n",
       "French intervention in Mexico | mexico        | low       | 49287\n",
       "Paraguayan War                | south america | low       | 750000\n",
       "Ten Years' War                | cuba          | low       | 241000\n",
       "Conquest of the Desert        | patagonia     | low       | 32500\n",
       "... (83 rows omitted)"
      ]
     },
     "execution_count": 38,
     "metadata": {},
     "output_type": "execute_result"
    }
   ],
   "source": [
    "wars=Table.from_df(deaths_gdp)\n",
    "wars"
   ]
  },
  {
   "cell_type": "markdown",
   "metadata": {},
   "source": [
    "Lets continue to explore the NumPy method you practiced in Problem Set 2 `np.median` along with another method `np.mean`. `np.mean` can be used similar to `np.median` taking in an array of numbers (columns in a table like `wars` are made up of arrays of numbers), but instead of computing the median it computes the mean value of the array.\n",
    "\n",
    "To practice how `np.mean`works run the two cells below which will create an array called `nums` and demonstrate how to calculate the mean of the array."
   ]
  },
  {
   "cell_type": "code",
   "execution_count": 39,
   "metadata": {},
   "outputs": [],
   "source": [
    "nums = [1,2,3,4,5,6]"
   ]
  },
  {
   "cell_type": "code",
   "execution_count": 40,
   "metadata": {},
   "outputs": [
    {
     "data": {
      "text/plain": [
       "3.5"
      ]
     },
     "execution_count": 40,
     "metadata": {},
     "output_type": "execute_result"
    }
   ],
   "source": [
    "np.mean(nums)"
   ]
  },
  {
   "cell_type": "markdown",
   "metadata": {},
   "source": [
    "Each column of the `wars` data table is made up of an array. You can access the arrays that make up the columns by using `.column()` with the column name as an input. Heres an example that will return the array of values that make up the `War` column. "
   ]
  },
  {
   "cell_type": "code",
   "execution_count": 41,
   "metadata": {},
   "outputs": [
    {
     "data": {
      "text/plain": [
       "array(['Taiping Rebellion', 'Crimean War', 'Panthay Rebellion',\n",
       "       'Indian Rebellion of 1857', 'American Civil War', 'Dungan Revolt',\n",
       "       'French intervention in Mexico', 'Paraguayan War',\n",
       "       \"Ten Years' War\", 'Conquest of the Desert', 'Aceh War',\n",
       "       'First Sino–Japanese War', 'Cuban War of Independence',\n",
       "       \"Thousand Days' War\", 'South African War (Second Boer War)',\n",
       "       'Philippine–American War', 'Mexican Revolution', 'Balkan Wars',\n",
       "       'World War I', 'Russian Civil War', 'Iraqi–Kurdish conflict',\n",
       "       'Kurdish rebellions in Turkey', 'Second Italo-Senussi War',\n",
       "       'Chinese Civil War', 'Chaco War', 'Second Italo-Ethiopian War',\n",
       "       'Spanish Civil War', 'Second Sino-Japanese War', 'World War II',\n",
       "       'Winter War', 'Greco-Italian War', 'Continuation War',\n",
       "       'Soviet–Japanese War', 'First Indochina War', 'Greek Civil War',\n",
       "       'Malagasy Uprising', 'Kashmir Conflict', 'La Violencia',\n",
       "       'Internal conflict in Myanmar', 'Arab–Israeli conflict',\n",
       "       'Indian annexation of Hyderabad', 'Korean War', 'Algerian War',\n",
       "       'Ethnic conflict in Nagaland', 'Vietnam War',\n",
       "       'First Sudanese Civil War', 'Congo Crisis',\n",
       "       'Angolan War of Independence', 'North Yemen Civil War',\n",
       "       'Mozambican War of Independence', 'Insurgency in Northeast India',\n",
       "       'Colombian conflict', 'Nigerian Civil War', 'Moro Conflict',\n",
       "       'CPP-NPA-NDF rebellion', 'Bangladesh Liberation War',\n",
       "       'Ethiopian Civil War', 'Angolan Civil War', 'Lebanese Civil War',\n",
       "       'Insurgency in Laos', 'War in Afghanistan',\n",
       "       'Kurdish–Turkish conflict', 'Soviet–Afghan War',\n",
       "       'Salvadoran Civil War', 'Iran–Iraq War',\n",
       "       'Internal conflict in Peru', 'Ugandan Bush War',\n",
       "       'Second Sudanese Civil War', 'Sri Lankan Civil War',\n",
       "       'Somali Civil War', \"Lord's Resistance Army insurgency\",\n",
       "       'Nagorno-Karabakh War', 'Gulf War', 'Algerian Civil War',\n",
       "       'Bosnian War', '1991 Iraqi Civil War', 'Sierra Leone Civil War',\n",
       "       'Burundian Civil War', 'Rwandan genocide', 'First Congo War',\n",
       "       'Second Congo War', 'Ituri conflict', 'War on Terror',\n",
       "       'War in Afghanistan (2001–present)', 'Iraq War', 'War in Darfur',\n",
       "       'Kivu Conflict', 'War in North-West Pakistan', 'Mexican Drug War',\n",
       "       'Boko Haram insurgency', 'Syrian Civil War',\n",
       "       'Iraqi Civil War (2014–2017)', 'Yemeni Civil War'], dtype='<U35')"
      ]
     },
     "execution_count": 41,
     "metadata": {},
     "output_type": "execute_result"
    }
   ],
   "source": [
    "wars.column(\"War\")"
   ]
  },
  {
   "cell_type": "markdown",
   "metadata": {},
   "source": [
    "**Part I**"
   ]
  },
  {
   "cell_type": "markdown",
   "metadata": {},
   "source": [
    "Set the `mean_deaths` and `median_deaths` equal to the mean and median deaths using `np.mean` and `np.median` in the cells below. "
   ]
  },
  {
   "cell_type": "code",
   "execution_count": 29,
   "metadata": {},
   "outputs": [
    {
     "ename": "SyntaxError",
     "evalue": "invalid syntax (<ipython-input-29-1fe5a6a55e1d>, line 1)",
     "output_type": "error",
     "traceback": [
      "\u001b[1;36m  File \u001b[1;32m\"<ipython-input-29-1fe5a6a55e1d>\"\u001b[1;36m, line \u001b[1;32m1\u001b[0m\n\u001b[1;33m    mean_deaths =\u001b[0m\n\u001b[1;37m                  ^\u001b[0m\n\u001b[1;31mSyntaxError\u001b[0m\u001b[1;31m:\u001b[0m invalid syntax\n"
     ]
    }
   ],
   "source": [
    "mean_deaths = \n",
    "mean_deaths"
   ]
  },
  {
   "cell_type": "code",
   "execution_count": null,
   "metadata": {},
   "outputs": [],
   "source": [
    "median_deaths= \n",
    "median_deaths"
   ]
  },
  {
   "cell_type": "markdown",
   "metadata": {},
   "source": [
    "Is the mean or median of deaths larger? Write a sentence or two about why this is in the cell below."
   ]
  },
  {
   "cell_type": "markdown",
   "metadata": {},
   "source": [
    "*Answer in this cell*"
   ]
  },
  {
   "cell_type": "markdown",
   "metadata": {},
   "source": [
    "**Part 2**"
   ]
  },
  {
   "cell_type": "markdown",
   "metadata": {},
   "source": [
    "Do you think mean or median is a better judge of how many lives are typically lost during a war?"
   ]
  },
  {
   "cell_type": "markdown",
   "metadata": {},
   "source": [
    "*Answer in this cell*"
   ]
  },
  {
   "cell_type": "markdown",
   "metadata": {},
   "source": [
    "**Part 3**"
   ]
  },
  {
   "cell_type": "markdown",
   "metadata": {},
   "source": [
    "She then computes two arrays: `high_gdp` which contains the death tolls from wars that took place in countries with a high GDP and `low_gdp` which contains the death tolls from wars that took place in countries with a low GDP. Run the two cells below to view the arrays `high_gdp` and `low_gdp`."
   ]
  },
  {
   "cell_type": "code",
   "execution_count": 42,
   "metadata": {},
   "outputs": [
    {
     "data": {
      "text/plain": [
       "array([  383000,   825000, 28000000,  7000000,   229450,   100000,\n",
       "       70562500,    27000,   387300,   116074,   694500,   766000,\n",
       "         529982,   100000,   200000,   570000,   197500])"
      ]
     },
     "execution_count": 42,
     "metadata": {},
     "output_type": "execute_result"
    }
   ],
   "source": [
    "high_gdp = wars.where('GDP_range', are.equal_to('high')).column('Deaths')\n",
    "high_gdp"
   ]
  },
  {
   "cell_type": "code",
   "execution_count": 43,
   "metadata": {},
   "outputs": [
    {
     "data": {
      "text/plain": [
       "array([25000000,   945000,   900000, 14000000,    49287,   750000,\n",
       "         241000,    32500,   102000,    48311,   362000,   120000,\n",
       "          81500,   234000,  1250000,   140000,    40000,  8000000,\n",
       "         107500,   278000,   750000, 22500000,   174286,    64594,\n",
       "         400000,   158000,    50171,    95000,   193700,   190000,\n",
       "         135500,  3000000,   950000,    34000,  3350000,   500000,\n",
       "         100000,    93000,   150000,    76000,    25000,   220000,\n",
       "        2000000,   120000,    36500,  3000000,  1000000,   504158,\n",
       "         135000,   100000,  1620000,    45000,  1300000,    75000,\n",
       "          70000,   300000,  1500000,    90000,   400000,   300000,\n",
       "          38000,    33000,   122000,   101000,   160000,   175000,\n",
       "         300000,   800000,   525000,  3950000,    60000,    54500,\n",
       "         300000,    62450,    51567,   112000])"
      ]
     },
     "execution_count": 43,
     "metadata": {},
     "output_type": "execute_result"
    }
   ],
   "source": [
    "low_gdp = wars.where(\"GDP_range\", are.equal_to('low')).column(\"Deaths\")\n",
    "low_gdp"
   ]
  },
  {
   "cell_type": "markdown",
   "metadata": {},
   "source": [
    "She then wants to find the averages of deaths in countries with high GDP's versus the averages of deaths in countries with low GDP's. She uses `np.mean` in the cell below and uses a print statement to report her findings. Run the cell below to see the averages of deaths in high GDP countries and low GDP countries."
   ]
  },
  {
   "cell_type": "code",
   "execution_count": 44,
   "metadata": {},
   "outputs": [
    {
     "name": "stdout",
     "output_type": "stream",
     "text": [
      "The average deaths for a war in a country with a high GDP is 6511077.0\n",
      "The average deaths for a war in a country with a low GDP is 1385928.0\n"
     ]
    }
   ],
   "source": [
    "mean_high_gdp = np.mean(high_gdp)\n",
    "\n",
    "mean_low_gdp = np.mean(low_gdp)\n",
    "\n",
    "print('The average deaths for a war in a country with a high GDP is ' + str(mean_high_gdp.round()))\n",
    "print('The average deaths for a war in a country with a low GDP is ' + str(mean_low_gdp.round()))"
   ]
  },
  {
   "cell_type": "markdown",
   "metadata": {},
   "source": [
    "Lets run a t-test and find the p-value of the difference of means test. We can do this using a helpful Python library similar to NumPy called SciPy. `scipy.stats.ttest_ind` is a method in SciPy that will help us run a t-test for the means of two independent samples and will give us the test statistic along with the p-value for our data.`scipy.stats.ttest_ind` takes in two arrays that contain the data of these independant samples. In this case the two arrays that contain the data of the independant samples are `high_gdp` and `low_gdp`.\n",
    "\n",
    "Use `scipy.stats.ttest_ind`, `high_gdp_deaths`, and `low_gdp_deaths` to run a t-test and find the p-value in the cell below, assigning your answer to the variable t_test."
   ]
  },
  {
   "cell_type": "code",
   "execution_count": 46,
   "metadata": {},
   "outputs": [
    {
     "data": {
      "text/plain": [
       "Ellipsis"
      ]
     },
     "execution_count": 46,
     "metadata": {},
     "output_type": "execute_result"
    }
   ],
   "source": [
    "t_test = \n",
    "t_test"
   ]
  },
  {
   "cell_type": "markdown",
   "metadata": {},
   "source": [
    "What does the p-value you found tell us about the 95% confidence interval for the difference of means? (You don’t need to figure out what it is exactly, just an important property of the interval.) Write your response in the cell below."
   ]
  },
  {
   "cell_type": "markdown",
   "metadata": {},
   "source": [
    "*Answer in this cell*"
   ]
  },
  {
   "cell_type": "markdown",
   "metadata": {},
   "source": [
    "**Part 4**"
   ]
  },
  {
   "cell_type": "markdown",
   "metadata": {},
   "source": [
    "In writing up these results, the researcher determines that there is a statistically significant difference between the number of deaths in wars with countries that have high GDP and countries that have a low GDP. What might the researcher be missing that could be resulting in this outcome. "
   ]
  },
  {
   "cell_type": "markdown",
   "metadata": {},
   "source": [
    "*Answer in this cell*"
   ]
  }
 ],
 "metadata": {
  "kernelspec": {
   "display_name": "Python 3",
   "language": "python",
   "name": "python3"
  },
  "language_info": {
   "codemirror_mode": {
    "name": "ipython",
    "version": 3
   },
   "file_extension": ".py",
   "mimetype": "text/x-python",
   "name": "python",
   "nbconvert_exporter": "python",
   "pygments_lexer": "ipython3",
   "version": "3.7.3"
  }
 },
 "nbformat": 4,
 "nbformat_minor": 4
}
