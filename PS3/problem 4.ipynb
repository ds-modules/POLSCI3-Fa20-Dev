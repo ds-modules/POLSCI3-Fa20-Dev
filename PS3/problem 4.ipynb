{
 "cells": [
  {
   "cell_type": "code",
   "execution_count": 63,
   "metadata": {},
   "outputs": [],
   "source": [
    "import pandas as pd\n",
    "import numpy as np\n",
    "import seaborn as sns \n",
    "import sklearn\n",
    "import matplotlib.pyplot as plt\n",
    "%matplotlib inline\n",
    "import warnings\n",
    "sns.set_palette(\"Blues_d\")\n",
    "import datascience\n",
    "from datascience import Table\n",
    "from datascience.predicates import are\n",
    "\n",
    "from IPython.display import HTML\n",
    "\n",
    "# import the widgets module\n",
    "import ipywidgets as widgets\n",
    "from ipywidgets import interact, interactive, fixed, interact_manual, IntSlider\n",
    "\n",
    "warnings.filterwarnings(\"ignore\")\n",
    "sns.set(style=\"whitegrid\")"
   ]
  },
  {
   "cell_type": "code",
   "execution_count": 58,
   "metadata": {},
   "outputs": [
    {
     "data": {
      "text/html": [
       "<table border=\"1\" class=\"dataframe\">\n",
       "    <thead>\n",
       "        <tr>\n",
       "            <th>Country</th> <th>2016</th>\n",
       "        </tr>\n",
       "    </thead>\n",
       "    <tbody>\n",
       "        <tr>\n",
       "            <td>uk         </td> <td>37334</td>\n",
       "        </tr>\n",
       "        <tr>\n",
       "            <td>netherlands</td> <td>45600</td>\n",
       "        </tr>\n",
       "        <tr>\n",
       "            <td>belgium    </td> <td>38766</td>\n",
       "        </tr>\n",
       "        <tr>\n",
       "            <td>france     </td> <td>37124</td>\n",
       "        </tr>\n",
       "        <tr>\n",
       "            <td>germany    </td> <td>44689</td>\n",
       "        </tr>\n",
       "    </tbody>\n",
       "</table>\n",
       "<p>... (34 rows omitted)</p>"
      ],
      "text/plain": [
       "<IPython.core.display.HTML object>"
      ]
     },
     "metadata": {},
     "output_type": "display_data"
    }
   ],
   "source": [
    "gdp = Table.read_table('data/gdp.csv')\n",
    "gdp.show(5)"
   ]
  },
  {
   "cell_type": "markdown",
   "metadata": {},
   "source": [
    "**Part 1** : We are interested in the **distribution** of the GDP for all countries in our dataset. A **histogram** allows us to visualize this distribution. First, run the cell below to generate a list of gdps from our `gdp` dataset."
   ]
  },
  {
   "cell_type": "code",
   "execution_count": 59,
   "metadata": {},
   "outputs": [
    {
     "data": {
      "text/plain": [
       "array([37334, 45600, 38766, 37124, 44689, 41445, 37239, 23635,  9214,\n",
       "       18635, 15416, 27738, 23279, 24838, 33419, 30110, 25346, 22574,\n",
       "       17906, 11351, 13898, 11529, 16783, 10911,  6125, 12569, 36103,\n",
       "       37465, 53015, 43745, 16133,  1728,  7889, 13873, 15219, 21696,\n",
       "       18875, 12139, 48845])"
      ]
     },
     "execution_count": 59,
     "metadata": {},
     "output_type": "execute_result"
    }
   ],
   "source": [
    "gdp_numbers = gdp.column('2016')\n",
    "gdp_numbers"
   ]
  },
  {
   "cell_type": "markdown",
   "metadata": {},
   "source": [
    "**<span style=\"color:blue\"> `sns.distplot(values)` allows us to create a histogram of the input values. In the cell below, use the data defined above, `gdp_numbers` and the function `sns.distplot`, to create a histogram of the distribution of gdp across all countries in our dataset. (1 pt)</span>** "
   ]
  },
  {
   "cell_type": "code",
   "execution_count": 14,
   "metadata": {},
   "outputs": [
    {
     "data": {
      "image/png": "[encoded data removed]",
      "text/plain": [
       "<Figure size 432x288 with 1 Axes>"
      ]
     },
     "metadata": {},
     "output_type": "display_data"
    }
   ],
   "source": [
    "sns.distplot(gdp_numbers);"
   ]
  },
  {
   "cell_type": "markdown",
   "metadata": {},
   "source": [
    "**<span style=\"color:blue\"> Now, in the cell below, describe something you learn from the shape of the distribution. (1 pt)</span>** "
   ]
  },
  {
   "cell_type": "markdown",
   "metadata": {},
   "source": [
    "*Write your answer here*"
   ]
  },
  {
   "cell_type": "markdown",
   "metadata": {},
   "source": [
    "**Part 2:**  NumPy is a powerful python library that allows us to perform mathematical calculations on arrays and matrices. Here, our `gdp_numbers` variable is an array, thus we can utilize NumPy methods to compute statistics on this data. Two methods that will be useful to us are `np.mean` (calculates the average of an array) and `np.median` (calculates the median of an array). \n",
    "\n",
    "**<span style=\"color:blue\"> Below, use the NumPy methods mentioned above to assign `gdp_mean` to the mean and `gdp_median` to the median. (1 pt)</span>** "
   ]
  },
  {
   "cell_type": "code",
   "execution_count": 15,
   "metadata": {},
   "outputs": [
    {
     "name": "stdout",
     "output_type": "stream",
     "text": [
      "The mean GDP in our data is 24,723\n",
      "The median GDP in our data is 22,574\n"
     ]
    }
   ],
   "source": [
    "gdp_mean = np.mean(gdp_numbers)\n",
    "gdp_median = np.median(gdp_numbers)\n",
    "mean_str = \"{:,}\".format(int(gdp_mean))\n",
    "median_str = \"{:,}\".format(int(gdp_median))\n",
    "\n",
    "print(\"The mean GDP in our data is \" + mean_str)\n",
    "print(\"The median GDP in our data is \" + median_str)"
   ]
  },
  {
   "cell_type": "markdown",
   "metadata": {},
   "source": [
    "**<span style=\"color:blue\"> In the cell below, describe which statistic is bigger and why that might be.  (1 pt)</span>** "
   ]
  },
  {
   "cell_type": "markdown",
   "metadata": {},
   "source": [
    "*Write your answer here*"
   ]
  },
  {
   "cell_type": "code",
   "execution_count": 40,
   "metadata": {},
   "outputs": [],
   "source": [
    "def bootstrap(iterations, num_samples):\n",
    "    sample_means = []\n",
    "    for i in np.arange(iterations):\n",
    "        temporary_mean = np.mean((np.random.choice(gdp_numbers, replace=False)))\n",
    "        sample_means.append(temporary_mean)\n",
    "    sns.distplot(sample_means);"
   ]
  },
  {
   "cell_type": "code",
   "execution_count": 41,
   "metadata": {},
   "outputs": [],
   "source": [
    "def get_sample_means(iterations, num_samples):\n",
    "    sample_means = []\n",
    "    for i in np.arange(iterations):\n",
    "        temporary_mean = np.mean((np.random.choice(gdp_numbers, replace=False)))\n",
    "        sample_means.append(temporary_mean)\n",
    "    return sample_means"
   ]
  },
  {
   "cell_type": "markdown",
   "metadata": {},
   "source": [
    "**Part 3:** **<span style=\"color:blue\"> Using the sliders below, modify the number of iterations and the number of samples such that the distribution fo the sample mean is roughly normally distributed. (1 pt)</span>** "
   ]
  },
  {
   "cell_type": "code",
   "execution_count": 42,
   "metadata": {},
   "outputs": [
    {
     "data": {
      "application/vnd.jupyter.widget-view+json": {
       "model_id": "4e2d2a56d61c47ea82ff6d02ec4e0595",
       "version_major": 2,
       "version_minor": 0
      },
      "text/plain": [
       "interactive(children=(IntSlider(value=10000, description='iterations', max=30000, min=-10000), IntSlider(value…"
      ]
     },
     "metadata": {},
     "output_type": "display_data"
    }
   ],
   "source": [
    "interact(bootstrap, iterations=10000, num_samples=IntSlider(min=5, max=30, step=1, value=10));"
   ]
  },
  {
   "cell_type": "markdown",
   "metadata": {},
   "source": [
    "**<span style=\"color:blue\"> How many number of iterations and samples did you find gave you a roughly normal curve? Why do you think this is the case? Write your answer below. (2 pt)</span>** "
   ]
  },
  {
   "cell_type": "markdown",
   "metadata": {},
   "source": [
    "*Write your answer here*"
   ]
  },
  {
   "cell_type": "markdown",
   "metadata": {},
   "source": [
    "**<span style=\"color:blue\"> In the cell below, assign the variable `num_iterations` to the number of iterations you found above. Do the same for `num_samples`(.5 pt)</span>** "
   ]
  },
  {
   "cell_type": "code",
   "execution_count": 43,
   "metadata": {},
   "outputs": [],
   "source": [
    "num_iterations = 10000\n",
    "num_samples = 20"
   ]
  },
  {
   "cell_type": "markdown",
   "metadata": {},
   "source": [
    "**Part 4:** What is the mean and standard deviation of the sampling distribution?  \n",
    "\n",
    "**<span style=\"color:blue\"> In the cell below, use `np.average` to calculate the mean and `np.std` to calculate the standard deviation.  (1 pt)</span>** "
   ]
  },
  {
   "cell_type": "code",
   "execution_count": 44,
   "metadata": {},
   "outputs": [
    {
     "name": "stdout",
     "output_type": "stream",
     "text": [
      "The mean of our sample means is 24,674\n",
      "The standard deviation of the sample means is 13,234\n"
     ]
    }
   ],
   "source": [
    "sample_means = get_sample_means(num_iterations, num_samples)\n",
    "\n",
    "mean_sample = np.average(sample_means)\n",
    "\n",
    "mean_std = np.std(sample_means)\n",
    "\n",
    "\n",
    "sample_mean_str = \"{:,}\".format(int(mean_sample))\n",
    "\n",
    "std_str = \"{:,}\".format(int(mean_std))\n",
    "\n",
    "\n",
    "print(\"The mean of our sample means is \" + sample_mean_str)\n",
    "\n",
    "print(\"The standard deviation of the sample means is \" + std_str)"
   ]
  },
  {
   "cell_type": "markdown",
   "metadata": {},
   "source": [
    "**Part 5:** Run the cell which calculates an unknown (but familiar) statistic. "
   ]
  },
  {
   "cell_type": "code",
   "execution_count": 51,
   "metadata": {},
   "outputs": [
    {
     "name": "stdout",
     "output_type": "stream",
     "text": [
      "2,966\n"
     ]
    }
   ],
   "source": [
    "unknown_statistic = int(np.std(gdp_numbers) / np.sqrt(num_samples))\n",
    "\n",
    "statistic_str = \"{:,}\".format(int(unknown_statistic))\n",
    "\n",
    "print(statistic_str)"
   ]
  },
  {
   "cell_type": "markdown",
   "metadata": {},
   "source": [
    "**<span style=\"color:blue\"> Compare your answer in *Part 4* to this statistic. What are these quantities called? Write your answer below. (1 pt)</span>** "
   ]
  },
  {
   "cell_type": "markdown",
   "metadata": {},
   "source": [
    "*Write your answer here*"
   ]
  },
  {
   "cell_type": "markdown",
   "metadata": {},
   "source": [
    "**Part 6:** The code below creates two datasets from our original `gdp` dataset such that one dataset contains the GDPs of countries without an \"L\" in the name and another for countries with an \"L\" in the name. A very self-centered Professor L hypothesizes that countries with an \"L\" in the name much be better and richer. "
   ]
  },
  {
   "cell_type": "code",
   "execution_count": 67,
   "metadata": {},
   "outputs": [],
   "source": [
    "# Separating data between countries with an L and countries without an L \n",
    "countries_with_L = gdp.where('Country', are.containing('l'))\n",
    "\n",
    "countries_no_L = gdp.where('Country', are.not_containing('l'))"
   ]
  },
  {
   "cell_type": "markdown",
   "metadata": {},
   "source": [
    "**<span style=\"color:blue\"> Run the cell below, which runs a t-test which analyzes Professor L's hypothesis. (1 pt)</span>** "
   ]
  },
  {
   "cell_type": "code",
   "execution_count": 68,
   "metadata": {},
   "outputs": [
    {
     "data": {
      "text/plain": [
       "Ttest_indResult(statistic=1.4245344959707544, pvalue=0.1668310818829151)"
      ]
     },
     "execution_count": 68,
     "metadata": {},
     "output_type": "execute_result"
    }
   ],
   "source": [
    "from scipy import stats\n",
    "\n",
    "stats.ttest_ind(countries_with_L.column('2016'), countries_no_L.column('2016'), equal_var = False)"
   ]
  },
  {
   "cell_type": "code",
   "execution_count": null,
   "metadata": {},
   "outputs": [],
   "source": []
  }
 ],
 "metadata": {
  "kernelspec": {
   "display_name": "Python 3",
   "language": "python",
   "name": "python3"
  },
  "language_info": {
   "codemirror_mode": {
    "name": "ipython",
    "version": 3
   },
   "file_extension": ".py",
   "mimetype": "text/x-python",
   "name": "python",
   "nbconvert_exporter": "python",
   "pygments_lexer": "ipython3",
   "version": "3.7.3"
  }
 },
 "nbformat": 4,
 "nbformat_minor": 2
}
