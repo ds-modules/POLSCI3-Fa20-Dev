{
 "cells": [
  {
   "cell_type": "code",
   "execution_count": 1,
   "metadata": {},
   "outputs": [],
   "source": [
    "import pandas as pd\n",
    "import numpy as np\n",
    "import seaborn as sns \n",
    "import sklearn\n",
    "import matplotlib.pyplot as plt\n",
    "%matplotlib inline\n",
    "import warnings\n",
    "sns.set_palette(\"Blues_d\")\n",
    "\n",
    "from IPython.display import HTML\n",
    "\n",
    "# import the widgets module\n",
    "import ipywidgets as widgets\n",
    "from ipywidgets import interact, interactive, fixed, interact_manual\n",
    "\n",
    "warnings.filterwarnings(\"ignore\")\n",
    "sns.set(style=\"whitegrid\")"
   ]
  },
  {
   "cell_type": "code",
   "execution_count": 27,
   "metadata": {},
   "outputs": [
    {
     "data": {
      "text/html": [
       "<div>\n",
       "<style scoped>\n",
       "    .dataframe tbody tr th:only-of-type {\n",
       "        vertical-align: middle;\n",
       "    }\n",
       "\n",
       "    .dataframe tbody tr th {\n",
       "        vertical-align: top;\n",
       "    }\n",
       "\n",
       "    .dataframe thead th {\n",
       "        text-align: right;\n",
       "    }\n",
       "</style>\n",
       "<table border=\"1\" class=\"dataframe\">\n",
       "  <thead>\n",
       "    <tr style=\"text-align: right;\">\n",
       "      <th></th>\n",
       "      <th>War</th>\n",
       "      <th>Location</th>\n",
       "      <th>GDP_range</th>\n",
       "      <th>Deaths</th>\n",
       "    </tr>\n",
       "  </thead>\n",
       "  <tbody>\n",
       "    <tr>\n",
       "      <th>0</th>\n",
       "      <td>Taiping Rebellion</td>\n",
       "      <td>china</td>\n",
       "      <td>low</td>\n",
       "      <td>25000000</td>\n",
       "    </tr>\n",
       "    <tr>\n",
       "      <th>1</th>\n",
       "      <td>Crimean War</td>\n",
       "      <td>uk</td>\n",
       "      <td>high</td>\n",
       "      <td>383000</td>\n",
       "    </tr>\n",
       "    <tr>\n",
       "      <th>2</th>\n",
       "      <td>Panthay Rebellion</td>\n",
       "      <td>china</td>\n",
       "      <td>low</td>\n",
       "      <td>945000</td>\n",
       "    </tr>\n",
       "    <tr>\n",
       "      <th>3</th>\n",
       "      <td>Indian Rebellion of 1857</td>\n",
       "      <td>india</td>\n",
       "      <td>low</td>\n",
       "      <td>900000</td>\n",
       "    </tr>\n",
       "    <tr>\n",
       "      <th>4</th>\n",
       "      <td>American Civil War</td>\n",
       "      <td>united states</td>\n",
       "      <td>high</td>\n",
       "      <td>825000</td>\n",
       "    </tr>\n",
       "    <tr>\n",
       "      <th>5</th>\n",
       "      <td>Dungan Revolt</td>\n",
       "      <td>china</td>\n",
       "      <td>low</td>\n",
       "      <td>14000000</td>\n",
       "    </tr>\n",
       "    <tr>\n",
       "      <th>6</th>\n",
       "      <td>French intervention in Mexico</td>\n",
       "      <td>mexico</td>\n",
       "      <td>low</td>\n",
       "      <td>49287</td>\n",
       "    </tr>\n",
       "    <tr>\n",
       "      <th>7</th>\n",
       "      <td>Paraguayan War</td>\n",
       "      <td>south america</td>\n",
       "      <td>low</td>\n",
       "      <td>750000</td>\n",
       "    </tr>\n",
       "    <tr>\n",
       "      <th>8</th>\n",
       "      <td>Ten Years' War</td>\n",
       "      <td>cuba</td>\n",
       "      <td>low</td>\n",
       "      <td>241000</td>\n",
       "    </tr>\n",
       "    <tr>\n",
       "      <th>9</th>\n",
       "      <td>Conquest of the Desert</td>\n",
       "      <td>patagonia</td>\n",
       "      <td>low</td>\n",
       "      <td>32500</td>\n",
       "    </tr>\n",
       "  </tbody>\n",
       "</table>\n",
       "</div>"
      ],
      "text/plain": [
       "                             War       Location GDP_range    Deaths\n",
       "0              Taiping Rebellion          china       low  25000000\n",
       "1                    Crimean War             uk      high    383000\n",
       "2              Panthay Rebellion          china       low    945000\n",
       "3       Indian Rebellion of 1857          india       low    900000\n",
       "4             American Civil War  united states      high    825000\n",
       "5                  Dungan Revolt          china       low  14000000\n",
       "6  French intervention in Mexico         mexico       low     49287\n",
       "7                 Paraguayan War  south america       low    750000\n",
       "8                 Ten Years' War           cuba       low    241000\n",
       "9         Conquest of the Desert      patagonia       low     32500"
      ]
     },
     "execution_count": 27,
     "metadata": {},
     "output_type": "execute_result"
    }
   ],
   "source": [
    "wars = pd.read_csv('data/deaths_gdp.csv')\n",
    "wars.head(10)"
   ]
  },
  {
   "cell_type": "markdown",
   "metadata": {},
   "source": [
    "**Part 1** : We are interested in the **distribution** of number of deaths for all wars in our dataset. A **histogram** allows us to visualize this distribution. "
   ]
  },
  {
   "cell_type": "code",
   "execution_count": 30,
   "metadata": {},
   "outputs": [
    {
     "data": {
      "image/png": "[encoded data removed]",
      "text/plain": [
       "<Figure size 432x288 with 1 Axes>"
      ]
     },
     "metadata": {
      "needs_background": "light"
     },
     "output_type": "display_data"
    }
   ],
   "source": [
    "deaths = wars['Deaths']\n",
    "sns.distplot(deaths);"
   ]
  },
  {
   "cell_type": "markdown",
   "metadata": {},
   "source": [
    "Notice how our data is skewed heavily to the left. This is because the number of deaths varies wildly for each war. A useful method for a better visualization of skewed data is to **transform** the data. We can do this by applying the log function to our data. Run the cell below, which applies a log transformation to the number of deaths per war. "
   ]
  },
  {
   "cell_type": "code",
   "execution_count": 40,
   "metadata": {},
   "outputs": [],
   "source": [
    "log_deaths = np.array(np.log10(deaths))"
   ]
  },
  {
   "cell_type": "markdown",
   "metadata": {},
   "source": [
    "**<span style=\"color:blue\"> In the cell below, use the transformed data defined above, `log_deaths`, to create a histogram of the log number of deaths for each war (1 pt)</span>** "
   ]
  },
  {
   "cell_type": "code",
   "execution_count": 34,
   "metadata": {},
   "outputs": [
    {
     "data": {
      "text/plain": [
       "<matplotlib.axes._subplots.AxesSubplot at 0x7fa26a33ecf8>"
      ]
     },
     "execution_count": 34,
     "metadata": {},
     "output_type": "execute_result"
    },
    {
     "data": {
      "image/png": "[encoded data removed]",
      "text/plain": [
       "<Figure size 432x288 with 1 Axes>"
      ]
     },
     "metadata": {
      "needs_background": "light"
     },
     "output_type": "display_data"
    }
   ],
   "source": [
    "sns.distplot(log_deaths)"
   ]
  },
  {
   "cell_type": "markdown",
   "metadata": {},
   "source": [
    "**<span style=\"color:blue\"> Now, in the cell below, describe something you learn from the shape of the distribution. (1 pt)</span>** "
   ]
  },
  {
   "cell_type": "markdown",
   "metadata": {},
   "source": [
    "*Write your answer here*"
   ]
  },
  {
   "cell_type": "markdown",
   "metadata": {},
   "source": [
    "**Part 2:**  NumPy is a powerful python library that allows us to perform mathematical calculations on arrays and matrices. Here, our `deaths` variable is an array, thus we can utilize NumPy methods to compute statistics on this data. Two methods that will be useful to us are `np.mean` (calculates the average of an array) and `np.median` (calculates the median of an array). \n",
    "\n",
    "**<span style=\"color:blue\"> Below, use the NumPy methods mentioned above to assign `deaths_mean` to the mean and `deaths_median` to the median of the number of deaths. (1 pt)</span>** "
   ]
  },
  {
   "cell_type": "code",
   "execution_count": 80,
   "metadata": {},
   "outputs": [
    {
     "name": "stdout",
     "output_type": "stream",
     "text": [
      "The mean number of deaths in our data is 2,322,783\n",
      "The median number of deaths in our data is 197,500\n"
     ]
    }
   ],
   "source": [
    "deaths_mean = np.mean(deaths)\n",
    "deaths_median = np.median(deaths)\n",
    "mean_str = \"{:,}\".format(int(deaths_mean))\n",
    "median_str = \"{:,}\".format(int(deaths_median))\n",
    "\n",
    "print(\"The mean number of deaths in our data is \" + mean_str)\n",
    "print(\"The median number of deaths in our data is \" + median_str)"
   ]
  },
  {
   "cell_type": "markdown",
   "metadata": {},
   "source": [
    "**<span style=\"color:blue\"> In the cell below, describe which statistic is bigger and why that might be.  (1 pt)</span>** "
   ]
  },
  {
   "cell_type": "markdown",
   "metadata": {},
   "source": [
    "*Write your answer here*"
   ]
  },
  {
   "cell_type": "markdown",
   "metadata": {},
   "source": [
    "**Part 3:** "
   ]
  },
  {
   "cell_type": "code",
   "execution_count": 91,
   "metadata": {},
   "outputs": [],
   "source": [
    "sample_means = []\n",
    "for i in np.arange(1000):\n",
    "    temporary_mean = np.mean(np.random.choice(deaths, 50, replace=False))\n",
    "    sample_means.append(temporary_mean)"
   ]
  },
  {
   "cell_type": "code",
   "execution_count": 92,
   "metadata": {},
   "outputs": [
    {
     "data": {
      "text/plain": [
       "<matplotlib.axes._subplots.AxesSubplot at 0x7fa26a9a5518>"
      ]
     },
     "execution_count": 92,
     "metadata": {},
     "output_type": "execute_result"
    },
    {
     "data": {
      "image/png": "[encoded data removed]",
      "text/plain": [
       "<Figure size 432x288 with 1 Axes>"
      ]
     },
     "metadata": {
      "needs_background": "light"
     },
     "output_type": "display_data"
    }
   ],
   "source": [
    "sns.distplot(sample_means)"
   ]
  },
  {
   "cell_type": "markdown",
   "metadata": {},
   "source": [
    "**Part 4:** What is the mean and standard deviation of the sampling distribution?  \n",
    "\n",
    "**<span style=\"color:blue\"> In the cell below, use `np.average` to calculate the mean and `np.std` to calculate the standard deviation.  (1 pt)</span>** "
   ]
  },
  {
   "cell_type": "code",
   "execution_count": 108,
   "metadata": {},
   "outputs": [
    {
     "name": "stdout",
     "output_type": "stream",
     "text": [
      "The mean of our sample means is 2,293,437\n",
      "The standard deviation of the sample means is 811,359\n"
     ]
    }
   ],
   "source": [
    "mean_sample = np.average(sample_means)\n",
    "\n",
    "mean_std = np.std(sample_means)\n",
    "\n",
    "\n",
    "sample_mean_str = \"{:,}\".format(int(mean_sample))\n",
    "\n",
    "std_str = \"{:,}\".format(int(mean_std))\n",
    "\n",
    "\n",
    "print(\"The mean of our sample means is \" + sample_mean_str)\n",
    "\n",
    "print(\"The standard deviation of the sample means is \" + std_str)"
   ]
  },
  {
   "cell_type": "markdown",
   "metadata": {},
   "source": [
    "**Part 5:** Run the cell which calculates an unknown (but familiar) statistic. "
   ]
  },
  {
   "cell_type": "code",
   "execution_count": 105,
   "metadata": {},
   "outputs": [
    {
     "name": "stdout",
     "output_type": "stream",
     "text": [
      "1,206,521\n"
     ]
    }
   ],
   "source": [
    "unknown_statistic = int(np.std(deaths) / np.sqrt(50))\n",
    "\n",
    "statistic_str = \"{:,}\".format(int(unknown_statistic))\n",
    "\n",
    "print(statistic_str)"
   ]
  },
  {
   "cell_type": "markdown",
   "metadata": {},
   "source": [
    "**<span style=\"color:blue\"> Compare your answer in *Part 4* to this statistic. What are these quantities called? Write your answer below. (1 pt)</span>** "
   ]
  },
  {
   "cell_type": "markdown",
   "metadata": {},
   "source": [
    "*Write your answer here*"
   ]
  },
  {
   "cell_type": "markdown",
   "metadata": {},
   "source": [
    "**Part 6:** The code below "
   ]
  },
  {
   "cell_type": "code",
   "execution_count": 112,
   "metadata": {},
   "outputs": [],
   "source": [
    "# Separating data between countries with an L and countries without an L \n",
    "countries_with_L = wars[wars['Location'].str.contains('l')]\n",
    "\n",
    "countries_no_L = wars[~wars['Location'].str.contains('l')]"
   ]
  },
  {
   "cell_type": "code",
   "execution_count": 114,
   "metadata": {},
   "outputs": [
    {
     "data": {
      "text/plain": [
       "Ttest_indResult(statistic=-2.235695299222781, pvalue=0.028267436310602)"
      ]
     },
     "execution_count": 114,
     "metadata": {},
     "output_type": "execute_result"
    }
   ],
   "source": [
    "from scipy import stats\n",
    "\n",
    "stats.ttest_ind(countries_with_L['Deaths'], countries_no_L['Deaths'], equal_var = False)"
   ]
  },
  {
   "cell_type": "code",
   "execution_count": null,
   "metadata": {},
   "outputs": [],
   "source": []
  }
 ],
 "metadata": {
  "kernelspec": {
   "display_name": "Python 3",
   "language": "python",
   "name": "python3"
  },
  "language_info": {
   "codemirror_mode": {
    "name": "ipython",
    "version": 3
   },
   "file_extension": ".py",
   "mimetype": "text/x-python",
   "name": "python",
   "nbconvert_exporter": "python",
   "pygments_lexer": "ipython3",
   "version": "3.7.3"
  }
 },
 "nbformat": 4,
 "nbformat_minor": 2
}
