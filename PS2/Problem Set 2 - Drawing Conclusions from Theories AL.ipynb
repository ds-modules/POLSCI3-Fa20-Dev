{
 "cells": [
  {
   "cell_type": "markdown",
   "metadata": {},
   "source": [
    "# Problem Set 2: Formalizing Behavior and Drawing Conclusions  \n",
    "In this homework, we'll consider new formal models for political interaction and how we can draw conclusions from data.  \n",
    "Table of Contents:\n",
    "1) [Game Theory](#gt)  \n",
    "2) [Causal Claims](#cc)  \n",
    "3) [The Median Voter](#mvt)  \n",
    "4) [Police Reform Mechanisms](#pfm)"
   ]
  },
  {
   "cell_type": "markdown",
   "metadata": {},
   "source": [
    "## 1. Hawks and Doves <a class=\"anchor\" id=\"gt\"></a>\n",
    "Game theory is also commonly used in evolutionary biology, and a famous game developed in that context is \"Hawk Dove\". In this game, two players simultaneously choose between a more agressive action (\"Hawk\") and a more conciliatory one (\"Dove\"). \n",
    "\n",
    "Call the players 1 and 2, and write player 1's choice first. So, for example, if 1 plays Hawk and 2 plays Dove we can write that (H,D).\n",
    "\n",
    "A political application of the game is in negotiations. Our players are negotiating over some \"prize\" which is worth 10 dollars. If they both play Dove, the negotiations run smoothly and they split it evenly, giving a utility of 5 to both. If one plays Hawk and the other plays Dove, the one playing Hawk gets 5 + d and the one playing Dove gets 5 - d. If they both play Hawk, they \"fight\" and both get a utility c. \n",
    "\n"
   ]
  },
  {
   "cell_type": "markdown",
   "metadata": {},
   "source": [
    "**<span style=\"color:blue\">Question 1.A: Let d=2 and c=2. Rank the outcomes from best to worst from the perspective of player 1. (1 pt)</span>** "
   ]
  },
  {
   "cell_type": "markdown",
   "metadata": {},
   "source": [
    "*ANSWER TO 1.A*"
   ]
  },
  {
   "cell_type": "markdown",
   "metadata": {},
   "source": [
    "**<span style=\"color:blue\"> Question 1.B: Again with d=c=2, fill out the table below with the utilities for each player. As in the lectures, let player 1 be the \"row player\" and player 2 be the \"column player\", and write the utilities for player 1 first. (1 pt)</span>** \n"
   ]
  },
  {
   "cell_type": "markdown",
   "metadata": {},
   "source": [
    "|          | Hawk | Dove     | \n",
    "|----------|----------|--------------|\n",
    "| Hawk |  -,-       |  -,-           |  \n",
    "| Dove |  -,-       |  -,-           |  \n",
    " \n",
    "\n"
   ]
  },
  {
   "cell_type": "markdown",
   "metadata": {},
   "source": [
    "Now let's find the Nash Equilibrium using the \"star the best responses\" method. \n",
    "\n",
    "**<span style=\"color:blue\"> Question 1.C: Edit the table below to include the utilities from the table above and the stars on the best responses. (1 pt)</span>** \n"
   ]
  },
  {
   "cell_type": "markdown",
   "metadata": {},
   "source": [
    "|          | Hawk | Dove     | \n",
    "|----------|----------|--------------|\n",
    "| Hawk |  -,-       |  -,-           |  \n",
    "| Dove |  -,-       |  -,-           |  \n",
    " "
   ]
  },
  {
   "cell_type": "markdown",
   "metadata": {},
   "source": [
    "**<span style=\"color:blue\"> Question 1.D: What are the Nash Equilibria to this game? Explain in words why these outcomes involve both playing a best response. (1 pt)</span>** "
   ]
  },
  {
   "cell_type": "markdown",
   "metadata": {},
   "source": [
    "*ANSWER TO 1.D*"
   ]
  },
  {
   "cell_type": "markdown",
   "metadata": {},
   "source": [
    "\n",
    "<span style=\"color:blue\"> **Question 1.E: Now let d=2 and c=4. Fill out the table below with the utilities these variable generate, and star the best responses. (1 pt)**</span>"
   ]
  },
  {
   "cell_type": "markdown",
   "metadata": {},
   "source": [
    "|          | Hawk | Dove     | \n",
    "|----------|----------|--------------|\n",
    "| Hawk |  -,-       |  -,-           |  \n",
    "| Dove |  -,-       |  -,-           |  \n",
    " \n",
    "\n"
   ]
  },
  {
   "cell_type": "markdown",
   "metadata": {},
   "source": [
    "<span style=\"color:blue\"> **Question 1.F: What is the Nash Equilibrium to this game? In words, why did changing the c variable change the predicted outcome? (2 pts)**</span>"
   ]
  },
  {
   "cell_type": "markdown",
   "metadata": {},
   "source": [
    "*ANSWER TO 1.F*"
   ]
  },
  {
   "cell_type": "markdown",
   "metadata": {},
   "source": [
    "# 2. Undemocratic Midterms <a class=\"anchor\" id=\"cc\"></a>\n",
    "As political science majors, it is important to be able to articulate the reasoning *and* conclusions that authors arrive at in their writing. The following problem is an opportunity to practice this skill."
   ]
  },
  {
   "cell_type": "markdown",
   "metadata": {},
   "source": [
    "Read the following article: [“Four ways US mid-terms are undemocratic”](https://www.bbc.com/news/world-us-canada-45526335)"
   ]
  },
  {
   "cell_type": "markdown",
   "metadata": {},
   "source": [
    "**<span style=\"color:blue\"> Question 2.A: Identify two causal claims for questions which are either explicitly stated in the article or implicit in an argument the writer (or someone mentioned) makes. (3 pts)</span>**   "
   ]
  },
  {
   "cell_type": "markdown",
   "metadata": {},
   "source": [
    "*ANSWER TO 2.A*"
   ]
  },
  {
   "cell_type": "markdown",
   "metadata": {},
   "source": [
    "<span style=\"color:blue\"> **Question 2.B Pick one of these claims to evaluate in light of what you have learned about causal inference. Is there a coherent theoretical reason behind the causal claim? If evidence is provided, does it do a good job of ruling out alternative explanations? (3 pts)**"
   ]
  },
  {
   "cell_type": "markdown",
   "metadata": {},
   "source": [
    "*ANSWER TO 2.B*"
   ]
  },
  {
   "cell_type": "markdown",
   "metadata": {},
   "source": [
    "## 3. Tables\n",
    "For some of the later questions, we will be using tables. In this section, we will see how to calculate some *summary statistics* and create tables."
   ]
  },
  {
   "cell_type": "markdown",
   "metadata": {},
   "source": [
    "#### Finding the Median\n",
    "NumPy allows us to make useful calculations with numerical data. Imagine we have some array of numbers -- our data -- and that we wish to find the median value of the data. A NumPy method that allows us to do this is `np.median` (where `np` refers to NumPy), which takes as input some data and outputs the median value for that data. Run the cell below, which will generate 72 random numbers."
   ]
  },
  {
   "cell_type": "code",
   "execution_count": 25,
   "metadata": {},
   "outputs": [
    {
     "data": {
      "text/plain": [
       "array([24, 23, 69, 89, 45, 12, 51])"
      ]
     },
     "execution_count": 25,
     "metadata": {},
     "output_type": "execute_result"
    }
   ],
   "source": [
    "import numpy as np\n",
    "data = np.random.randint(0,100,size=7)\n",
    "data"
   ]
  },
  {
   "cell_type": "markdown",
   "metadata": {},
   "source": [
    "Now, with the `data` above, use the `np.median` method to find the median value for the data. "
   ]
  },
  {
   "cell_type": "code",
   "execution_count": null,
   "metadata": {},
   "outputs": [],
   "source": [
    "median = np.median(data)\n",
    "median"
   ]
  },
  {
   "cell_type": "markdown",
   "metadata": {},
   "source": [
    "**Tables** \n",
    "Often times we don't want just a single list of data points. When we want to put lists of data into the same context, we can use a Table. You can think of Tables as Python's answer to an Excel spreadsheet: both have labeled columns that contain the values for individual entries (for each row). \n",
    "\n",
    "In the following cell, we create a table manually. A table is defined by a list of column labels followed by the list of values for that column. Notice how we predefined the individual values.\n",
    "\n",
    "As a concrete example--**albeit with made up data!**--let's suppose that a year from now we collect data about whether cities in the U.S. had major protests about police behavior in 2020, and then construct a five point index for whether those same cities enacted police reforms, where 0 means no reform and 5 means many major reforms. "
   ]
  },
  {
   "cell_type": "code",
   "execution_count": null,
   "metadata": {},
   "outputs": [],
   "source": [
    "from datascience import Table\n",
    "cities = ['Portland','San Diego','New York City','Seattle','Los Angeles','Louisville',\n",
    "          'Salt Lake City','Raleigh','Nashville','Tampa','Topeka']\n",
    "blm_protests = [1,0,1,1,1,0,1,1,0,0,0]\n",
    "police_reform = [5,3,4,0,5,1,2,0,1,0,1]\n",
    "protest_table = Table().with_columns('City', cities,\n",
    "                            'Protest', blm_protests,\n",
    "                            'Reform', police_reform)\n",
    "protest_table"
   ]
  },
  {
   "cell_type": "markdown",
   "metadata": {},
   "source": [
    "Let's inspect the data in this mock table. In this example, we have a list of strings for the different cities and *binary variables* representing whether protests and/or Police Reform occurred or not. A binary variable is a variable equal to 1 when a condition is met, in these cases protests and police reform, and equal to 0 otherwise.   \n",
    "\n",
    "What happens when we want to select a column? We use the `.column(COLUMN LABEL)` functionality. In the cell below, we select the City column:"
   ]
  },
  {
   "cell_type": "code",
   "execution_count": null,
   "metadata": {},
   "outputs": [],
   "source": [
    "protest_table.column('City')"
   ]
  },
  {
   "cell_type": "markdown",
   "metadata": {},
   "source": [
    "**<span style=\"color:blue\"> Question 3.A. Write a line of code which selects the police reform variable. (1 pt)**"
   ]
  },
  {
   "cell_type": "code",
   "execution_count": null,
   "metadata": {},
   "outputs": [],
   "source": [
    "# Your code for 3.A below"
   ]
  },
  {
   "cell_type": "markdown",
   "metadata": {},
   "source": [
    "Combining with the above discussion, we can also do computations on variables in our tables. For example, if we compute the average (or mean) of the protest veraible (which is 1 for protest and 0 otherwise), we can learn the proportion of cities that had protests:"
   ]
  },
  {
   "cell_type": "code",
   "execution_count": null,
   "metadata": {},
   "outputs": [],
   "source": [
    "np.mean(protest_table.column('Protest'))"
   ]
  },
  {
   "cell_type": "markdown",
   "metadata": {},
   "source": [
    "**<span style=\"color:blue\"> Question 3.B: Write a line of code which returns the average level of police reform (1 pt)</span>**"
   ]
  },
  {
   "cell_type": "code",
   "execution_count": 21,
   "metadata": {},
   "outputs": [],
   "source": [
    "# Your code for 3.B below"
   ]
  },
  {
   "cell_type": "markdown",
   "metadata": {},
   "source": [
    "Fantastic! With this newfound Python knowledge under our belt, we're ready to start the second half of the homework."
   ]
  },
  {
   "cell_type": "markdown",
   "metadata": {},
   "source": [
    "## 4. The Median Voter Theorem <a class=\"anchor\" id=\"mvt\"></a>\n"
   ]
  },
  {
   "cell_type": "markdown",
   "metadata": {},
   "source": [
    "With our newfound data manipulation abilities, we can predict how candidates will choose their electoral position. In the following examples, view political alignment as a point on a number line, with labels:    \n",
    "\n",
    "| Number | Political Stance       |\n",
    "|--------|------------------------|\n",
    "| -2     | Extreme Left |\n",
    "| -1     | Moderate Left          |\n",
    "| 0      | Centrist               |\n",
    "| 1      | Moderate Right         |\n",
    "| 2      | Extreme Right          |  \n"
   ]
  },
  {
   "cell_type": "markdown",
   "metadata": {},
   "source": [
    "To help create and analyze electorates with voters in these buckets, we created some functions, which we import here. We then show how to use the `make_count_array` function to create an electorate with 2 extreme left, 15 moderate left, 9 centrist, 2 moderate right, and 1 extreme right voter."
   ]
  },
  {
   "cell_type": "code",
   "execution_count": 22,
   "metadata": {},
   "outputs": [
    {
     "data": {
      "text/plain": [
       "array([-2, -2, -1, -1, -1, -1, -1, -1, -1, -1, -1, -1, -1, -1, -1, -1, -1,\n",
       "        0,  0,  0,  0,  0,  0,  0,  0,  0,  1,  1,  2])"
      ]
     },
     "execution_count": 22,
     "metadata": {},
     "output_type": "execute_result"
    }
   ],
   "source": [
    "from utils import make_count_array, plot_voters_candidates\n",
    "example_distribution = make_count_array([2, 15, 9, 2, 1])\n",
    "example_distribution"
   ]
  },
  {
   "cell_type": "markdown",
   "metadata": {},
   "source": [
    "As in the lecture, suppose there are two candidates who set platforms and then voters vote for the candidate with a platform closer to them (and abstain or vote randomly if the the parties are equally far from their ideal point). The parties just care about winning. \n",
    "\n",
    "**<span style=\"color:blue\"> Question 4.A: Using what we learned in section 3, write a line of code which identifies what platform the candidates will choose in the Nash Equilibrium to this game. (1 pt)**"
   ]
  },
  {
   "cell_type": "code",
   "execution_count": null,
   "metadata": {},
   "outputs": [],
   "source": [
    "# Answer for 4.A below"
   ]
  },
  {
   "cell_type": "markdown",
   "metadata": {},
   "source": [
    "<span style=\"color:blue\">**Question 4.B: In words, which voters in this electorate do the parties cater to, and why? (2 pts)**</span>"
   ]
  },
  {
   "cell_type": "markdown",
   "metadata": {},
   "source": [
    "*ANSWER TO 4.B*"
   ]
  },
  {
   "cell_type": "markdown",
   "metadata": {},
   "source": [
    "We can also explore how this electoral competition game works visually. Run the following line of code which describes how the groups of voters evaluate the candidates at different positions."
   ]
  },
  {
   "cell_type": "code",
   "execution_count": 19,
   "metadata": {},
   "outputs": [
    {
     "data": {
      "application/vnd.jupyter.widget-view+json": {
       "model_id": "a34bb0af96d540f9ad98fc191455cf72",
       "version_major": 2,
       "version_minor": 0
      },
      "text/plain": [
       "interactive(children=(FloatSlider(value=1.0, description='candA', max=2.0, min=-2.0), FloatSlider(value=-2.0, …"
      ]
     },
     "metadata": {},
     "output_type": "display_data"
    }
   ],
   "source": [
    "from ipywidgets import interact, interactive, fixed, interact_manual, FloatSlider, IntSlider\n",
    "%matplotlib inline\n",
    "interact(plot_voters_candidates, counts=fixed([2, 15, 9, 2, 1]), \n",
    "         candA=FloatSlider(min=-2, max=2, step=.1, value=1), \n",
    "         candB=FloatSlider(min=-2, max=2, step=.1, value=-2));"
   ]
  },
  {
   "cell_type": "markdown",
   "metadata": {},
   "source": [
    "At these intial positions, candidate B wins the election picking the extreme left position. \n",
    "\n",
    "Recall that the party which wins is the one who more gets more votes (setting aside indifferent voters, who either abstain or split their votes).\n",
    "\n",
    "**<span style=\"color:blue\"> Question 4.C: How far left do you have to move the slider for Candidate A until they win the election? (2 pts)** </span>\n"
   ]
  },
  {
   "cell_type": "markdown",
   "metadata": {},
   "source": [
    "*ANSWER TO 4.C*"
   ]
  },
  {
   "cell_type": "markdown",
   "metadata": {},
   "source": [
    "You should now be able to move the slider for B to the right until they win the election again. And then A to the left until they win. Etc.\n",
    "\n",
    "**<span style=\"color:blue\">Question 4.B: If you keep repeating this process, where do the parties end up? Explain why this process justifies what you said about the Nash Equilibrium to this game in question 4.B. (2 pts)**"
   ]
  },
  {
   "cell_type": "markdown",
   "metadata": {},
   "source": [
    "*ANSWER TO 4.B*"
   ]
  },
  {
   "cell_type": "markdown",
   "metadata": {},
   "source": [
    "## 5. Causality in Police Reform <a class=\"anchor\" id=\"pfm\"></a>\n",
    "Recall our table from section 3. If we want to just see the data for one city, we can use the  `.where()`  function.  This allows us to filter tables to meet some condition by selecting a column and the value(s) we wish that column to contain. This one picks entries where the \"City\" variable is equal to \"Los Angeles\"."
   ]
  },
  {
   "cell_type": "code",
   "execution_count": null,
   "metadata": {},
   "outputs": [],
   "source": [
    "protest_table.where(\"City\", \"Los Angeles\")"
   ]
  },
  {
   "cell_type": "code",
   "execution_count": null,
   "metadata": {},
   "outputs": [],
   "source": [
    "protest_table.where(\"City\", \"Nashville\")"
   ]
  },
  {
   "cell_type": "markdown",
   "metadata": {},
   "source": [
    "Suppose someone looks at this table and says \"Los Angeles had protests and major reform, while Nashville had no protests and minimal reform, which is evidence that protests cause reform.\" \n",
    "\n",
    "**<span style=\"color:blue\"> Question 5.A: What does the fundamental problem of causal inference say about this claim? (1 pt)**"
   ]
  },
  {
   "cell_type": "markdown",
   "metadata": {},
   "source": [
    "*ANSWER TO  5.A*"
   ]
  },
  {
   "cell_type": "markdown",
   "metadata": {},
   "source": [
    "**<span style=\"color:blue\"> Question 5.B Suppose that in reality, having protests increased reform by 1 point on this five point scale. If so, what is the counterfactual outcome for Los Angeles if they did not have protest? (1 pt)**"
   ]
  },
  {
   "cell_type": "markdown",
   "metadata": {},
   "source": [
    "*ANSWER TO 5.B*"
   ]
  },
  {
   "cell_type": "markdown",
   "metadata": {},
   "source": [
    "**<span style=\"color:blue\"> Question 5.C: If using the difference in reform levels between Los Angeles and Nashville (5-1=4) as an estimate for the causal effect of protest (again this that is 1), what is the selection bias? (1pt)**\n"
   ]
  },
  {
   "cell_type": "markdown",
   "metadata": {},
   "source": [
    "*ANSWER TO 5.C*"
   ]
  },
  {
   "cell_type": "markdown",
   "metadata": {},
   "source": [
    "Now let's consider San Diego rather than Nashville as the comparison to Los Angeles."
   ]
  },
  {
   "cell_type": "code",
   "execution_count": null,
   "metadata": {},
   "outputs": [],
   "source": [
    "protest_table.where(\"City\", \"San Diego\")"
   ]
  },
  {
   "cell_type": "markdown",
   "metadata": {},
   "source": [
    "The difference of means would be 5 - 3 = 2, which is still not the real causal effect but is closer. \n",
    "\n",
    "<span style=\"color:blue\"> **Question 5.D: Even if we didn't know the real causal effect is 1, why might it be a better idea to compare Los Angeles and San Diego rather than Los Angeles and Nashville [Hint: recall selection bias is equal to the difference in the baseline outcomes]. (1pt)** </span>"
   ]
  },
  {
   "cell_type": "markdown",
   "metadata": {},
   "source": [
    "*ANSWER TO 5.D*"
   ]
  },
  {
   "cell_type": "markdown",
   "metadata": {},
   "source": [
    "Now lets explore how protests relate to police reform for all cities in the data. In order to do this, we can use the same`.where()` functionality as we did to identify cities, but now we will identify any city with protest."
   ]
  },
  {
   "cell_type": "code",
   "execution_count": null,
   "metadata": {},
   "outputs": [],
   "source": [
    "protests = protest_table.where(\"Protest\", 1)\n",
    "protests"
   ]
  },
  {
   "cell_type": "markdown",
   "metadata": {},
   "source": [
    "**<span style=\"color:blue\"> Question 5.E: In the cell below, set `no_protests` to the table where Protest is 0. (1 pt)**"
   ]
  },
  {
   "cell_type": "code",
   "execution_count": null,
   "metadata": {},
   "outputs": [],
   "source": [
    "no_protests = ..."
   ]
  },
  {
   "cell_type": "markdown",
   "metadata": {},
   "source": [
    "Now that we have these tables, we want to get the average value in their Police Reform column. We can use this to compare the *difference in means* in reform between when cities have protests and not. In the cell below, we select the Police reform column and calculate its mean using `np.mean`.    \n",
    "\n",
    "**<span style=\"color:blue\"> Question 5.F: In the cell below, set `no_protest_avg` to the average amount of police reform where there are no protests. (1 pt)**"
   ]
  },
  {
   "cell_type": "code",
   "execution_count": null,
   "metadata": {},
   "outputs": [],
   "source": [
    "protests_avg = np.mean(protests.column('Police Reform'))\n",
    "no_protests_avg = ...\n",
    "print(\"Reform Average Rate with Protests: \", protests_avg)\n",
    "print('Reform Average Rate with No Protests:', no_protests_avg)"
   ]
  },
  {
   "cell_type": "markdown",
   "metadata": {},
   "source": [
    "<span style=\"color:blue\">**Question 5.G: In the cell below, write code to produce the difference of means among cities with protest versus no protest (1 pt)**</span>"
   ]
  },
  {
   "cell_type": "code",
   "execution_count": 23,
   "metadata": {},
   "outputs": [
    {
     "data": {
      "text/plain": [
       "Ellipsis"
      ]
     },
     "execution_count": 23,
     "metadata": {},
     "output_type": "execute_result"
    }
   ],
   "source": [
    "# Your code for 5.G here\n",
    "dom = ...\n",
    "dom"
   ]
  },
  {
   "cell_type": "markdown",
   "metadata": {},
   "source": [
    "\n",
    "**<span style=\"color:blue\"> Question 5.H: If we knew that the true causal effect of protests is to increase police reform by 1, write a line of code to calculate the selection bias if we use the difference of means to estimate the causal effect. (1 pt)**"
   ]
  },
  {
   "cell_type": "code",
   "execution_count": null,
   "metadata": {},
   "outputs": [],
   "source": [
    "# Code for 5.H here"
   ]
  },
  {
   "cell_type": "markdown",
   "metadata": {},
   "source": [
    "**<span style=\"color:blue\"> Question 5.I What does this selection bias mean in words? (1 pt)</span>**"
   ]
  },
  {
   "cell_type": "markdown",
   "metadata": {},
   "source": [
    "*ANSWER TO 5.I*"
   ]
  },
  {
   "cell_type": "markdown",
   "metadata": {},
   "source": [
    "For the next set of questions, we now include a new variable representing the liberalness of a city as a binary variable. We do this by adding a new column, \"Liberalness\", and moving our dependent variable, police reform, to the end.\n",
    "\n",
    "<span style=\"color:blue\">**Question 5.J: First thinking theoretically, why might Liberalness be an important confounding variable for the relationship between protest and police reform? (2 pts)**</span>"
   ]
  },
  {
   "cell_type": "markdown",
   "metadata": {},
   "source": [
    "*ANSWER TO 5.J*\n"
   ]
  },
  {
   "cell_type": "markdown",
   "metadata": {},
   "source": [
    "Now let's add the liberalness variable to our data set (again, made up data, but probably about right for these cities!)"
   ]
  },
  {
   "cell_type": "code",
   "execution_count": null,
   "metadata": {},
   "outputs": [],
   "source": [
    "table = protest_table.with_column(\"Liberal\", [1,1,1,1,1,0,0,0,0,0,0])\n",
    "table"
   ]
  },
  {
   "cell_type": "markdown",
   "metadata": {},
   "source": [
    "To assess whether this really is a confounding variable, let's separate out the cities into the liberal ones and the nonliberal ones:"
   ]
  },
  {
   "cell_type": "code",
   "execution_count": null,
   "metadata": {},
   "outputs": [],
   "source": [
    "liberal = table.where(\"Liberal\", 1)\n",
    "nonliberal = table.where(\"Liberal\", 0)"
   ]
  },
  {
   "cell_type": "markdown",
   "metadata": {},
   "source": [
    "And we can then compute the difference in protest rates in the liberal cities vs others:"
   ]
  },
  {
   "cell_type": "code",
   "execution_count": null,
   "metadata": {},
   "outputs": [],
   "source": [
    "liberal_protests_avg = np.mean(liberal.column('Protest'))\n",
    "nonliberal_protests_avg = np.mean(nonliberal.column('Protest'))\n",
    "print(\"Protest rate, liberal cities: \", liberal_protests_avg)\n",
    "print('Protest rate, other cities', nonliberal_protests_avg)\n",
    "print('Difference in protest rates',liberal_protests_avg - nonliberal_protests_avg)"
   ]
  },
  {
   "cell_type": "markdown",
   "metadata": {},
   "source": [
    "\n",
    "\n",
    "**<span style=\"color:blue\"> Question 5.K: What does this tell us about the relative prevalence of protests in liberal cities compared to others? (1 pt)**"
   ]
  },
  {
   "cell_type": "markdown",
   "metadata": {},
   "source": [
    "*ANSWER TO 5.K*"
   ]
  },
  {
   "cell_type": "markdown",
   "metadata": {},
   "source": [
    "<span style=\"color:blue\">**Question 5.L Now write some code in the cell below to compute the average reform level in liberal cities and non-liberal cities. (1 pt)**</span>"
   ]
  },
  {
   "cell_type": "code",
   "execution_count": 24,
   "metadata": {},
   "outputs": [],
   "source": [
    "# Code for 5.L Below"
   ]
  },
  {
   "cell_type": "markdown",
   "metadata": {},
   "source": [
    "<span style=\"color:blue\">**Question 5.M Combining your answers to 5.K and 5.L, does this provide evidience that liberalness is a confounding variable we should worry about when studying the relationship between protests and police reform? (2 pts)**</span>"
   ]
  },
  {
   "cell_type": "markdown",
   "metadata": {},
   "source": [
    "*ANSWER TO 5.L*"
   ]
  },
  {
   "cell_type": "markdown",
   "metadata": {},
   "source": [
    "## The End\n",
    "Great job, you're done with this homework!\n",
    "Once you have finished working on your problem set, go to File ->Download as-> PDF via Latex. Do not download it as PDF via html"
   ]
  },
  {
   "cell_type": "markdown",
   "metadata": {},
   "source": [
    "Authors: William McEachen, Mikalya Tom, Carlos Calderon, Aishah Mahmud\n",
    "\n"
   ]
  }
 ],
 "metadata": {
  "kernelspec": {
   "display_name": "Python 3",
   "language": "python",
   "name": "python3"
  },
  "language_info": {
   "codemirror_mode": {
    "name": "ipython",
    "version": 3
   },
   "file_extension": ".py",
   "mimetype": "text/x-python",
   "name": "python",
   "nbconvert_exporter": "python",
   "pygments_lexer": "ipython3",
   "version": "3.8.5"
  }
 },
 "nbformat": 4,
 "nbformat_minor": 4
}
