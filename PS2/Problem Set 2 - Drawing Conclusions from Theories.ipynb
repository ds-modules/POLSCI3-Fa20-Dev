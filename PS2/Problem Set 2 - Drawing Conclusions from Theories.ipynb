{
 "cells": [
  {
   "cell_type": "markdown",
   "metadata": {},
   "source": [
    "# Problem Set 2: Formalizing Behavior and Drawing Conclusions  \n",
    "In this homework, we'll consider new formal models for political interaction and how we can draw conclusions from data.  \n",
    "Table of Contents:\n",
    "1) [Game Theory](#gt)  \n",
    "2) [Causal Claims](#cc)  \n",
    "3) [The Median Voter](#mvt)  \n",
    "4) [Police Reform Mechanisms](#pfm)"
   ]
  },
  {
   "cell_type": "markdown",
   "metadata": {},
   "source": [
    "## Playing Nice <a class=\"anchor\" id=\"gt\"></a>\n",
    "Two candidates are in a close campaign, and are designing the ads that they will roll out for\n",
    "the final stretch. Suppose they simultaneously make a binary choice to either run a negative\n",
    "ad (N) *against their opponent* or a positive ad (P) *about themselves*. So, there are four possible outcomes (listing candidate 1’s choice\n",
    "first and candidate 2’s choice second): (N,N), (N,P), (P,N) or (P,P). Candidates don’t like it when\n",
    "the other chooses to go negative, but do better when going negative themselves.\n",
    "\n",
    "You can think of this like a game of chicken: if both candidates run attack ads (negative ads) a third party could take advantage of their equally weakened state. Both candidates see this as an unacceptable loss because they would prefer to maintain the two-party structure. "
   ]
  },
  {
   "cell_type": "markdown",
   "metadata": {},
   "source": [
    "**Part 1**: Come up with a preference ranking you think is reasonable for candidate 1. There is\n",
    "no one right answer here, though it should reflect the following conditions:\n",
    "1) the candidate would prefer that the other candidate doesn't use attack ads  \n",
    "2) the candidate would prefer to run attack ads themself  \n",
    "3) It's *really* bad when they both attack one another  \n",
    "\n",
    "Provided below is a template for a preference ranking table. Edit the table by inserting the preference rankings you believe is reasonable for candidate 1, corresponding to each choice. You can do this by double clicking on the cell with the table. Think of the columns as representing candidate 1's choice of ads, and the rows as representing candidate 2's choice of ads. "
   ]
  },
  {
   "cell_type": "markdown",
   "metadata": {},
   "source": [
    "**<span style=\"color:blue\"> Edit the table in the cell below. (1 pt)</span>** \n"
   ]
  },
  {
   "cell_type": "markdown",
   "metadata": {},
   "source": [
    "|          | Positive | Negative     | \n",
    "|----------|----------|--------------|\n",
    "| Positive |  _       |  _           |  \n",
    "| Negative |  _       |  _           |  \n",
    " \n",
    "\n"
   ]
  },
  {
   "cell_type": "markdown",
   "metadata": {},
   "source": [
    "Why do you think these preference's are reasonable for candidate 1?   \n",
    "\n",
    "**<span style=\"color:blue\"> Explain your reasoning in the cell below. (1 pt)</span>** \n"
   ]
  },
  {
   "cell_type": "markdown",
   "metadata": {},
   "source": [
    "*EXPLANATION HERE.*"
   ]
  },
  {
   "cell_type": "markdown",
   "metadata": {},
   "source": [
    "**Part 2** : Give candidate 1 a utility function which represents these preferences. \n",
    "**<span style=\"color:blue\"> Write your utility function in the cell below. (1 pt)</span>** \n"
   ]
  },
  {
   "cell_type": "code",
   "execution_count": null,
   "metadata": {},
   "outputs": [],
   "source": [
    "*WRITE UTILITY FUNCTION HERE.*"
   ]
  },
  {
   "cell_type": "markdown",
   "metadata": {},
   "source": [
    "**Part 3**: Suppose candidate 2 has the “same” preferences: if you gave\n",
    "candidate 1 a utility of 3 if candidate 1 picks N and 2 picks P, you should give candidate 2 a\n",
    "utility of 3 if candidate 1 picks P and 2 picks N. Represent this game with a 2 by 2 table. A template has been provided below. Update the utility values so they match with the preferences you have chosen. You can do this by double clicking on the cell with the table and replacing the _ with the appropriate values. Put candidate 1's utiltiy on the left and candidate 2's utility on the right for each combination of decisions, i.e _, _  becomes candidate 1 utility, candidate 2 utility."
   ]
  },
  {
   "cell_type": "markdown",
   "metadata": {},
   "source": [
    "**<span style=\"color:blue\"> Edit the table in the cell below. (2 pts)**"
   ]
  },
  {
   "cell_type": "markdown",
   "metadata": {},
   "source": [
    "|          | Positive | Negative     |  \n",
    "|----------|----------|--------------|\n",
    "| Positive |  _, _    |  _, _        | \n",
    "| Negative |  _, _    |  _, _        | \n"
   ]
  },
  {
   "cell_type": "markdown",
   "metadata": {},
   "source": [
    "**Part 4**: Copy the utility values from part 3, then use the “star the best responses” method to find the Nash Equilibria (NE) to this game. "
   ]
  },
  {
   "cell_type": "markdown",
   "metadata": {},
   "source": [
    "**<span style=\"color:blue\"> Edit the table in the cell below. (2pts)**"
   ]
  },
  {
   "cell_type": "markdown",
   "metadata": {},
   "source": [
    "|          | Positive | Negative     | \n",
    "|----------|----------|--------------|\n",
    "| Positive |  _, _    |  _, _        |   \n",
    "| Negative |  _, _    |  _, _        |  \n"
   ]
  },
  {
   "cell_type": "markdown",
   "metadata": {},
   "source": [
    "**Part 5**: Which of the games we went over in class (Prisoner's’ dilemma, protesting against\n",
    "a bad dictator, voting for a bad bill) does the game you created most closely resemble? In general, how do these tables help us illustrate the motives and effects of individuals?   \n",
    "\n",
    "**<span style=\"color:blue\"> In the cell below, compare this scenario to others you've seen. Explain the value in using this format for modeling behavior. (2 pts)</span>** \n"
   ]
  },
  {
   "cell_type": "markdown",
   "metadata": {},
   "source": [
    "*EXPLANATION HERE*"
   ]
  },
  {
   "cell_type": "markdown",
   "metadata": {},
   "source": [
    "# 2. Undemocratic Midterms <a class=\"anchor\" id=\"cc\"></a>\n",
    "As political science majors, it is important to be able to articulate the reasoning *and* conclusions that authors arrive at in their writing. The following problem is an opportunity to practice this skill."
   ]
  },
  {
   "cell_type": "markdown",
   "metadata": {},
   "source": [
    "Read the following article: [“Four ways US mid-terms are undemocratic”](https://www.bbc.com/news/world-us-canada-45526335)"
   ]
  },
  {
   "cell_type": "markdown",
   "metadata": {},
   "source": [
    "**Part 1**: Identify two causal claims for questions which are either explicitly stated in the article or implicit in an argument the writer (or someone mentioned) makes.   \n",
    "**<span style=\"color:blue\"> In the cell below, write your claims. (2 pts)**"
   ]
  },
  {
   "cell_type": "markdown",
   "metadata": {},
   "source": [
    "*ANSWER HERE*"
   ]
  },
  {
   "cell_type": "markdown",
   "metadata": {},
   "source": [
    "**Part 2**: Do you think these causal claims are theoretically coherent?  \n",
    "**<span style=\"color:blue\"> In the cell below, write your justification. (1 pt)**"
   ]
  },
  {
   "cell_type": "markdown",
   "metadata": {},
   "source": [
    "*EXPLAIN YOUR JUSTIFICATION*"
   ]
  },
  {
   "cell_type": "markdown",
   "metadata": {},
   "source": [
    "**Part 3** (2 Points): If the article provides evidence for the causal claims, do you find it convincing? If not, what other evidence might you collect to test the causal claims?  \n",
    "**<span style=\"color:blue\"> In the cell below, explain your thinking. (2 pts)**"
   ]
  },
  {
   "cell_type": "markdown",
   "metadata": {},
   "source": [
    "*ANSWER HERE*"
   ]
  },
  {
   "cell_type": "markdown",
   "metadata": {},
   "source": [
    "## A Technical Aside\n",
    "Before we can continue, we need to review some technical materials. While previously we've only used Python cells for basic calculations, we can do so much more! In this section, we will see how to calculate some *summary statistics* and create tables."
   ]
  },
  {
   "cell_type": "markdown",
   "metadata": {},
   "source": [
    "#### Finding the Median\n",
    "NumPy allows us to make useful calculations with numerical data. Imagine we have some array of numbers -- our data -- and that we wish to find the median value of the data. A NumPy method that allows us to do this is `np.median` (where `np` refers to NumPy), which takes as input some data and outputs the median value for that data. Run the cell below, which should generate 72 random numbers."
   ]
  },
  {
   "cell_type": "code",
   "execution_count": null,
   "metadata": {},
   "outputs": [],
   "source": [
    "import numpy as np\n",
    "data = np.random.randint(0,100,size=72)\n",
    "data"
   ]
  },
  {
   "cell_type": "markdown",
   "metadata": {},
   "source": [
    "Now, with the `data` above, use the `np.median` method to find the median value for the data. "
   ]
  },
  {
   "cell_type": "code",
   "execution_count": null,
   "metadata": {},
   "outputs": [],
   "source": [
    "median = np.median(data)\n",
    "median"
   ]
  },
  {
   "cell_type": "markdown",
   "metadata": {},
   "source": [
    "Great! In the next section of the homework, you'll see how these calculations can be helpful.  \n",
    "\n",
    "**Tables** \n",
    "Often times we don't want just a single list of data points. When we want to put lists of data into the same context, we can use a Table. You can think of Tables as Python's answer to an Excel spreadsheet: both have labeled columns that contain the values for individual entries (for each row). Let's explore how to create a table!\n",
    "\n",
    "In the following cell, we create a table manually. A table is defined by a list of column labels followed by the list of values for that column. Notice how we predefined the individual values.\n",
    "\n",
    "**SIDE NOTE: The following data is made up**"
   ]
  },
  {
   "cell_type": "code",
   "execution_count": 55,
   "metadata": {
    "scrolled": true
   },
   "outputs": [
    {
     "data": {
      "text/html": [
       "<table border=\"1\" class=\"dataframe\">\n",
       "    <thead>\n",
       "        <tr>\n",
       "            <th>City</th> <th>Protest</th> <th>Police Reform</th>\n",
       "        </tr>\n",
       "    </thead>\n",
       "    <tbody>\n",
       "        <tr>\n",
       "            <td>Portland      </td> <td>1      </td> <td>1            </td>\n",
       "        </tr>\n",
       "        <tr>\n",
       "            <td>San Diego     </td> <td>0      </td> <td>0            </td>\n",
       "        </tr>\n",
       "        <tr>\n",
       "            <td>New York City </td> <td>1      </td> <td>1            </td>\n",
       "        </tr>\n",
       "        <tr>\n",
       "            <td>Seattle       </td> <td>1      </td> <td>0            </td>\n",
       "        </tr>\n",
       "        <tr>\n",
       "            <td>Los Angeles   </td> <td>1      </td> <td>1            </td>\n",
       "        </tr>\n",
       "        <tr>\n",
       "            <td>Louisville    </td> <td>0      </td> <td>1            </td>\n",
       "        </tr>\n",
       "        <tr>\n",
       "            <td>Salt Lake City</td> <td>1      </td> <td>0            </td>\n",
       "        </tr>\n",
       "        <tr>\n",
       "            <td>Raleigh       </td> <td>1      </td> <td>0            </td>\n",
       "        </tr>\n",
       "        <tr>\n",
       "            <td>Nashville     </td> <td>0      </td> <td>0            </td>\n",
       "        </tr>\n",
       "        <tr>\n",
       "            <td>Tampa         </td> <td>0      </td> <td>0            </td>\n",
       "        </tr>\n",
       "    </tbody>\n",
       "</table>\n",
       "<p>... (1 rows omitted)</p>"
      ],
      "text/plain": [
       "City           | Protest | Police Reform\n",
       "Portland       | 1       | 1\n",
       "San Diego      | 0       | 0\n",
       "New York City  | 1       | 1\n",
       "Seattle        | 1       | 0\n",
       "Los Angeles    | 1       | 1\n",
       "Louisville     | 0       | 1\n",
       "Salt Lake City | 1       | 0\n",
       "Raleigh        | 1       | 0\n",
       "Nashville      | 0       | 0\n",
       "Tampa          | 0       | 0\n",
       "... (1 rows omitted)"
      ]
     },
     "execution_count": 55,
     "metadata": {},
     "output_type": "execute_result"
    }
   ],
   "source": [
    "from datascience import Table\n",
    "cities = ['Portland','San Diego','New York City','Seattle','Los Angeles','Louisville',\n",
    "          'Salt Lake City','Raleigh','Nashville','Tampa','Topeka']\n",
    "blm_protests = [1,0,1,1,1,0,1,1,0,0,0]\n",
    "police_reform = [1,0,1,0,1,1,0,0,0,0,0]\n",
    "protest_table = Table().with_columns('City', cities,\n",
    "                            'Protest', blm_protests,\n",
    "                            'Police Reform', police_reform)\n",
    "protest_table"
   ]
  },
  {
   "cell_type": "markdown",
   "metadata": {},
   "source": [
    "Let's inspect the data in this mock table. In this example, we have a list of strings for the different cities and *binary variables* representing whether protests and/or Police Reform occurred or not. A binary variable is a variable equal to 1 when a condition is met, in these cases protests and police reform, and equal to 0 otherwise.   \n",
    "\n",
    "What happens when we want to select a column? We use the `.column(COLUMN LABEL)` functionality. In the cell below, we select the City column:"
   ]
  },
  {
   "cell_type": "code",
   "execution_count": null,
   "metadata": {
    "scrolled": true
   },
   "outputs": [],
   "source": [
    "protest_table.column('City')"
   ]
  },
  {
   "cell_type": "markdown",
   "metadata": {},
   "source": [
    "Try selecting your own data! In the cell below, try selecting some other column in the table by replacing the ... with the correct value.  \n",
    "\n",
    "**<span style=\"color:blue\"> In the cell below, replace the ellipses in order to select some other column. (1 pt)**"
   ]
  },
  {
   "cell_type": "code",
   "execution_count": null,
   "metadata": {},
   "outputs": [],
   "source": [
    "protest_table.column(...)"
   ]
  },
  {
   "cell_type": "markdown",
   "metadata": {},
   "source": [
    "Fantastic! With this newfound Python knowledge under our belt, we're ready to start the second half of the homework."
   ]
  },
  {
   "cell_type": "markdown",
   "metadata": {},
   "source": [
    "## The Median Voter Theorem <a class=\"anchor\" id=\"mvt\"></a>\n"
   ]
  },
  {
   "cell_type": "markdown",
   "metadata": {},
   "source": [
    "With our newfound data manipulation abilities, we can predict how candidates will choose their electoral position. In the following examples, view political alignment as a point on a number line, with labels:    \n",
    "\n",
    "| Number | Political Stance       |\n",
    "|--------|------------------------|\n",
    "| -2     | Extreme or \"Base\" Left |\n",
    "| -1     | Moderate Left          |\n",
    "| 0      | Centrist               |\n",
    "| 1      | Moderate Right         |\n",
    "| 2      | Extreme Right          |  \n",
    "\n",
    "As a review from lecture, what does the Median Voter Theorem state?  \n",
    "**<span style=\"color:blue\"> In the cell below, explain the Median Voter Theorem. (1 pt)**"
   ]
  },
  {
   "cell_type": "markdown",
   "metadata": {},
   "source": [
    "*YOUR ANSWER HERE*"
   ]
  },
  {
   "cell_type": "markdown",
   "metadata": {},
   "source": [
    "In the following example, we will predict and verify candidate positions. Suppose that we have 5 extreme left voters, 45 moderate left, 1 centrist, 45 moderate right, and 5 extreme right voters. Intuitively, where should we expect that candidates align themselves?"
   ]
  },
  {
   "cell_type": "markdown",
   "metadata": {},
   "source": [
    "**<span style=\"color:blue\"> In the cell below, use the Median Voter Theorem to predict where candidates will align themselves. (1 pt)**"
   ]
  },
  {
   "cell_type": "markdown",
   "metadata": {},
   "source": [
    "*YOUR ANSWER HERE*"
   ]
  },
  {
   "cell_type": "markdown",
   "metadata": {},
   "source": [
    "We can also check this with Python! In the cell below, the `make_voter_array` function generates a distribution of voters according to the list of voter counts. "
   ]
  },
  {
   "cell_type": "code",
   "execution_count": null,
   "metadata": {
    "scrolled": true
   },
   "outputs": [],
   "source": [
    "from utils import make_count_array\n",
    "example_distribution = make_count_array([10, 0, 81, 0, 10])\n",
    "example_distribution"
   ]
  },
  {
   "cell_type": "markdown",
   "metadata": {},
   "source": [
    "In this example, there are 20 extremists (10 on each side) and 81 centrists. To replicate our findings using the Median Voter Theorem, replicate the above cell, but with 5 extreme left voters, 45 moderate left, 1 centrist, 45 moderate right, and 5 extreme right voters.  \n",
    "**<span style=\"color:blue\"> In the cell below, set `voters` to the appropriate distribution. (2 pts)**"
   ]
  },
  {
   "cell_type": "code",
   "execution_count": null,
   "metadata": {},
   "outputs": [],
   "source": [
    "voters = make_count_array([...])\n",
    "voters"
   ]
  },
  {
   "cell_type": "markdown",
   "metadata": {},
   "source": [
    "Now that we have our voter array, we can find the median! In the cell below, we calculate the median of our example distribution. Is this the result we expect?"
   ]
  },
  {
   "cell_type": "code",
   "execution_count": null,
   "metadata": {},
   "outputs": [],
   "source": [
    "np.median(example_distribution)"
   ]
  },
  {
   "cell_type": "markdown",
   "metadata": {},
   "source": [
    "Let's confirm our theoretical prediction!  \n",
    "\n",
    "**<span style=\"color:blue\"> In the cell below, use the median function to predict the optimal position for candidates to take (1 pt)**"
   ]
  },
  {
   "cell_type": "code",
   "execution_count": null,
   "metadata": {},
   "outputs": [],
   "source": [
    "# YOUR CODE HERE\n",
    "..."
   ]
  },
  {
   "cell_type": "markdown",
   "metadata": {},
   "source": [
    "As a visual aid, run the next cell to change the candidate positions. In this example, if voters are undecided between two candidates, they will decide by flipping a coin. "
   ]
  },
  {
   "cell_type": "code",
   "execution_count": null,
   "metadata": {
    "scrolled": false
   },
   "outputs": [],
   "source": [
    "from ipywidgets import interact, interactive, fixed, interact_manual, IntSlider\n",
    "%matplotlib inline\n",
    "interact(plot_voters_candidates, counts=fixed([5, 45, 1, 45, 5]), \n",
    "         candA=IntSlider(min=-2, max=2, step=1, value=1), \n",
    "         candB=IntSlider(min=-2, max=2, step=1, value=-1));"
   ]
  },
  {
   "cell_type": "markdown",
   "metadata": {},
   "source": [
    "How does changing candidate positions change the alignment of voters? Using this visualization, can we confirm our initial prediction?  \n",
    "**<span style=\"color:blue\"> In the cell below, explain your findings from changing the two candidate positions. (2 pts)**"
   ]
  },
  {
   "cell_type": "markdown",
   "metadata": {},
   "source": [
    "*YOUR ANSWER HERE*"
   ]
  },
  {
   "cell_type": "markdown",
   "metadata": {},
   "source": [
    "Here is a quote about campaign strategy from a Liberal activist: “The key data is this, and it’s\n",
    "important to reemphasize if only to shut up the useless, overpaid political consultants who\n",
    "idiotically babble about ‘moving to the center’ or ‘compromising with the other side’...What\n",
    "matters is turning out our voters. That’s it. The Democrats win when we fire up and turn out our\n",
    "base.” (A party’s “base” is considered to be its most ideologically committed voters. For\n",
    "example, the Pizza4All party’s base is pizza fanatics.)  \n",
    "\n",
    "\n",
    "When might it be better to pick a platform to please the base rather than the median voter? Let's remove the centrist voter, and see if we can get a different Nash Equilibrium. \n",
    "**<span style=\"color:blue\"> In the cell below, set `no_centrist` to the same distribution as in the previous section, but without any centrist voters. (1 pt)**"
   ]
  },
  {
   "cell_type": "code",
   "execution_count": null,
   "metadata": {},
   "outputs": [],
   "source": [
    "no_centrist = make_count_array([...])\n",
    "no_centrist"
   ]
  },
  {
   "cell_type": "markdown",
   "metadata": {},
   "source": [
    "Has the median changed?  \n",
    "**<span style=\"color:blue\"> In the cell below, calculate the median of `no_centrist`. (1 pt)**"
   ]
  },
  {
   "cell_type": "code",
   "execution_count": null,
   "metadata": {},
   "outputs": [],
   "source": [
    "# YOUR CODE HERE\n",
    "..."
   ]
  },
  {
   "cell_type": "markdown",
   "metadata": {},
   "source": [
    "Can we find a different equilibrium than the candidates using the median in this case? Use the sliders in the visualization below to determine what, if any, alternative positions are stable. "
   ]
  },
  {
   "cell_type": "code",
   "execution_count": null,
   "metadata": {},
   "outputs": [],
   "source": [
    "interact(plot_voters_candidates, counts=fixed([5, 45, 0, 45, 5]), \n",
    "         candA=IntSlider(min=-2, max=2, step=1, value=0), \n",
    "         candB=IntSlider(min=-2, max=2, step=1, value=0));"
   ]
  },
  {
   "cell_type": "markdown",
   "metadata": {},
   "source": [
    "Were you able to find any stable alternative arrangements? Why (or why not) does this make theoretical sense?  \n",
    "**<span style=\"color:blue\"> In the cell below, describe your results. (2 pts)**"
   ]
  },
  {
   "cell_type": "markdown",
   "metadata": {},
   "source": [
    "*YOUR ANSWER HERE*"
   ]
  },
  {
   "cell_type": "markdown",
   "metadata": {},
   "source": [
    "## Causality in Police Reform <a class=\"anchor\" id=\"pfm\"></a>\n",
    "Recall our table from the coding section of the homework:"
   ]
  },
  {
   "cell_type": "code",
   "execution_count": 56,
   "metadata": {},
   "outputs": [
    {
     "data": {
      "text/html": [
       "<table border=\"1\" class=\"dataframe\">\n",
       "    <thead>\n",
       "        <tr>\n",
       "            <th>City</th> <th>Protest</th> <th>Police Reform</th>\n",
       "        </tr>\n",
       "    </thead>\n",
       "    <tbody>\n",
       "        <tr>\n",
       "            <td>Portland      </td> <td>1      </td> <td>1            </td>\n",
       "        </tr>\n",
       "        <tr>\n",
       "            <td>San Diego     </td> <td>0      </td> <td>0            </td>\n",
       "        </tr>\n",
       "        <tr>\n",
       "            <td>New York City </td> <td>1      </td> <td>1            </td>\n",
       "        </tr>\n",
       "        <tr>\n",
       "            <td>Seattle       </td> <td>1      </td> <td>0            </td>\n",
       "        </tr>\n",
       "        <tr>\n",
       "            <td>Los Angeles   </td> <td>1      </td> <td>1            </td>\n",
       "        </tr>\n",
       "        <tr>\n",
       "            <td>Louisville    </td> <td>0      </td> <td>1            </td>\n",
       "        </tr>\n",
       "        <tr>\n",
       "            <td>Salt Lake City</td> <td>1      </td> <td>0            </td>\n",
       "        </tr>\n",
       "        <tr>\n",
       "            <td>Raleigh       </td> <td>1      </td> <td>0            </td>\n",
       "        </tr>\n",
       "        <tr>\n",
       "            <td>Nashville     </td> <td>0      </td> <td>0            </td>\n",
       "        </tr>\n",
       "        <tr>\n",
       "            <td>Tampa         </td> <td>0      </td> <td>0            </td>\n",
       "        </tr>\n",
       "    </tbody>\n",
       "</table>\n",
       "<p>... (1 rows omitted)</p>"
      ],
      "text/plain": [
       "City           | Protest | Police Reform\n",
       "Portland       | 1       | 1\n",
       "San Diego      | 0       | 0\n",
       "New York City  | 1       | 1\n",
       "Seattle        | 1       | 0\n",
       "Los Angeles    | 1       | 1\n",
       "Louisville     | 0       | 1\n",
       "Salt Lake City | 1       | 0\n",
       "Raleigh        | 1       | 0\n",
       "Nashville      | 0       | 0\n",
       "Tampa          | 0       | 0\n",
       "... (1 rows omitted)"
      ]
     },
     "execution_count": 56,
     "metadata": {},
     "output_type": "execute_result"
    }
   ],
   "source": [
    "protest_table"
   ]
  },
  {
   "cell_type": "markdown",
   "metadata": {},
   "source": [
    "In this example, we will compare two cities: Portland and Tampa. In Portland, protests and police reform both occurred, while in Tampa, neither did.\n",
    "\n",
    "**<span style=\"color:blue\"> In the cell below, explain why we can't conclude that protests lead to police reform. (2 pts)**"
   ]
  },
  {
   "cell_type": "markdown",
   "metadata": {},
   "source": [
    "*EXPLAIN CAUSAL REASONING HERE*"
   ]
  },
  {
   "cell_type": "markdown",
   "metadata": {},
   "source": [
    "Suppose that in reality, having *no* protests in your city increases the likelihood of enforced police reform. If so, what would be the counterfactual potential outcomes in these cities (i.e., Seattle if\n",
    "it had none, Nashville if it had at least one)?  \n",
    "**<span style=\"color:blue\"> In the cell below, describe your counterfactuals. (1 pt)**"
   ]
  },
  {
   "cell_type": "markdown",
   "metadata": {},
   "source": [
    "*YOUR ANSWER HERE*"
   ]
  },
  {
   "cell_type": "markdown",
   "metadata": {},
   "source": [
    "A researcher collects some more systematic data and finds that on average cities with BLM protests are predicted to adopt police reform at rates of 54% and cities with no protests are predicted to adopt police reform at rates of 20%. If the real causal effect of having protests is a constant 10% across the country, what is the selection bias in the difference of means estimate?"
   ]
  },
  {
   "cell_type": "markdown",
   "metadata": {},
   "source": [
    "*YOUR ANSWER HERE*"
   ]
  },
  {
   "cell_type": "markdown",
   "metadata": {},
   "source": [
    "For the next set of questions, we now include a new variable representing the liberalness of a city as a binary variable. We do this by adding a new column, \"Liberalness\", and moving our dependent variable, police reform, to the end."
   ]
  },
  {
   "cell_type": "code",
   "execution_count": 57,
   "metadata": {},
   "outputs": [
    {
     "data": {
      "text/html": [
       "<table border=\"1\" class=\"dataframe\">\n",
       "    <thead>\n",
       "        <tr>\n",
       "            <th>City</th> <th>Protest</th> <th>Liberalness</th> <th>Police Reform</th>\n",
       "        </tr>\n",
       "    </thead>\n",
       "    <tbody>\n",
       "        <tr>\n",
       "            <td>Portland      </td> <td>1      </td> <td>1          </td> <td>1            </td>\n",
       "        </tr>\n",
       "        <tr>\n",
       "            <td>San Diego     </td> <td>0      </td> <td>1          </td> <td>0            </td>\n",
       "        </tr>\n",
       "        <tr>\n",
       "            <td>New York City </td> <td>1      </td> <td>1          </td> <td>1            </td>\n",
       "        </tr>\n",
       "        <tr>\n",
       "            <td>Seattle       </td> <td>1      </td> <td>1          </td> <td>0            </td>\n",
       "        </tr>\n",
       "        <tr>\n",
       "            <td>Los Angeles   </td> <td>1      </td> <td>1          </td> <td>1            </td>\n",
       "        </tr>\n",
       "        <tr>\n",
       "            <td>Louisville    </td> <td>0      </td> <td>0          </td> <td>1            </td>\n",
       "        </tr>\n",
       "        <tr>\n",
       "            <td>Salt Lake City</td> <td>1      </td> <td>0          </td> <td>0            </td>\n",
       "        </tr>\n",
       "        <tr>\n",
       "            <td>Raleigh       </td> <td>1      </td> <td>0          </td> <td>0            </td>\n",
       "        </tr>\n",
       "        <tr>\n",
       "            <td>Nashville     </td> <td>0      </td> <td>0          </td> <td>0            </td>\n",
       "        </tr>\n",
       "        <tr>\n",
       "            <td>Tampa         </td> <td>0      </td> <td>0          </td> <td>0            </td>\n",
       "        </tr>\n",
       "    </tbody>\n",
       "</table>\n",
       "<p>... (1 rows omitted)</p>"
      ],
      "text/plain": [
       "City           | Protest | Liberalness | Police Reform\n",
       "Portland       | 1       | 1           | 1\n",
       "San Diego      | 0       | 1           | 0\n",
       "New York City  | 1       | 1           | 1\n",
       "Seattle        | 1       | 1           | 0\n",
       "Los Angeles    | 1       | 1           | 1\n",
       "Louisville     | 0       | 0           | 1\n",
       "Salt Lake City | 1       | 0           | 0\n",
       "Raleigh        | 1       | 0           | 0\n",
       "Nashville      | 0       | 0           | 0\n",
       "Tampa          | 0       | 0           | 0\n",
       "... (1 rows omitted)"
      ]
     },
     "execution_count": 57,
     "metadata": {},
     "output_type": "execute_result"
    }
   ],
   "source": [
    "table = protest_table.with_column(\"Liberalness\", [1,1,1,1,1,0,0,0,0,0,0]).move_to_end('Police Reform')\n",
    "table"
   ]
  },
  {
   "cell_type": "markdown",
   "metadata": {},
   "source": [
    "From this table, which of the potential outcomes for Salt Lake City can we know, and which is the counterfactual?  \n",
    "**<span style=\"color:blue\"> In the cell below, differentiate between the different potential outcomes for Salt Lake City and which we know for certain. (1 pt)**"
   ]
  },
  {
   "cell_type": "markdown",
   "metadata": {},
   "source": [
    "*EXPLAIN COUNTERFACTUAL HERE*"
   ]
  },
  {
   "cell_type": "markdown",
   "metadata": {},
   "source": [
    "We want to see how protests relate to police reform. In order to do this, we first have to use the `.where()` functionality. This allows us to filter tables to meet some condition by selecting a column and the value(s) we wish that column to contain. In the cell below, we have shown how to filter the table to only contain rows where there was a protest.  \n",
    "**<span style=\"color:blue\"> In the cell below, set `no_protests` to the table where Protest is 0. (1 pt)**"
   ]
  },
  {
   "cell_type": "code",
   "execution_count": 58,
   "metadata": {},
   "outputs": [],
   "source": [
    "protests = table.where(\"Protest\", 1)\n",
    "no_protests = ..."
   ]
  },
  {
   "cell_type": "markdown",
   "metadata": {},
   "source": [
    "Now that we have these tables, we want to get the average value in their Police Reform column. We can use this to compare the *difference in means* in reform between when cities have protests and not. In the cell below, we select the Police reform column and calculate its mean using `np.mean`.    \n",
    "\n",
    "**<span style=\"color:blue\"> In the cell below, set `no_protest_avg` to the average amount of police reform where there are no protests. (1 pt)**"
   ]
  },
  {
   "cell_type": "code",
   "execution_count": 62,
   "metadata": {},
   "outputs": [
    {
     "name": "stdout",
     "output_type": "stream",
     "text": [
      "Reform Average Rate with Protests:  0.5\n",
      "Reform Average Rate with No Protests: Ellipsis\n"
     ]
    }
   ],
   "source": [
    "protests_avg = np.mean(protests.column('Police Reform'))\n",
    "no_protests_avg = ...\n",
    "print(\"Reform Average Rate with Protests: \", protests_avg)\n",
    "print('Reform Average Rate with No Protests:', no_protests_avg)"
   ]
  },
  {
   "cell_type": "markdown",
   "metadata": {},
   "source": [
    "Is there a difference between these averages? Can we draw a causal relationship between protests and police reform?\n",
    "**<span style=\"color:blue\"> In the cell below, explain why or why not this suggests a causal relationship. (2 pts)**"
   ]
  },
  {
   "cell_type": "markdown",
   "metadata": {},
   "source": [
    "*EXPLAIN CAUSAL THINKING HERE*"
   ]
  },
  {
   "cell_type": "markdown",
   "metadata": {},
   "source": [
    "Confounding variables are those factors that may plausibly be involved in a causal relationship. For example, if you try to establish a causal link between age and same-sex marriage approval, political affiliation would be a confounding variable. This is because while there may be a relationship between age and same-sex marriage approval, it is very likely that political affiliation is also involved. \n",
    "\n",
    "In our example, what might be a confounding variable (think about the columns of information we have)?  \n",
    "**<span style=\"color:blue\"> In the cell below, explain what confounding variables might exist with this data. (2 pts)**"
   ]
  },
  {
   "cell_type": "markdown",
   "metadata": {},
   "source": [
    "*EXPLAIN CONFOUNDING VARIABLES HERE*"
   ]
  },
  {
   "cell_type": "markdown",
   "metadata": {},
   "source": [
    "How can we address the effect of confounding variables? One avenue is to only look at differences between those cities with equivalent liberalness. This approach ensures that the liberalness is not the underlying source of a relationship by making it static: it can not change as protest and reform does.  \n",
    "\n",
    "In the following cell, we select only liberal cities. Among those, we wish to look at the difference between those cities with protest and those without, similar to before.  \n",
    "**<span style=\"color:blue\"> In the cell below, set `no_protest_liberal` to the table where cities are liberal but did not have protest. (1 pt)**"
   ]
  },
  {
   "cell_type": "code",
   "execution_count": 63,
   "metadata": {},
   "outputs": [],
   "source": [
    "liberal = table.where(\"Liberalness\", 1)\n",
    "protests_liberal = liberal.where(\"Protest\", 1)\n",
    "no_protests_liberal = ..."
   ]
  },
  {
   "cell_type": "markdown",
   "metadata": {},
   "source": [
    "Just like before, we can now compare the average!\n",
    "**<span style=\"color:blue\"> In the cell below, set `no_protest_liberal_avg` to the average rate of police reform amongst liberal cities without protest. (1 pt)**"
   ]
  },
  {
   "cell_type": "code",
   "execution_count": null,
   "metadata": {},
   "outputs": [],
   "source": [
    "liberal_protests_avg = np.mean(protests_liberal.column('Police Reform'))\n",
    "liberal_no_protests_avg = ...\n",
    "print(\"Reform Average Rate with Protests: \", protests_avg)\n",
    "print('Reform Average Rate with No Protests:', liberal_no_protests_avg)"
   ]
  },
  {
   "cell_type": "markdown",
   "metadata": {},
   "source": [
    "What difference do we find? Can we now establish a causal relationship?  \n",
    "**<span style=\"color:blue\"> In the cell below, explain whether we can or cannot establish a causal relationship between protests and reform, and what allows us to (not) do this. (3 pts)**"
   ]
  },
  {
   "cell_type": "markdown",
   "metadata": {},
   "source": [
    "*YOUR REASONING HERE*"
   ]
  },
  {
   "cell_type": "markdown",
   "metadata": {},
   "source": [
    "## The End\n",
    "Great job, you're done with this homework!\n",
    "Once you have finished working on your problem set, go to File ->Download as-> PDF via Latex. Do not download it as PDF via html"
   ]
  },
  {
   "cell_type": "markdown",
   "metadata": {},
   "source": [
    "Authors: William McEachen, Mikalya Tom, Carlos Calderon, Aishah Mahmud\n",
    "\n"
   ]
  }
 ],
 "metadata": {
  "kernelspec": {
   "display_name": "Python 3",
   "language": "python",
   "name": "python3"
  },
  "language_info": {
   "codemirror_mode": {
    "name": "ipython",
    "version": 3
   },
   "file_extension": ".py",
   "mimetype": "text/x-python",
   "name": "python",
   "nbconvert_exporter": "python",
   "pygments_lexer": "ipython3",
   "version": "3.7.9"
  }
 },
 "nbformat": 4,
 "nbformat_minor": 4
}
