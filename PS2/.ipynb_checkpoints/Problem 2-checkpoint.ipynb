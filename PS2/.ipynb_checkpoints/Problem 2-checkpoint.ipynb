{
 "cells": [
  {
   "cell_type": "code",
   "execution_count": 1,
   "metadata": {},
   "outputs": [],
   "source": [
    "import pandas as pd\n",
    "import numpy as np\n",
    "import seaborn as sns \n",
    "import matplotlib.pyplot as plt\n",
    "%matplotlib inline\n",
    "import warnings\n",
    "sns.set_palette(\"Blues_d\")\n",
    "\n",
    "from IPython.display import HTML\n",
    "\n",
    "# import the widgets module\n",
    "import ipywidgets as widgets\n",
    "from ipywidgets import interact, interactive, fixed, interact_manual\n",
    "\n",
    "warnings.filterwarnings(\"ignore\")\n",
    "#sns.set(style=\"whitegrid\")"
   ]
  },
  {
   "cell_type": "code",
   "execution_count": 265,
   "metadata": {},
   "outputs": [],
   "source": [
    "def make_count(count, number):\n",
    "    return np.array([np.ones(count) * number])\n",
    "\n",
    "def make_count_array(counts):\n",
    "    bases = [-2, -1, 0, 1, 2]\n",
    "    arr = np.array([])\n",
    "    for i, j in zip(counts, bases):\n",
    "        arr = np.append(arr, make_count(i, j))\n",
    "    return np.array([int(i) for i in arr])"
   ]
  },
  {
   "cell_type": "code",
   "execution_count": 266,
   "metadata": {},
   "outputs": [],
   "source": [
    "politicalStances = {-2: 'Extreme Left', -1:'Moderate Left', 0:'Centrist',\n",
    "                   1:'Moderate Right', 2:'Extreme Right'}\n",
    "colors = {-2:'blue', -1:'blue', 0:'black', 1:'red', 2:'red'}\n",
    "\n",
    "def make_color_arr(dta):\n",
    "    arr = []\n",
    "    for i in dta:\n",
    "        arr.append(colors[i])\n",
    "    return arr"
   ]
  },
  {
   "cell_type": "code",
   "execution_count": null,
   "metadata": {},
   "outputs": [],
   "source": [
    "def plot_voters(counts):\n",
    "    pos = [] \n",
    "    keys = {} # this dict will help to keep track ...\n",
    "    \n",
    "    data = make_count_array(counts)\n",
    "\n",
    "    # this loop will give us a list of frequencies to each number\n",
    "    for num in data: \n",
    "        if num not in keys:\n",
    "            keys[num] = 1\n",
    "            pos.append(1)\n",
    "        else:\n",
    "            keys[num] += 1\n",
    "            pos.append(keys[num])\n",
    "    \n",
    "    \n",
    "    for key, value in zip(keys.keys(), keys.values()):\n",
    "        print('There are ' + str(value) + ' ' + politicalStances[key] + \n",
    "              ' (' + str(key) + ') ' + 'voters')\n",
    "        \n",
    "    colorArr = make_color_arr(data)\n",
    "    \n",
    "    plt.scatter(data, pos, c=colorArr)\n",
    "    plt.grid(False)\n",
    "    plt.xticks([-2, -1, 0, 1, 2])\n",
    "    plt.show()"
   ]
  },
  {
   "cell_type": "code",
   "execution_count": 267,
   "metadata": {},
   "outputs": [],
   "source": [
    "def plot_voters_candidates(counts, candA, candB):\n",
    "    \n",
    "    pos = [] \n",
    "    keys = {} # this dict will help to keep track ...\n",
    "    \n",
    "    data = make_count_array(counts)\n",
    "    voting = {}\n",
    "    candidates = {'candA': 'Candidate A', 'candB': 'Candidate B'}\n",
    "\n",
    "    # this loop will give us a list of frequencies to each number\n",
    "    for num in data: \n",
    "        if num not in keys:\n",
    "            keys[num] = 1\n",
    "            pos.append(1)\n",
    "        else:\n",
    "            keys[num] += 1\n",
    "            pos.append(keys[num])\n",
    "    \n",
    "    voter_pos = set(data)\n",
    "    for i in voter_pos:\n",
    "        if i == 0:\n",
    "            voting[i] = np.random.choice(['candA', 'candB'], \n",
    "                                         p=[0.5, 0.5])\n",
    "            continue\n",
    "        diffA = abs(i - candA)\n",
    "        diffB = abs(i - candB)\n",
    "        if diffA < diffB:\n",
    "            voting[i] = 'candA'\n",
    "        elif diffB == diffA:\n",
    "            voting[i] = np.random.choice(['candA', 'candB'], p=[0.5, 0.5])\n",
    "            continue\n",
    "        else:\n",
    "            voting[i] = 'candB'\n",
    "        \n",
    "    \n",
    "    for key, value in zip(keys.keys(), keys.values()):\n",
    "        print('There are ' + str(value) + ' ' + politicalStances[key] + \n",
    "              ' (' + str(key) + ') ' + 'voters who will vote for ' + candidates[voting[key]])\n",
    "    \n",
    "        \n",
    "    colorArr = make_color_arr(data)\n",
    "    \n",
    "            \n",
    "    plt.scatter(data, pos, c=colorArr)\n",
    "    plt.grid(False)\n",
    "    plt.xticks([-2, -1, 0, 1, 2])\n",
    "    \n",
    "    plt.scatter([candA, candB], [0, 0], c=['gold', 'lime'])\n",
    "    plt.annotate('Candidate A', (candA, 0), (candA, 20), arrowprops=dict(arrowstyle='wedge', \n",
    "                                                                   connectionstyle='arc3, rad=0.2'))\n",
    "    plt.annotate('Candidate B', (candB, 0), (candB, 10), arrowprops=dict(arrowstyle='wedge', \n",
    "                                                                   connectionstyle='arc3, rad=-0.2'))\n",
    "    \n",
    "    \n",
    "    \n",
    "    plt.show()"
   ]
  },
  {
   "cell_type": "markdown",
   "metadata": {},
   "source": [
    "# 2. Median Voter Theorem (MVT) "
   ]
  },
  {
   "cell_type": "markdown",
   "metadata": {},
   "source": [
    "#### Finding the Median"
   ]
  },
  {
   "cell_type": "markdown",
   "metadata": {},
   "source": [
    "NumPy allows us to make useful calculations with numerical data. Imagine we have some array of numbers -- our data -- and that we wish to find the median value of the data. A NumPy method that allows us to do this is `np.median` (where `np` refers to NumPy), which takes as input some data and outputs the median value for that data. Run the cell below, which should generate 72 random numbers."
   ]
  },
  {
   "cell_type": "code",
   "execution_count": 2,
   "metadata": {},
   "outputs": [
    {
     "data": {
      "text/plain": [
       "array([ 8, 62,  1, 99, 10, 40, 14, 44,  9, 47,  9, 24, 10, 65, 43, 29, 93,\n",
       "       94, 80, 64, 96, 14, 97, 21, 26, 44, 61, 32, 35, 15, 40, 75, 83, 62,\n",
       "       92, 38, 82, 46, 68, 50, 60, 73, 65, 27, 69, 53, 79,  0, 50, 50, 42,\n",
       "       84, 41, 94, 34, 26, 18, 34, 43, 17, 19, 21, 57, 57, 59, 98, 44, 22,\n",
       "       65, 66,  3, 70])"
      ]
     },
     "execution_count": 2,
     "metadata": {},
     "output_type": "execute_result"
    }
   ],
   "source": [
    "data = np.random.randint(0,100,size=72)\n",
    "data"
   ]
  },
  {
   "cell_type": "markdown",
   "metadata": {},
   "source": [
    "Now, with the `data` above, use the `np.median` method to find the median value for the data. "
   ]
  },
  {
   "cell_type": "code",
   "execution_count": 3,
   "metadata": {},
   "outputs": [
    {
     "data": {
      "text/plain": [
       "45.0"
      ]
     },
     "execution_count": 3,
     "metadata": {},
     "output_type": "execute_result"
    }
   ],
   "source": [
    "median = np.median(data)\n",
    "median"
   ]
  },
  {
   "cell_type": "markdown",
   "metadata": {},
   "source": [
    "Here is a quote about campaign strategy from a Liberal activist: “The key data is this, and it’s\n",
    "important to reemphasize if only to shut up the useless, overpaid political consultants who\n",
    "idiotically babble about ‘moving to the center’ or ‘compromising with the other side’...What\n",
    "matters is turning out our voters. That’s it. The Democrats win when we fire up and turn out our\n",
    "base.” (A party’s “base” is considered to be its most ideologically committed voters. For\n",
    "example, the Pizza4All party’s base is pizza fanatics.)  \n",
    "\n",
    "\n",
    "Why might it be better to pick a platform to please the base rather than the median voter? Let’s\n",
    "try a variant of the Downs model from class. Suppose there are five possible voter ideal points: \n",
    " \n",
    "| Number | Political Stance       |\n",
    "|--------|------------------------|\n",
    "| -2     | Extreme or \"Base\" Left |\n",
    "| -1     | Moderate Left          |\n",
    "| 0      | Centrist               |\n",
    "| 1      | Moderate Right         |\n",
    "| 2      | Extreme Right          |\n",
    "\n",
    "Other than this, retain the same assumptions of the model from class: there\n",
    "are two parties A and B, who don’t care about policy and prefer winning to tying to losing. The\n",
    "parties simultaneously set platforms, and the voters vote for whichever party proposes a closer\n",
    "platform."
   ]
  },
  {
   "cell_type": "markdown",
   "metadata": {},
   "source": [
    "**Part 1:** A naive way to predict that parties will cater to the bases is if there are lots of\n",
    "extreme voters and few centrists. Run the cells below to generate 101 voters and their political stances.\n",
    "\n",
    "Use the Median Voter Theorem (MVT) to show that there is a unique Nash Equilibrium to this\n",
    "game where both parties propose the platform of the single centrist voter."
   ]
  },
  {
   "cell_type": "code",
   "execution_count": 264,
   "metadata": {},
   "outputs": [
    {
     "data": {
      "text/plain": [
       "0.0"
      ]
     },
     "execution_count": 264,
     "metadata": {},
     "output_type": "execute_result"
    }
   ],
   "source": [
    "np.median(make_count_array([45, 5, 0, 5, 45]))"
   ]
  },
  {
   "cell_type": "code",
   "execution_count": 263,
   "metadata": {},
   "outputs": [
    {
     "name": "stdout",
     "output_type": "stream",
     "text": [
      "There are 45 Extreme Left (-2) voters who will vote for Candidate A\n",
      "There are 5 Moderate Left (-1) voters who will vote for Candidate A\n",
      "There are 1 Centrist (0) voters who will vote for Candidate A\n",
      "There are 5 Moderate Right (1) voters who will vote for Candidate A\n",
      "There are 45 Extreme Right (2) voters who will vote for Candidate A\n"
     ]
    },
    {
     "data": {
      "image/png": "[encoded data removed]",
      "text/plain": [
       "<Figure size 432x288 with 1 Axes>"
      ]
     },
     "metadata": {
      "needs_background": "light"
     },
     "output_type": "display_data"
    }
   ],
   "source": [
    "plot_voters_candidates([45, 5, 1, 5, 45], 0, 0)"
   ]
  },
  {
   "cell_type": "markdown",
   "metadata": {},
   "source": [
    "**Part 2:** Now, suppose we remove the centrist voter. Since the remaining electorate has an even number 100 voters, we cannot directly use the MVT derived in class (which needs an odd number).  \n",
    "\n",
    "Argue why there is still no Nash Equillibrium where a party proposes the platform preferred by a base voter (-2 or 2).  \n",
    "\n",
    "No need to do any math, just show logically why at least one party could change their strategy and increase their payoff. "
   ]
  },
  {
   "cell_type": "code",
   "execution_count": 268,
   "metadata": {},
   "outputs": [
    {
     "name": "stdout",
     "output_type": "stream",
     "text": [
      "There are 45 Extreme Left (-2) voters who will vote for Candidate A\n",
      "There are 5 Moderate Left (-1) voters who will vote for Candidate A\n",
      "There are 5 Moderate Right (1) voters who will vote for Candidate B\n",
      "There are 45 Extreme Right (2) voters who will vote for Candidate B\n"
     ]
    },
    {
     "data": {
      "image/png": "[encoded data removed]",
      "text/plain": [
       "<Figure size 432x288 with 1 Axes>"
      ]
     },
     "metadata": {
      "needs_background": "light"
     },
     "output_type": "display_data"
    }
   ],
   "source": [
    "plot_voters_candidates([45, 5, 0, 5, 45], -2, 2)"
   ]
  },
  {
   "cell_type": "markdown",
   "metadata": {},
   "source": [
    "**Part 3** Argue why, in the 100 person electorate, there is an NE where one party offers the platform -1 and the other offers platform 1."
   ]
  },
  {
   "cell_type": "code",
   "execution_count": 269,
   "metadata": {},
   "outputs": [
    {
     "name": "stdout",
     "output_type": "stream",
     "text": [
      "There are 45 Extreme Left (-2) voters who will vote for Candidate A\n",
      "There are 5 Moderate Left (-1) voters who will vote for Candidate A\n",
      "There are 5 Moderate Right (1) voters who will vote for Candidate B\n",
      "There are 45 Extreme Right (2) voters who will vote for Candidate B\n"
     ]
    },
    {
     "data": {
      "image/png": "[encoded data removed]",
      "text/plain": [
       "<Figure size 432x288 with 1 Axes>"
      ]
     },
     "metadata": {
      "needs_background": "light"
     },
     "output_type": "display_data"
    }
   ],
   "source": [
    "plot_voters_candidates([45, 5, 0, 5, 45], -1, 1)"
   ]
  },
  {
   "cell_type": "markdown",
   "metadata": {},
   "source": [
    "**Part 4** How might you modify the assumptions of this model to get a NE where parties propose the platforms preferred by the extreme voters, their base (-2 or 2). "
   ]
  },
  {
   "cell_type": "code",
   "execution_count": null,
   "metadata": {},
   "outputs": [],
   "source": [
    "plt = plot_voters_candidates(..., -2, 2)"
   ]
  }
 ],
 "metadata": {
  "kernelspec": {
   "display_name": "Python 3",
   "language": "python",
   "name": "python3"
  },
  "language_info": {
   "codemirror_mode": {
    "name": "ipython",
    "version": 3
   },
   "file_extension": ".py",
   "mimetype": "text/x-python",
   "name": "python",
   "nbconvert_exporter": "python",
   "pygments_lexer": "ipython3",
   "version": "3.7.6"
  }
 },
 "nbformat": 4,
 "nbformat_minor": 2
}
