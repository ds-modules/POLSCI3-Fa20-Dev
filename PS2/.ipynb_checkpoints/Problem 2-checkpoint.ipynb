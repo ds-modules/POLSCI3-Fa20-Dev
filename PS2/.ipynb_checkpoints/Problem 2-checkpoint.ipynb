{
 "cells": [
  {
   "cell_type": "code",
   "execution_count": 2,
   "metadata": {},
   "outputs": [],
   "source": [
    "import pandas as pd\n",
    "import numpy as np\n",
    "import seaborn as sns \n",
    "import matplotlib.pyplot as plt\n",
    "%matplotlib inline\n",
    "import warnings\n",
    "sns.set_palette(\"Blues_d\")\n",
    "\n",
    "from IPython.display import HTML\n",
    "\n",
    "# import the widgets module\n",
    "import ipywidgets as widgets\n",
    "from ipywidgets import interact, interactive, fixed, interact_manual\n",
    "\n",
    "warnings.filterwarnings(\"ignore\")\n",
    "#sns.set(style=\"whitegrid\")"
   ]
  },
  {
   "cell_type": "code",
   "execution_count": 3,
   "metadata": {},
   "outputs": [],
   "source": [
    "def make_count(count, number):\n",
    "    return np.array([np.ones(count) * number])\n",
    "\n",
    "def make_voter_array(counts):\n",
    "    bases = [-2, -1, 0, 1, 2]\n",
    "    arr = np.array([])\n",
    "    for i, j in zip(counts, bases):\n",
    "        arr = np.append(arr, make_count(i, j))\n",
    "    return np.array([int(i) for i in arr])"
   ]
  },
  {
   "cell_type": "code",
   "execution_count": 4,
   "metadata": {},
   "outputs": [],
   "source": [
    "politicalStances = {-2: 'Extreme Left', -1:'Moderate Left', 0:'Centrist',\n",
    "                   1:'Moderate Right', 2:'Extreme Right'}\n",
    "colors = {-2:'blue', -1:'blue', 0:'black', 1:'red', 2:'red'}\n",
    "\n",
    "def make_color_arr(dta):\n",
    "    arr = []\n",
    "    for i in dta:\n",
    "        arr.append(colors[i])\n",
    "    return arr"
   ]
  },
  {
   "cell_type": "code",
   "execution_count": 5,
   "metadata": {},
   "outputs": [],
   "source": [
    "def plot_voters(counts):\n",
    "    pos = [] \n",
    "    keys = {} # this dict will help to keep track ...\n",
    "    \n",
    "    data = make_voter_array(counts)\n",
    "\n",
    "    # this loop will give us a list of frequencies to each number\n",
    "    for num in data: \n",
    "        if num not in keys:\n",
    "            keys[num] = 1\n",
    "            pos.append(1)\n",
    "        else:\n",
    "            keys[num] += 1\n",
    "            pos.append(keys[num])\n",
    "    \n",
    "    \n",
    "    for key, value in zip(keys.keys(), keys.values()):\n",
    "        print('There are ' + str(value) + ' ' + politicalStances[key] + \n",
    "              ' (' + str(key) + ') ' + 'voters')\n",
    "        \n",
    "    colorArr = make_color_arr(data)\n",
    "    \n",
    "    plt.scatter(data, pos, c=colorArr)\n",
    "    plt.grid(False)\n",
    "    plt.xticks([-2, -1, 0, 1, 2])\n",
    "    plt.show()"
   ]
  },
  {
   "cell_type": "code",
   "execution_count": 13,
   "metadata": {},
   "outputs": [],
   "source": [
    "def plot_voters_candidates(counts, candA, candB):\n",
    "    \n",
    "    pos = [] \n",
    "    keys = {} # this dict will help to keep track ...\n",
    "    \n",
    "    data = make_voter_array(counts)\n",
    "    voting = {}\n",
    "    candidates = {'candA': 'Candidate A', 'candB': 'Candidate B'}\n",
    "\n",
    "    # this loop will give us a list of frequencies to each number\n",
    "    for num in data: \n",
    "        if num not in keys:\n",
    "            keys[num] = 1\n",
    "            pos.append(1)\n",
    "        else:\n",
    "            keys[num] += 1\n",
    "            pos.append(keys[num])\n",
    "    \n",
    "    voter_pos = set(data)\n",
    "    for i in voter_pos:\n",
    "        if i == 0:\n",
    "            voting[i] = np.random.choice(['candA', 'candB'], \n",
    "                                         p=[0.5, 0.5])\n",
    "            continue\n",
    "        diffA = abs(i - candA)\n",
    "        diffB = abs(i - candB)\n",
    "        if diffA < diffB:\n",
    "            voting[i] = 'candA'\n",
    "        elif diffB == diffA:\n",
    "            #distributing the voters \n",
    "            voting[i] = ('candA', 'candB')        \n",
    "        else:\n",
    "            voting[i] = 'candB'\n",
    "        \n",
    "\n",
    "    for key, value in zip(keys.keys(), keys.values()):\n",
    "        who_voting = voting[i]\n",
    "        half = False\n",
    "        if type(who_voting) == tuple:   \n",
    "            half = True \n",
    "        if half == False: \n",
    "            print('There are ' + str(value) + ' ' + politicalStances[key] + \n",
    "                  ' (' + str(key) + ') ' + 'voters who will vote for ' + candidates[who_voting])\n",
    "        else:\n",
    "            half = False\n",
    "            int_value = value // 2\n",
    "            if int_value == 0:\n",
    "                who_voting_now = np.random.choice(['Candidate A','Candidate B'], p=[.5, .5])\n",
    "                print('There are ' + str(value) + ' ' + politicalStances[key] + \n",
    "                      ' (' + str(key) + ') ' + 'voters who will vote for ' + who_voting_now)\n",
    "                continue\n",
    "            if half == False:\n",
    "                who_voting_now = who_voting[0]\n",
    "                print('There are ' + str(int_value) + ' ' + politicalStances[key] + \n",
    "                  ' (' + str(key) + ') ' + 'voters who will vote for ' + candidates[who_voting_now])\n",
    "                half = True\n",
    "            if half == True:\n",
    "                who_voting_now = who_voting[1]\n",
    "                print('There are ' + str(int_value) + ' ' + politicalStances[key] + \n",
    "                  ' (' + str(key) + ') ' + 'voters who will vote for ' + candidates[who_voting_now])\n",
    "\n",
    "                \n",
    "\n",
    "    \n",
    "        \n",
    "    colorArr = make_color_arr(data)\n",
    "    \n",
    "            \n",
    "    plt.scatter(data, pos, c=colorArr)\n",
    "    plt.grid(False)\n",
    "    plt.xticks([-2, -1, 0, 1, 2])\n",
    "    \n",
    "    plt.scatter([candA, candB], [0, 0], c=['gold', 'lime'])\n",
    "    plt.annotate('Candidate A', (candA, 0), (candA, 20), arrowprops=dict(arrowstyle='wedge', \n",
    "                                                                   connectionstyle='arc3, rad=0.2'))\n",
    "    plt.annotate('Candidate B', (candB, 0), (candB, 10), arrowprops=dict(arrowstyle='wedge', \n",
    "                                                                   connectionstyle='arc3, rad=-0.2'))\n",
    "    \n",
    "    \n",
    "    \n",
    "    plt.show()"
   ]
  },
  {
   "cell_type": "markdown",
   "metadata": {},
   "source": [
    "# 2. Median Voter Theorem (MVT) "
   ]
  },
  {
   "cell_type": "markdown",
   "metadata": {},
   "source": [
    "#### Finding the Median"
   ]
  },
  {
   "cell_type": "markdown",
   "metadata": {},
   "source": [
    "NumPy allows us to make useful calculations with numerical data. Imagine we have some array of numbers -- our data -- and that we wish to find the median value of the data. A NumPy method that allows us to do this is `np.median` (where `np` refers to NumPy), which takes as input some data and outputs the median value for that data. Run the cell below, which should generate 72 random numbers."
   ]
  },
  {
   "cell_type": "code",
   "execution_count": 14,
   "metadata": {},
   "outputs": [
    {
     "data": {
      "text/plain": [
       "array([78, 41, 25,  3,  7, 21, 90,  1, 53, 40,  7, 79, 88, 33, 72, 28, 25,\n",
       "       72, 68, 23, 84, 59, 27, 75, 60, 94, 60, 69,  3, 63, 10, 84, 30, 88,\n",
       "       80,  7, 54, 41, 99, 33, 21, 47, 96, 77, 68, 50, 15, 73, 48, 60, 62,\n",
       "       51, 79, 86, 54, 70, 64,  9, 22, 24, 74, 29, 43, 47, 95, 99, 30, 57,\n",
       "       17, 79, 54, 87])"
      ]
     },
     "execution_count": 14,
     "metadata": {},
     "output_type": "execute_result"
    }
   ],
   "source": [
    "data = np.random.randint(0,100,size=72)\n",
    "data"
   ]
  },
  {
   "cell_type": "markdown",
   "metadata": {},
   "source": [
    "<font color=\"blue\"> <b> Now, with the `data` above, use the `np.median` method to find the median value for the data. (1 pt) </font> </b> "
   ]
  },
  {
   "cell_type": "code",
   "execution_count": 15,
   "metadata": {},
   "outputs": [
    {
     "data": {
      "text/plain": [
       "54.0"
      ]
     },
     "execution_count": 15,
     "metadata": {},
     "output_type": "execute_result"
    }
   ],
   "source": [
    "median = np.median(data)\n",
    "median"
   ]
  },
  {
   "cell_type": "markdown",
   "metadata": {},
   "source": [
    "Here is a quote about campaign strategy from a Liberal activist: “The key data is this, and it’s\n",
    "important to reemphasize if only to shut up the useless, overpaid political consultants who\n",
    "idiotically babble about ‘moving to the center’ or ‘compromising with the other side’...What\n",
    "matters is turning out our voters. That’s it. The Democrats win when we fire up and turn out our\n",
    "base.” (A party’s “base” is considered to be its most ideologically committed voters. For\n",
    "example, the Pizza4All party’s base is pizza fanatics.)  \n",
    "\n",
    "\n",
    "Why might it be better to pick a platform to please the base rather than the median voter? Let’s\n",
    "try a variant of the Downs model from class. Suppose there are five possible voter ideal points: \n",
    " \n",
    "| Number | Political Stance       |\n",
    "|--------|------------------------|\n",
    "| -2     | Extreme or \"Base\" Left |\n",
    "| -1     | Moderate Left          |\n",
    "| 0      | Centrist               |\n",
    "| 1      | Moderate Right         |\n",
    "| 2      | Extreme Right          |\n",
    "\n",
    "Other than this, retain the same assumptions of the model from class: there\n",
    "are two parties A and B, who don’t care about policy and prefer winning to tying to losing. The\n",
    "parties simultaneously set platforms, and the voters vote for whichever party proposes a closer\n",
    "platform."
   ]
  },
  {
   "cell_type": "markdown",
   "metadata": {},
   "source": [
    "**Part 1:** A naive way to predict that parties will cater to the bases is if there are lots of\n",
    "extreme voters and few centrists. Run the cells below to generate 101 voters and their political stances.\n",
    "Imagine there is 45 extreme left voters, 5 moderate left, 1 centrist, 5 moderate right, and 45 extreme right voters. "
   ]
  },
  {
   "cell_type": "markdown",
   "metadata": {},
   "source": [
    "Run the cell below to generate a list of voters."
   ]
  },
  {
   "cell_type": "code",
   "execution_count": 19,
   "metadata": {},
   "outputs": [
    {
     "data": {
      "text/plain": [
       "array([-2, -2, -2, -2, -2, -2, -2, -2, -2, -2, -2, -2, -2, -2, -2, -2, -2,\n",
       "       -2, -2, -2, -2, -2, -2, -2, -2, -2, -2, -2, -2, -2, -2, -2, -2, -2,\n",
       "       -2, -2, -2, -2, -2, -2, -2, -2, -2, -2, -2, -1, -1, -1, -1, -1,  0,\n",
       "        1,  1,  1,  1,  1,  2,  2,  2,  2,  2,  2,  2,  2,  2,  2,  2,  2,\n",
       "        2,  2,  2,  2,  2,  2,  2,  2,  2,  2,  2,  2,  2,  2,  2,  2,  2,\n",
       "        2,  2,  2,  2,  2,  2,  2,  2,  2,  2,  2,  2,  2,  2,  2,  2])"
      ]
     },
     "execution_count": 19,
     "metadata": {},
     "output_type": "execute_result"
    }
   ],
   "source": [
    "voters = make_voter_array([45, 5, 1, 5, 45])\n",
    "voters"
   ]
  },
  {
   "cell_type": "markdown",
   "metadata": {},
   "source": [
    "<font color=\"blue\"> <b> Using `np.median`, compute the median of the voter array. (1 pt) </font> </b> "
   ]
  },
  {
   "cell_type": "code",
   "execution_count": 20,
   "metadata": {},
   "outputs": [
    {
     "data": {
      "text/plain": [
       "0.0"
      ]
     },
     "execution_count": 20,
     "metadata": {},
     "output_type": "execute_result"
    }
   ],
   "source": [
    "median = np.median(voters)\n",
    "median"
   ]
  },
  {
   "cell_type": "markdown",
   "metadata": {},
   "source": [
    "<font color=\"blue\"> <b> Use the Median Voter Theorem (MVT) to show that there is a unique Nash Equilibrium to this\n",
    "game where both parties propose the platform of the single centrist voter. (2 pt) </font> </b> "
   ]
  },
  {
   "cell_type": "code",
   "execution_count": 21,
   "metadata": {},
   "outputs": [
    {
     "data": {
      "application/vnd.jupyter.widget-view+json": {
       "model_id": "f1e031a4334e408ca8ed14beb5eeb67d",
       "version_major": 2,
       "version_minor": 0
      },
      "text/plain": [
       "interactive(children=(IntSlider(value=0, description='candA', max=2, min=-2), IntSlider(value=0, description='…"
      ]
     },
     "metadata": {},
     "output_type": "display_data"
    }
   ],
   "source": [
    "interact(plot_voters_candidates, counts=fixed([45, 5, 1, 5, 45]), \n",
    "         candA=widgets.IntSlider(min=-2, max=2, step=1, value=0), \n",
    "         candB=widgets.IntSlider(min=-2, max=2, step=1, value=0));"
   ]
  },
  {
   "cell_type": "markdown",
   "metadata": {},
   "source": [
    "**Part 2:** Now, suppose we remove the centrist voter. Since the remaining electorate has an even number 100 voters, we cannot directly use the MVT derived in class (which needs an odd number).  "
   ]
  },
  {
   "cell_type": "code",
   "execution_count": 213,
   "metadata": {},
   "outputs": [
    {
     "data": {
      "text/plain": [
       "array([-2, -2, -2, -2, -2, -2, -2, -2, -2, -2, -2, -2, -2, -2, -2, -2, -2,\n",
       "       -2, -2, -2, -2, -2, -2, -2, -2, -2, -2, -2, -2, -2, -2, -2, -2, -2,\n",
       "       -2, -2, -2, -2, -2, -2, -2, -2, -2, -2, -2, -1, -1, -1, -1, -1,  1,\n",
       "        1,  1,  1,  1,  2,  2,  2,  2,  2,  2,  2,  2,  2,  2,  2,  2,  2,\n",
       "        2,  2,  2,  2,  2,  2,  2,  2,  2,  2,  2,  2,  2,  2,  2,  2,  2,\n",
       "        2,  2,  2,  2,  2,  2,  2,  2,  2,  2,  2,  2,  2,  2,  2])"
      ]
     },
     "execution_count": 213,
     "metadata": {},
     "output_type": "execute_result"
    }
   ],
   "source": [
    "voters = make_voter_array([45, 5, 0, 5, 45])\n",
    "voters"
   ]
  },
  {
   "cell_type": "markdown",
   "metadata": {},
   "source": [
    "<font color=\"blue\"> <b> Using the sliders below, configure the base each candidate caters to. Argue why there is still no Nash Equillibrium where a party proposes the platform preferred by a base voter (-2 or 2). No need to do any math, just show logically why at least one party could change their strategy and increase their payoff.  (2 pt) </font> </b> "
   ]
  },
  {
   "cell_type": "code",
   "execution_count": 23,
   "metadata": {},
   "outputs": [
    {
     "data": {
      "application/vnd.jupyter.widget-view+json": {
       "model_id": "d605fdd2d6b641318b2c367b646a18e6",
       "version_major": 2,
       "version_minor": 0
      },
      "text/plain": [
       "interactive(children=(IntSlider(value=-2, description='candA', max=2, min=-2), IntSlider(value=2, description=…"
      ]
     },
     "metadata": {},
     "output_type": "display_data"
    }
   ],
   "source": [
    "interact(plot_voters_candidates, counts=fixed([45, 5, 0, 5, 45]), \n",
    "         candA=widgets.IntSlider(min=-2, max=2, step=1, value=-2), \n",
    "         candB=widgets.IntSlider(min=-2, max=2, step=1, value=2));"
   ]
  },
  {
   "cell_type": "markdown",
   "metadata": {},
   "source": [
    "**Part 3** \n",
    "\n",
    "<font color=\"blue\"> <b> Argue why, in the 100 person electorate, there is an NE where one party offers the platform -1 and the other offers platform 1.  (3 pt) </font> </b> "
   ]
  },
  {
   "cell_type": "code",
   "execution_count": 24,
   "metadata": {},
   "outputs": [
    {
     "data": {
      "application/vnd.jupyter.widget-view+json": {
       "model_id": "1e7464180c644118ad6d0de41cae3854",
       "version_major": 2,
       "version_minor": 0
      },
      "text/plain": [
       "interactive(children=(IntSlider(value=-2, description='candA', max=2, min=-2), IntSlider(value=2, description=…"
      ]
     },
     "metadata": {},
     "output_type": "display_data"
    }
   ],
   "source": [
    "interact(plot_voters_candidates, counts=fixed([45, 5, 1, 5, 45]), \n",
    "         candA=widgets.IntSlider(min=-2, max=2, step=1, value=-2), \n",
    "         candB=widgets.IntSlider(min=-2, max=2, step=1, value=2));"
   ]
  },
  {
   "cell_type": "markdown",
   "metadata": {},
   "source": [
    "**Part 4** In the cell below, write in the number of voters for each base, with the first item being the number of extreme left, the second being moderate left, the third centrists, the fourth moderate right, the fifth extreme right. \n",
    "\n",
    "<font color=\"blue\"> <b> Modify the number of voters in the `int` variable to get a NE where parties propose the platforms preferred by the extreme voters, their base (-2 or 2).   (3 pt) </font> </b>"
   ]
  },
  {
   "cell_type": "code",
   "execution_count": null,
   "metadata": {},
   "outputs": [],
   "source": [
    "# [number of extreme left, number of moderate left, number centrists, number moderate right, number extreme right]\n",
    "inter = [.. , .. , .. , .. , .. ]\n",
    "voters = make_voter_array(inter)"
   ]
  },
  {
   "cell_type": "code",
   "execution_count": null,
   "metadata": {},
   "outputs": [],
   "source": [
    "interact(plot_voters_candidates, counts=fixed(inter), \n",
    "         candA=widgets.IntSlider(min=-2, max=2, step=1, value=0), \n",
    "         candB=widgets.IntSlider(min=-2, max=2, step=1, value=0));"
   ]
  }
 ],
 "metadata": {
  "kernelspec": {
   "display_name": "Python 3",
   "language": "python",
   "name": "python3"
  },
  "language_info": {
   "codemirror_mode": {
    "name": "ipython",
    "version": 3
   },
   "file_extension": ".py",
   "mimetype": "text/x-python",
   "name": "python",
   "nbconvert_exporter": "python",
   "pygments_lexer": "ipython3",
   "version": "3.7.3"
  }
 },
 "nbformat": 4,
 "nbformat_minor": 2
}
