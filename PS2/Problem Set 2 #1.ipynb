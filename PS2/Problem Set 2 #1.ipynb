{
 "cells": [
  {
   "cell_type": "markdown",
   "metadata": {},
   "source": [
    "### Question 1\n",
    "Two candidates are in a close campaign, and are designing the ads that they will roll out for\n",
    "the final stretch. Suppose each simultaneously makes a binary choice to either make a negative\n",
    "ad (N) or a positive ad (P). So, there are four possible outcomes (listing candidate 1’s choice\n",
    "first and candidate 2’s choice second): (N,N), (N,P), (P,N) or (P,P). Candidates don’t like it when\n",
    "the other chooses to go negative, but arguably do better when going negative themselves.\n",
    "\n",
    "   You can think of this like the game of chicken: if both candidates run attack ads (negative ads) a third party could swoop in and win, which both candidates would see as an unacceptable loss. "
   ]
  },
  {
   "cell_type": "markdown",
   "metadata": {},
   "source": [
    "**Part 1** (1 point): Come up with a preference ranking you think is reasonable for candidate 1. There is\n",
    "no one right answer here, though it should reflect the fact that 1 prefers that 2 not go negative. Provided below is a template for a preference ranking table with zero's inputted for all the preferences. Edit the table by inserting the preference rankings you believe is reasonable for candidate 1, corresponding to each choice. You can do this by double clicking on the cell with the table. Think of the columns as representing candidate 1's choice of ads, and the rows as representing candidate 2's choice of ads. "
   ]
  },
  {
   "cell_type": "markdown",
   "metadata": {},
   "source": [
    "**<span style=\"color:blue\"> Edit the table in the cell below.**\n"
   ]
  },
  {
   "cell_type": "markdown",
   "metadata": {},
   "source": [
    "|          | Positive | Negative     | \n",
    "|----------|----------|--------------|\n",
    "| Positive |  0       |  0           |  \n",
    "| Negative |  0       |  0           |  \n",
    " \n",
    "\n"
   ]
  },
  {
   "cell_type": "markdown",
   "metadata": {},
   "source": [
    "Why do you think these preference's are reasonable for candidate 1?"
   ]
  },
  {
   "cell_type": "markdown",
   "metadata": {},
   "source": [
    "*EXPLANATION HERE.*"
   ]
  },
  {
   "cell_type": "markdown",
   "metadata": {},
   "source": [
    "**Part 2** (1 point): Give candidate 1 a utility function which represents these preferences. "
   ]
  },
  {
   "cell_type": "markdown",
   "metadata": {},
   "source": [
    "*WRITE UTILITY FUNCTION HERE.*"
   ]
  },
  {
   "cell_type": "markdown",
   "metadata": {},
   "source": [
    "**Part 3** (2 points): Suppose candidate 2 has the “same” preferences, in the sense that if you give\n",
    "candidate 1 a utility of 3 if candidate 1 picks N and 2 picks P, you should give candidate 2 a\n",
    "utility of 3 if candidate 1 picks P and 2 picks N. Represent this game with a 2 by 2 table. A template has been provided again with 0's inputted for all the utility values. Update the utility values so they match with the preferences you have chosen. You can do this, similarly to the first table, by double clicking on the cell with the table. Put candidate 1's utiltiy on the left and candidate 2's utility on the right for each combination of decisions."
   ]
  },
  {
   "cell_type": "markdown",
   "metadata": {},
   "source": [
    "**<span style=\"color:blue\"> Edit the table in the cell below.**"
   ]
  },
  {
   "cell_type": "markdown",
   "metadata": {},
   "source": [
    "|          | Positive | Negative     |  \n",
    "|----------|----------|--------------|\n",
    "| Positive |  0, 0    |  0, 0        | \n",
    "| Negative |  0, 0    |  0, 0        | \n"
   ]
  },
  {
   "cell_type": "markdown",
   "metadata": {},
   "source": [
    "**Part 4** (2 points): Copy the utility values from part 3, then use the “star the best responses” method to find the Nash Equilibria (NE) to this game. "
   ]
  },
  {
   "cell_type": "markdown",
   "metadata": {},
   "source": [
    "**<span style=\"color:blue\"> Edit the table in the cell below.**"
   ]
  },
  {
   "cell_type": "markdown",
   "metadata": {},
   "source": [
    "|          | Positive | Negative     | \n",
    "|----------|----------|--------------|\n",
    "| Positive |  0, 0    |  0, 0        |   \n",
    "| Negative |  0, 0    |  0, 0        |  \n"
   ]
  },
  {
   "cell_type": "markdown",
   "metadata": {},
   "source": [
    "**Part 5** (1 point): Which of the games we went over in class (Prisoner's’ dilemma, protesting against\n",
    "a bad dictator, voting for a bad bill) does the game you created most closely resemble?"
   ]
  },
  {
   "cell_type": "markdown",
   "metadata": {},
   "source": [
    "*EXPLANATION HERE*"
   ]
  }
 ],
 "metadata": {
  "kernelspec": {
   "display_name": "Python 3",
   "language": "python",
   "name": "python3"
  },
  "language_info": {
   "codemirror_mode": {
    "name": "ipython",
    "version": 3
   },
   "file_extension": ".py",
   "mimetype": "text/x-python",
   "name": "python",
   "nbconvert_exporter": "python",
   "pygments_lexer": "ipython3",
   "version": "3.8.5"
  }
 },
 "nbformat": 4,
 "nbformat_minor": 4
}
