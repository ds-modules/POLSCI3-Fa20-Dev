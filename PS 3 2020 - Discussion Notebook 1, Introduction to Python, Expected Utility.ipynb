{
 "cells": [
  {
   "cell_type": "markdown",
   "metadata": {
    "tags": [
     "include"
    ]
   },
   "source": [
    "# POLSCI 3 Fall 2020\n",
    "\n",
    "## Notebook for Week 3 Lecture video: Variables, Expected Utility, Plotting\n",
    "\n",
    "Estimated time: 20 minutes"
   ]
  },
  {
   "cell_type": "markdown",
   "metadata": {},
   "source": [
    "Lets do some of the calculations for expected utility from the week 3 lectures.\n",
    "\n",
    "To get warmed up, we can just use Python as a calculator.\n"
   ]
  },
  {
   "cell_type": "code",
   "execution_count": 8,
   "metadata": {},
   "outputs": [
    {
     "data": {
      "text/plain": [
       "-0.5"
      ]
     },
     "execution_count": 8,
     "metadata": {},
     "output_type": "execute_result"
    }
   ],
   "source": [
    "# Expected utility of a coin flip where H means losing 2 and T means winning 1\n",
    ".5*(-2) + .5*1"
   ]
  },
  {
   "cell_type": "code",
   "execution_count": 7,
   "metadata": {},
   "outputs": [
    {
     "data": {
      "text/plain": [
       "1.5"
      ]
     },
     "execution_count": 7,
     "metadata": {},
     "output_type": "execute_result"
    }
   ],
   "source": [
    "# Expected utility of a coin flip where H means losing 2 and T means winning 5\n",
    ".5*(-2) + .5*5"
   ]
  },
  {
   "cell_type": "markdown",
   "metadata": {},
   "source": [
    "In problem sets, we will often ask you to fill in or edit a code cell. We will give instructions for what you need to do to earn points in <font color=\"blue\"> <b> bold blue font </b> </font>, and put additional pointers for what to do in the comments. \n",
    "\n",
    "<font color=\"blue\"> <b> Put a new line of code in the cell below which computes the requested expected utility </font> </b>"
   ]
  },
  {
   "cell_type": "code",
   "execution_count": null,
   "metadata": {},
   "outputs": [],
   "source": [
    "# Expected utility of a coin flip where H means losing 3 and T means winning 4"
   ]
  },
  {
   "cell_type": "markdown",
   "metadata": {},
   "source": [
    "We can also move towards more general analysis by treating these as variables"
   ]
  },
  {
   "cell_type": "code",
   "execution_count": 3,
   "metadata": {},
   "outputs": [
    {
     "data": {
      "text/plain": [
       "-0.5"
      ]
     },
     "execution_count": 3,
     "metadata": {},
     "output_type": "execute_result"
    }
   ],
   "source": [
    "#Creating variables for the value of H and T flips\n",
    "uh = -2\n",
    "ut = 1\n",
    ".5*uh + .5*ut"
   ]
  },
  {
   "cell_type": "markdown",
   "metadata": {},
   "source": [
    "Or, we can be even more general and let the probability that the coin flip is H be a variable p"
   ]
  },
  {
   "cell_type": "code",
   "execution_count": 9,
   "metadata": {},
   "outputs": [
    {
     "data": {
      "text/plain": [
       "-0.5"
      ]
     },
     "execution_count": 9,
     "metadata": {},
     "output_type": "execute_result"
    }
   ],
   "source": [
    "# Creating variables for all of the EU calculation\n",
    "uh=-2\n",
    "ut=1\n",
    "p=.5\n",
    "p*uh + (1-p)*ut"
   ]
  },
  {
   "cell_type": "markdown",
   "metadata": {},
   "source": [
    "Now remember the protest example, where the utility for getting arrested is -2 and for a fun protest is 1\n",
    "\n",
    "<font color=\"blue\"> <b> Fill in the value of p which will make the expected utility 0 </font> </b>"
   ]
  },
  {
   "cell_type": "code",
   "execution_count": 8,
   "metadata": {},
   "outputs": [
    {
     "data": {
      "text/plain": [
       "1.1102230246251565e-16"
      ]
     },
     "execution_count": 8,
     "metadata": {},
     "output_type": "execute_result"
    }
   ],
   "source": [
    "\n",
    "# meaning indifference between protesting and staying home\n",
    "ua = -2\n",
    "uf = 1\n",
    "p = ...\n",
    "p*ua + (1-p)*uf"
   ]
  },
  {
   "cell_type": "markdown",
   "metadata": {},
   "source": [
    "One advantage to using variables is that we can also plot the utility of protest as a function of p, which will tell us when it is above zero (meaning protest is the better choice) and below zero (meaning staying home is the better choice)\n",
    "\n",
    "Don't worry about understanding all of the code for this one!"
   ]
  },
  {
   "cell_type": "code",
   "execution_count": 4,
   "metadata": {},
   "outputs": [
    {
     "data": {
      "text/plain": [
       "<matplotlib.collections.LineCollection at 0x7f7d02a9d3d0>"
      ]
     },
     "execution_count": 4,
     "metadata": {},
     "output_type": "execute_result"
    },
    {
     "data": {
      "image/png": "[encoded data removed]",
      "text/plain": [
       "<Figure size 432x288 with 1 Axes>"
      ]
     },
     "metadata": {
      "needs_background": "light"
     },
     "output_type": "display_data"
    }
   ],
   "source": [
    "# Plotting the utility of protest as a function of p with a blue line\n",
    "# The vertical line indicates where the utility crosses zero\n",
    "import numpy as np\n",
    "import matplotlib.pyplot as plt\n",
    "p = np.arange(0,1, step=.01)\n",
    "uprotest = -2*p + 1*(1-p)\n",
    "plt.plot(p,uprotest)\n",
    "plt.hlines(0,0,1)\n",
    "plt.vlines(1/3,-2,1)"
   ]
  },
  {
   "cell_type": "markdown",
   "metadata": {},
   "source": [
    "Now let's do the same thing, but make getting arrested even worse. To do this, we change the line of code which computes the expected utility to assign a value of -5 to getting arrested rather than -2"
   ]
  },
  {
   "cell_type": "code",
   "execution_count": 5,
   "metadata": {},
   "outputs": [
    {
     "data": {
      "text/plain": [
       "<matplotlib.collections.LineCollection at 0x7f7d2d5decd0>"
      ]
     },
     "execution_count": 5,
     "metadata": {},
     "output_type": "execute_result"
    },
    {
     "data": {
      "image/png": "[encoded data removed]",
      "text/plain": [
       "<Figure size 432x288 with 1 Axes>"
      ]
     },
     "metadata": {
      "needs_background": "light"
     },
     "output_type": "display_data"
    }
   ],
   "source": [
    "# Plotting the utility of protest as a function of p with a blue line\n",
    "# The vertical line indicates where the utility crosses zero\n",
    "import numpy as np\n",
    "import matplotlib.pyplot as plt\n",
    "p = np.arange(0,1, step=.01)\n",
    "#This is the line of code we changed!\n",
    "uprotest = -5*p + 1*(1-p)\n",
    "plt.plot(p,uprotest)\n",
    "plt.hlines(0,0,1)\n",
    "plt.vlines(1/6,-5,1)"
   ]
  },
  {
   "cell_type": "markdown",
   "metadata": {},
   "source": [
    "On some problem sets we will ask you questions about interpretation, and tell you to fill them in the cell below.\n",
    "\n",
    "<font color=\"blue\"> <b> What does this graph tell you about how the probability and fear of getting arrested affects protest decisions? </font> </b>"
   ]
  },
  {
   "cell_type": "markdown",
   "metadata": {},
   "source": [
    "YOUR ANSWER HERE"
   ]
  }
 ],
 "metadata": {
  "kernelspec": {
   "display_name": "Python 3",
   "language": "python",
   "name": "python3"
  },
  "language_info": {
   "codemirror_mode": {
    "name": "ipython",
    "version": 3
   },
   "file_extension": ".py",
   "mimetype": "text/x-python",
   "name": "python",
   "nbconvert_exporter": "python",
   "pygments_lexer": "ipython3",
   "version": "3.8.3"
  }
 },
 "nbformat": 4,
 "nbformat_minor": 2
}
