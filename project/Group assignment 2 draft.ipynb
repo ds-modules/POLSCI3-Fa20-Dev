{
 "cells": [
  {
   "cell_type": "markdown",
   "metadata": {},
   "source": [
    "## Part 1: what do you want to learn about?\n",
    "\n",
    "Read the codebook.\n",
    "\n",
    "1.1 Identify two pairs of variables that may be related to each other.\n",
    "\n",
    "1.2 How are these variables measured. Do you think these are reliable and valid?\n",
    "\n",
    "1.3 For each pair, come up with a theoretical argument about why they might be related to each other"
   ]
  },
  {
   "cell_type": "markdown",
   "metadata": {},
   "source": [
    "## Part 2: Descriptives\n",
    "\n",
    "2.1 Identify a categorical, ordinal, and numeric variable in the data set. (Include as many variables of interest from part 1.1 as possible). \n",
    "\n",
    "2.2 write code to come up with descriptive statistics for these three variables. What are typical values? What does the distribution look like?\n",
    "\n",
    "2.3 Repeat this process for the remaining variables you identifed in part 1.1"
   ]
  },
  {
   "cell_type": "markdown",
   "metadata": {},
   "source": [
    "## Part 3: Relationships\n",
    "\n",
    "3.1 For each pair, come up with an appropriate way to measure the strength of the relationship between the variables. If possible, come up with a visual way to represent this.\n",
    "\n",
    "3.2 For each pair, conduct a hypothesis test where the null hypothesis is that there is no relationship between the two variables. What do you learn form these tests?"
   ]
  },
  {
   "cell_type": "markdown",
   "metadata": {},
   "source": [
    "## Part 4: Causal inference\n",
    "\n",
    "4.1 If you found a strong relationship between the variables in part 3, what might be some alternative explanations? If you did not find a strong relationship, could there be confounding variables which mask a true causal relationship? \n",
    "\n",
    "4.2 Identify a variable (Z) in the dataset which could be a confounding variable for one of the relationships you studied (ideally corresponding to your answer from 4.1, but it's ok if not). Look at the relationzhip between your main independent and dependent variables and Z. Does this provide evidence that Z is an important confounding variable?"
   ]
  },
  {
   "cell_type": "markdown",
   "metadata": {},
   "source": [
    "## Part 5: Next Steps\n",
    "\n",
    "5.1 Summarize what you learned from parts 1-4.\n",
    "\n",
    "5.2 If you wanted to learn more about the causal relationships from part 1, what additional data would be useful to collect?\n",
    "\n",
    "5.3 Think of an alternative research design which would provide better causal evidence for this realtionship. Or, could you ask a slightly different question which would allow for a more credible causal analysis?"
   ]
  },
  {
   "cell_type": "code",
   "execution_count": null,
   "metadata": {},
   "outputs": [],
   "source": []
  }
 ],
 "metadata": {
  "kernelspec": {
   "display_name": "Python 3",
   "language": "python",
   "name": "python3"
  },
  "language_info": {
   "codemirror_mode": {
    "name": "ipython",
    "version": 3
   },
   "file_extension": ".py",
   "mimetype": "text/x-python",
   "name": "python",
   "nbconvert_exporter": "python",
   "pygments_lexer": "ipython3",
   "version": "3.8.6"
  }
 },
 "nbformat": 4,
 "nbformat_minor": 4
}
