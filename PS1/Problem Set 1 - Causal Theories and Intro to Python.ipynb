{
  "cells": [
    {
      "cell_type": "markdown",
      "source": [
        "# Problem Set 1: Creating (Game) Theories \n",
        "In this homework, we'll review the basics of Python, design causal arguments, and explore the rational conclusions from incentives.\n"
      ],
      "metadata": {}
    },
    {
      "cell_type": "markdown",
      "source": [
        "## Python Review\n",
        "Let's start with a review of how to work within this environment and how to run Python code. There are two kinds of cells in this notebook, either text or code. To run a code cell, click \"Run\" on the toolbar above or hit control-enter. The result of the cell will display below it. Try it below!"
      ],
      "metadata": {}
    },
    {
      "cell_type": "code",
      "source": [
        "#Click Run in the toolbar above or hit control-enter on your keyboard\n",
        "print(\"Welcome to the homework!\")"
      ],
      "outputs": [],
      "execution_count": null,
      "metadata": {
        "tags": []
      }
    },
    {
      "cell_type": "markdown",
      "source": [
        " You can edit a cell (either code or text) by clicking on it and typing. \n",
        " \n",
        " <b> <font color=\"blue\"> In the next two cells, replace \"Student\" with your name. (1 pt) </font> </b>"
      ],
      "metadata": {}
    },
    {
      "cell_type": "code",
      "source": [
        "print(\"Welcome to Political Science 3, Student!\")"
      ],
      "outputs": [],
      "execution_count": null,
      "metadata": {
        "tags": []
      }
    },
    {
      "cell_type": "markdown",
      "source": [
        "Welcome to Political Science 3, Student"
      ],
      "metadata": {}
    },
    {
      "cell_type": "markdown",
      "source": [
        "Great! Now that we know how to interact with the cells, we can move onto Python. Like all coding languages, Python allows you to perform arithmetic expressions, as we can see in the next examples. Notice that each cell has text above the arithmetic beginning with a \"#\". The \"#\" marks a line as a comment, and the cell will not run that line."
      ],
      "metadata": {}
    },
    {
      "cell_type": "code",
      "source": [
        "# Addition\n",
        "20+20"
      ],
      "outputs": [],
      "execution_count": null,
      "metadata": {}
    },
    {
      "cell_type": "code",
      "source": [
        "# Multiplication\n",
        "10*8.5"
      ],
      "outputs": [],
      "execution_count": null,
      "metadata": {}
    },
    {
      "cell_type": "code",
      "source": [
        "# Division\n",
        "625/25"
      ],
      "outputs": [],
      "execution_count": null,
      "metadata": {}
    },
    {
      "cell_type": "code",
      "source": [
        "# Exponents: To raise a to the power of b, call a**b\n",
        "4**4"
      ],
      "outputs": [],
      "execution_count": null,
      "metadata": {}
    },
    {
      "cell_type": "code",
      "source": [
        "# A series of arithmetic operations\n",
        "9**8/7**6*5+4**3*2"
      ],
      "outputs": [],
      "execution_count": null,
      "metadata": {}
    },
    {
      "cell_type": "markdown",
      "source": [
        "To store information, we use **variables**. Variables can be values, e.g 10, or the result of some expression, e.g 9*8. In the next cell, make x equal to 2010, and y equal to 10. Notice that these values are not displayed. To view them, write one on a new line in the coding cell."
      ],
      "metadata": {}
    },
    {
      "cell_type": "code",
      "source": [
        "#No output here!\n",
        "x = 2010\n",
        "y = 10"
      ],
      "outputs": [],
      "execution_count": null,
      "metadata": {}
    },
    {
      "cell_type": "markdown",
      "source": [
        "We can add variables, just like normal numbers!"
      ],
      "metadata": {}
    },
    {
      "cell_type": "code",
      "source": [
        "x + y"
      ],
      "outputs": [],
      "execution_count": null,
      "metadata": {}
    },
    {
      "cell_type": "markdown",
      "source": [
        "<font color=\"blue\"> <b> Write a line of code in the cell below which mutiplies x and y (1 pt) </font> </b>"
      ],
      "metadata": {}
    },
    {
      "cell_type": "code",
      "source": [
        "# write your code to multiply x and y below here"
      ],
      "outputs": [],
      "execution_count": null,
      "metadata": {}
    },
    {
      "cell_type": "markdown",
      "source": [
        "What happens when you change the value of a variable? In the next cell, set x to a new value, e.g 2020."
      ],
      "metadata": {}
    },
    {
      "cell_type": "code",
      "source": [
        "x = 2020"
      ],
      "outputs": [],
      "execution_count": null,
      "metadata": {}
    },
    {
      "cell_type": "code",
      "source": [
        "#x + y is now a new value!\n",
        "x + y"
      ],
      "outputs": [],
      "execution_count": null,
      "metadata": {}
    },
    {
      "cell_type": "markdown",
      "source": [
        "This is why running coding cells in the right order is important. If you set x to a new value later on, it will change the result of future uses of x."
      ],
      "metadata": {}
    },
    {
      "cell_type": "markdown",
      "source": [
        "Can we use variables that haven't been defined yet?"
      ],
      "metadata": {}
    },
    {
      "cell_type": "code",
      "source": [
        "#Hint: no\n",
        "x + y + z"
      ],
      "outputs": [],
      "execution_count": null,
      "metadata": {}
    },
    {
      "cell_type": "markdown",
      "source": [
        "You'll see that Python outputs a `NameError`. Python tried to find the value of `z`, but `z` hadn't been defined yet!\n",
        "\n",
        "**Important:** If you see this error again in this notebook or in future notebooks, it is an indication that you might not have run all the previous cells or that you might be using variables without assigning values to them first.\n",
        "\n",
        "Add a hashtag before `x + y + z` on the previous cell so it doesn't give you trouble later.\n",
        "\nRun the next cell to define `z`"
      ],
      "metadata": {}
    },
    {
      "cell_type": "code",
      "source": [
        "# Defining z here\n",
        "z = 538"
      ],
      "outputs": [],
      "execution_count": null,
      "metadata": {}
    },
    {
      "cell_type": "code",
      "source": [
        "#Now we can use z!\n",
        "x + z "
      ],
      "outputs": [],
      "execution_count": null,
      "metadata": {}
    },
    {
      "cell_type": "markdown",
      "source": [
        "\n",
        "### Variable Types\n",
        "As you saw in the examples above, two common types of variables are __integers__ (positive and negative whole numbers), and __decimals__ (positive and negative decimal numbers).\n",
        "Another important type of variable is a __string__. Strings are sequences of characters, such as words or sentences. Strings are always surrounded by quotes. For example, `\"Sociology\"` is a string becuase it is surrounded by quotes, but `berkeley` and `1868` are not. "
      ],
      "metadata": {}
    },
    {
      "cell_type": "code",
      "source": [
        "# String \n",
        "'Sociology'\n",
        "\n",
        "# The variable subject is a string\n",
        "subject = \"Political Science\"\n",
        "\n",
        "# The variable berkeley is an integer\n",
        "berkeley = 1868"
      ],
      "outputs": [],
      "execution_count": null,
      "metadata": {}
    },
    {
      "cell_type": "markdown",
      "source": [
        "### Arrays\n",
        "\nAn Array is a special type of variable that can hold more than one value or variable at a time. You can think of it as a \"list\" or collection of values that you can use to store multiple values into one single variable."
      ],
      "metadata": {}
    },
    {
      "cell_type": "markdown",
      "source": [
        "Now, let's create our first array. To create an array, separate each of your values with a comma, surrounding the list in brackets. In the cell below, we create an array of the x, y, and z values from before."
      ],
      "metadata": {}
    },
    {
      "cell_type": "code",
      "source": [
        "[x, y, z]"
      ],
      "outputs": [],
      "execution_count": null,
      "metadata": {}
    },
    {
      "cell_type": "markdown",
      "source": [
        "We can store arrays as variables, just like how we can store the contents of arrays as variables. Note that in the cell below, we use the last line to access the value of the <code>numbers</code> array."
      ],
      "metadata": {}
    },
    {
      "cell_type": "code",
      "source": [
        "numbers = [x, y, z]\n",
        "numbers"
      ],
      "outputs": [],
      "execution_count": null,
      "metadata": {}
    },
    {
      "cell_type": "markdown",
      "source": [
        "### Variables Overview\n",
        "Here is a table that summarizes all of the information on variables above. \n",
        "\n",
        "|__Variable Type__ | __Definition__                       | __Examples__ |\n",
        "|------------------|--------------------------------------|--------------|\n",
        "|Integer           | Positive and negative whole numbers  |1868, 0, -200 |\n",
        "|Decimal            | Positive and negative decimal numbers |-9.7, 0.0, 8.4|\n",
        "|String            | Sequence of characters               | \"Berkeley\"   |\n",
        "|Array             | List of variables/numbers/strings    | \\[1, 2, 3\\]    |"
      ],
      "metadata": {}
    },
    {
      "cell_type": "markdown",
      "source": [
        "## Causal Theories"
      ],
      "metadata": {}
    },
    {
      "cell_type": "markdown",
      "source": [
        "Now that we are more familiar with how Python works, we can use it to calculate values, visualize data, and much more. In the next sextion, we will run a Python cell to visualize the relationship between unauthorized immigrant population and Clinton's vote share in 2016. \n",
        "\n",
        "The code creates a \"scatterplot\" where each point represents a state. The x axis is the state's unautorized immigrant population share, and the y axis is Clinton's vote share. So, dots farther to the right are states with more unauthorized immigrants, and states higher up have a higher Clinton vote share.\n",
        "\nWe don't expect you to know how to write it yourself yet, so just run the cell without modifying the code."
      ],
      "metadata": {}
    },
    {
      "cell_type": "code",
      "source": [
        "#Run this cell without editing it!\n",
        "import seaborn as sns\n",
        "import matplotlib.pyplot as plt\n",
        "import numpy as np\n",
        "import pandas as pd\n",
        "from ipywidgets import interact, IntSlider\n",
        "shares_df = pd.read_csv('trump_immigrants.csv')\n",
        "sns.lmplot('Unauthorized Immigrant Population Share', 'Clinton Vote Share', data=shares_df, ci=None, height=10)\n"
      ],
      "outputs": [],
      "execution_count": null,
      "metadata": {}
    },
    {
      "cell_type": "markdown",
      "source": [
        "What does this graph suggest about the relationship between the proportion of unauthorized immigrants in a state population and Clinton's electoral outcomes in that state? (Hint: What is the typical Clinton vote share for states with less than, say, 3%, compared to states with a higher unauthorized immigrant level?)\n",
        "\n<font color=\"blue\"> <b>In the cell below, write a sentence or two describing what you see (1 pt). </font> </b>"
      ],
      "metadata": {}
    },
    {
      "cell_type": "markdown",
      "source": [
        "YOUR DSECRIPTION HERE"
      ],
      "metadata": {}
    },
    {
      "cell_type": "markdown",
      "source": [
        "Why might a higher unauthorized immigrant population cause an increase Clinton's vote share? Your theory should incorporate motivations for the relevant people (voters and immigrants), and how those motivations lead them to behave in a way that would generate the pattern we see in the data. Make sure to identify your independent and dependent variable. \n",
        "\n<font color=\"blue\"> <b> Write your theory (just one!) in the cell below (2 pts). </font> </b>"
      ],
      "metadata": {}
    },
    {
      "cell_type": "markdown",
      "source": [
        "YOUR THEORY HERE"
      ],
      "metadata": {}
    },
    {
      "cell_type": "markdown",
      "source": [
        "Why might a higher share of Clinton voters cause an increase in the share of unauthorized immigrants in that region? Like before, explain the motivations for the relevant groups and identify your independent and dependent variables.  \n",
        "\n<font color=\"blue\"> <b> Write your theory (just one!) in the cell below (2 pts). </font> </b>"
      ],
      "metadata": {}
    },
    {
      "cell_type": "markdown",
      "source": [
        "A DIFFERENT THEORY HERE"
      ],
      "metadata": {}
    },
    {
      "cell_type": "markdown",
      "source": [
        "What test can you run to differentiate between your two theories? In other words, what data could you collect that would provide more evidence for one theory over the other. The easiest way to do this is to predict an outcome implied by one theory but not for the other.   \n",
        "\n<font color=\"blue\"> <b> Write your test in the cell below (2 pts). </font> </b>"
      ],
      "metadata": {}
    },
    {
      "cell_type": "markdown",
      "source": [
        "IDEA HERE"
      ],
      "metadata": {}
    },
    {
      "cell_type": "markdown",
      "source": [
        "## Explaining Current Events with Formal Theory\n",
        "Formal theory gives us a framework to understand political events and outcomes. By clearly describing the goals and beliefs of the relevant actors, we can create predictions for their behavior. In the cell below, describe a political event with which you are familiar (you can see Kellstedt and Whitten 2.4.1 for examples, but *don't use them*).  \n",
        "\n<font color=\"blue\"> <b> Write about your event in the cell below (1 pt). </font> </b>"
      ],
      "metadata": {}
    },
    {
      "cell_type": "markdown",
      "source": [
        "EVENT DESCRIPTION HERE"
      ],
      "metadata": {}
    },
    {
      "cell_type": "markdown",
      "source": [
        "Why did that event occur as described? In other words, what beliefs and goals from the relevant decion makers would explain their behavior?  \n",
        "\n<font color=\"blue\"> <b> Explain the motivations in the cell below (2 pts). </font> </b>"
      ],
      "metadata": {}
    },
    {
      "cell_type": "markdown",
      "source": [
        "EXPLANATION HERE"
      ],
      "metadata": {}
    },
    {
      "cell_type": "markdown",
      "source": [
        "What general causual theory can explain this event? A general causual theory won't include the specific names/dates for the event because it should generalize to other events with similar setups.\n",
        "\n<font color=\"blue\"> <b> Write your causal theory in the cell below (2 pts). </font> </b>"
      ],
      "metadata": {}
    },
    {
      "cell_type": "markdown",
      "source": [
        "GENERAL CAUSAL EXPLANATION HERE"
      ],
      "metadata": {}
    },
    {
      "cell_type": "markdown",
      "source": [
        "## Schelling's Model\n",
        "This is an example of how formalizing our understanding of people's beliefs/goals can help explain outcomes. Schelling's model highlights how even minimal preference for in-group proximity can lead to severe segregation between groups. In this section of the problem set, we'll explore a formal model for group proximity preferences and the conclusions we can draw.\n",
        "\n"
      ],
      "metadata": {}
    },
    {
      "cell_type": "markdown",
      "source": [
        "The version of Schelling's model we'll use in this problem set -- which is a bit different than the one from the lectures! -- follows the following process:  \n",
        "1) Write a list of houses, denoting a house with a member of Group A or B as an A or B house, and an empty house with an \"_\". For example, a neighborhood with 2 A houses next to one another, 2 B houses next to one another, and an empty house in between them would be AA_BB\n",
        "\n",
        "2) Moving left to right, houses take turns. On a household's turn, they can either (i) stay in place or (ii) move to an empty house.   \n",
        "\n",
        "3) Repeat until no household wishes to move to an empty house.\n",
        "\n",
        "We will allow for households to prefer to be (i) closer to other houses with members of their group and (ii) further from houses with members of the other group. This question will explore the implications of different combinations of these motivations.\n",
        "\nJust to see how these similations will look, run the following cell to see what happens in a neighborhood where group clusters are next to each other. (We will explain more details about the preferences below.) In the visuals displayed, red dots indicate households of group A, green indicate group B households, and blue dots represent empty houses. The variable <code>basic_neighborhood</code> is set to a string representing the neighborhood."
      ],
      "metadata": {}
    },
    {
      "cell_type": "code",
      "source": [
        "from Map import Map\n",
        "basic_neighborhood = 'AABB_'\n",
        "Map.from_string(basic_neighborhood).schelling()"
      ],
      "outputs": [],
      "execution_count": null,
      "metadata": {}
    },
    {
      "cell_type": "markdown",
      "source": [
        "As we can see, a member of group B swapped with the empty house, at which point no household wanted to switch places.   \n",
        "\n",
        "In the example above, which uses the default priorities, households cared equally about wanting to be close to members of their group as much as they want to avoid members of the outgroup. \n",
        "\n",
        "To isolate which aspect of these preferences matters more, in the next examples, we will vary the <b>weights</b> that households place on in-group and out-group distance. \n",
        "\nWe will explore the different implications of these weights by starting with the same integrated community: every household is adjacent by only members of the other group:"
      ],
      "metadata": {}
    },
    {
      "cell_type": "code",
      "source": [
        "integrated_neighborhood = 'ABABAB___'"
      ],
      "outputs": [],
      "execution_count": null,
      "metadata": {}
    },
    {
      "cell_type": "markdown",
      "source": [
        "With our baseline community arrangement, we can now let people move in according to Schelling's model. We can start by looking at what happens when households don't care about in-group proximity, only out-group distance. \n",
        "\n",
        "In particular, this means that they will move if they can find an open house where they will have fewer outgroup neighbors, and if so they will move to a house which minimizes the number of outgroup neighbors. \n",
        "\nIn the cell below, we do this by setting the variables which the model uses to represent these preferences, <code>ingroup_weight, outgroup_weight </code> to 0 and 1 accordingly."
      ],
      "metadata": {}
    },
    {
      "cell_type": "code",
      "source": [
        "ingroup_weight = 0\n",
        "outgroup_weight = 1"
      ],
      "outputs": [],
      "execution_count": null,
      "metadata": {}
    },
    {
      "cell_type": "markdown",
      "source": [
        "Now we can run the model!"
      ],
      "metadata": {}
    },
    {
      "cell_type": "code",
      "source": [
        "neighborhood = Map.from_string(integrated_neighborhood)\n",
        "neighborhood.schelling(ingroup_weight, outgroup_weight)"
      ],
      "outputs": [],
      "execution_count": null,
      "metadata": {
        "scrolled": true
      }
    },
    {
      "cell_type": "markdown",
      "source": [
        "How does only prioritizing avoiding the outgroup affect the eventual housing arrangement?  \n",
        "<font color=\"blue\"> <b> In the cell below, describe how segregated the population is at the end, and why the final arrangement is stable. (2 pts) </b></font>"
      ],
      "metadata": {}
    },
    {
      "cell_type": "markdown",
      "source": [
        "EXPLANATION HERE"
      ],
      "metadata": {}
    },
    {
      "cell_type": "markdown",
      "source": [
        "What happens when we *only* care about in-group proximity. This means that they will move if they can find a house where they will have more in-group neighbors, and will move to the house which gives them the most in-group neighbors."
      ],
      "metadata": {}
    },
    {
      "cell_type": "code",
      "source": [
        "ingroup_weight = 1 \n",
        "outgroup_weight = 0\n",
        "neighborhood = Map.from_string(integrated_neighborhood)\n",
        "neighborhood.schelling(ingroup_weight, outgroup_weight)"
      ],
      "outputs": [],
      "execution_count": null,
      "metadata": {
        "scrolled": true
      }
    },
    {
      "cell_type": "markdown",
      "source": [
        "How does this differ from the out-group avoidance result?  \n",
        "<font color=\"blue\"> <b> In the cell below,  describe the housing arrangement and explain why we would expect this as a result of the priorities. Make sure to compare it to the previous preference structure (2 pts). </b></font>"
      ],
      "metadata": {}
    },
    {
      "cell_type": "markdown",
      "source": [
        "NEW EXPLANATION HERE"
      ],
      "metadata": {}
    },
    {
      "cell_type": "markdown",
      "source": [
        "What if we care about proximity to the in-group *and* the out-group? The following cell sets both weights to 1, so households place equal weight on their closeness to other members of their group and their distance away from members of the other group. (It's not important for our purposes, but the way this is done formally is by computing a \"utility\" associated with each potential house, with higher utility given to houses with more in-group neighbors and fewer out-group neighbors.)"
      ],
      "metadata": {}
    },
    {
      "cell_type": "code",
      "source": [
        "ingroup_weight = 1 \n",
        "outgroup_weight = 1\n",
        "neighborhood = Map.from_string(integrated_neighborhood)\n",
        "neighborhood.schelling(ingroup_weight, outgroup_weight)"
      ],
      "outputs": [],
      "execution_count": null,
      "metadata": {
        "scrolled": true
      }
    },
    {
      "cell_type": "markdown",
      "source": [
        "How does this result differ from when we cared about only one kind of group proximity? Does it more closely match one of singular preference outcomes?   \n",
        "<font color=\"blue\"> <b> In the cell below, compare the outcome when the agents care about both avoiding the other group and trying to live near the ingroup to the cases where they only cared about one or the other (1 pt). </b></font>"
      ],
      "metadata": {}
    },
    {
      "cell_type": "markdown",
      "source": [
        "EXPLANATION HERE"
      ],
      "metadata": {}
    },
    {
      "cell_type": "markdown",
      "source": [
        "As a final exercise, choose your own values for the initial community structure and group proximity preferences.  \n",
        "<font color=\"blue\"> <b> In the cell below, set the variable <code>your_neighborhood</code> to a string representing a community of your own design and set the group proximity preference variables <code>ingroup_weight, outgroup_weight</code> (1 pt). </b></font>"
      ],
      "metadata": {}
    },
    {
      "cell_type": "code",
      "source": [
        "your_neighborhood = ...\n",
        "ingroup_weight = ...\n",
        "outgroup_weight = ...\n",
        "\n",
        "neighborhood = Map.from_string(your_neighborhood)\n",
        "neighborhood.schelling(ingroup_weight, outgroup_weight)"
      ],
      "outputs": [],
      "execution_count": null,
      "metadata": {}
    },
    {
      "cell_type": "markdown",
      "source": [
        "<font color=\"blue\"> <b> Why did you choose the combination of initial conditions and weights that you did? What do you think we can learn about housing dynamics from this version of the model (1 pt)? </b>"
      ],
      "metadata": {}
    },
    {
      "cell_type": "markdown",
      "source": [
        "SUMMARY HERE"
      ],
      "metadata": {}
    },
    {
      "cell_type": "markdown",
      "source": [
        "## Making Rational Choices\n",
        "By giving outcome preferences specific numeric values, we can predict how people will behave. In lecture, we discussed whether voting was a rational choice, whether the benefits associated outweighed the costs. Let's practice that concept with the following hypothetical:  \n",
        "\nCongress is considering an assault weapons ban. The NRA estimates this will cost them 10 million in revenue nationwide. To block this legislation, they are considering lobbying members of Congress in swing districts. Of course, these lobbying efforts are costly (at most $10 million), and it *is* possible that the ban won't pass anyway. Suppose that without lobbying, the likelihood that Congress passes the legislation is 50/50. Meanwhile, with lobbying, the likelihood of the legislation passing drops to 20%. What is the NRA's expected utility (as defined by their revenue) if they do not lobby members of Congress? In the coding cell below, set the variable `no_lobbying` equal to their expected utility from not lobbying."
      ],
      "metadata": {}
    },
    {
      "cell_type": "code",
      "source": [
        "no_lobbying = .5*-10000000 + .5*0\n",
        "no_lobbying"
      ],
      "outputs": [],
      "execution_count": null,
      "metadata": {}
    },
    {
      "cell_type": "markdown",
      "source": [
        "If lobbying costs some *c* dollars, what is the expected utility from lobbying? In the following cell, set lobbying equal to the expected utility from lobbying given the defined variable c (representing lobbying costs). Here is the resulting expected utility when we set the cost of lobbying to 2 million dollars."
      ],
      "metadata": {}
    },
    {
      "cell_type": "code",
      "source": [
        "c = -2000000\n",
        "lobbying = .8*c +.2*(c -10000000)\n",
        "lobbying"
      ],
      "outputs": [],
      "execution_count": null,
      "metadata": {}
    },
    {
      "cell_type": "markdown",
      "source": [
        "<font color=\"blue\"> <b> Comparing our computed expected utilities no_lobbying and lobbying, if the NRA maximizes their expected utility as defined here, and lobbying costs 2 million dollars, what would they chooose to do and why? (1 pt) </font> </b>"
      ],
      "metadata": {}
    },
    {
      "cell_type": "markdown",
      "source": [
        "YOUR ANSWER"
      ],
      "metadata": {}
    },
    {
      "cell_type": "markdown",
      "source": [
        "<font color=\"blue\"> <b> Modify the code below to compute the expected utility if we change the cost of lobbying to 4 million dollars (2 pts).</font> </b>"
      ],
      "metadata": {}
    },
    {
      "cell_type": "code",
      "source": [
        "# Edit the code below\n",
        "c = ...\n",
        "lobbying = .8*c +.2*(c -10000000)\n",
        "lobbying"
      ],
      "outputs": [],
      "execution_count": null,
      "metadata": {}
    },
    {
      "cell_type": "markdown",
      "source": [
        "<font color=\"blue\"> <b>If the NRA maximizes their expected utility as defined here, and lobbying costs 4 million dollars, what would they chooose to do and why? (1 pt) </font> </b>"
      ],
      "metadata": {}
    },
    {
      "cell_type": "markdown",
      "source": [
        "YOUR ANSWER"
      ],
      "metadata": {}
    },
    {
      "cell_type": "markdown",
      "source": [
        "When is it preferable to lobby members of Congress? The cell below produces a graph showing the relationship between lobbying cost and expected utility. Note that our x axis ranges from -10 million (the maximum possible to spend) and 0. The slider represents the percent chance the legislation does not passes with lobbying efforts."
      ],
      "metadata": {}
    },
    {
      "cell_type": "code",
      "source": [
        "#Don't worry about this code, just run the cell!\n",
        "from ipywidgets import interact, IntSlider\n",
        "def prob_util(p):\n",
        "    plt.hlines(no_lobbying, -10000000,0, label='No Lobbying Utility')\n",
        "    c = np.arange(-10000000, step=-100000)\n",
        "    y = .01*p*c+(1-p*.01)*(c-10000000)\n",
        "    plt.ticklabel_format(style='plain')\n",
        "    plt.xticks(rotation=45)\n",
        "    plt.plot(c,y, label='Lobbying Expected Utility')\n",
        "    plt.vlines(no_lobbying+1e7-1e5*p, -2e7, 0, linestyles=\"dashed\")\n",
        "    plt.xlabel('Lobbying Cost')\n",
        "    plt.ylabel('Expected Utility')\n",
        "    plt.legend()\n",
        "interact(prob_util, p=IntSlider(min=0,max=100, value=80))"
      ],
      "outputs": [],
      "execution_count": null,
      "metadata": {
        "scrolled": false
      }
    },
    {
      "cell_type": "markdown",
      "source": [
        "Using the graph above, what is the maximum cost of lobbying where the NRA finds it worthwhile (vs not lobbying and accepting the 50/50 chance of the bill passing)?  An approximate answer is ok.  \n",
        "<font color=\"blue\"> <b> Write the maximum lobbying spend in the cell below (1 pt).</b></font>"
      ],
      "metadata": {}
    },
    {
      "cell_type": "markdown",
      "source": [
        "MAX LOBBING COST"
      ],
      "metadata": {}
    },
    {
      "cell_type": "markdown",
      "source": [
        "Try changing the value on the slider, which changes the probability that lobbying is successful. How does the maximum the NRA will lobby change as the successfulness of their lobbying effort changes?   \n",
        "<font color=\"blue\"> <b> In the cell below, describe the relationship between lobbying effectiveness and NRA spending rates (1 pt). </b></font>"
      ],
      "metadata": {}
    },
    {
      "cell_type": "markdown",
      "source": [
        "RELATIONSHIP HERE"
      ],
      "metadata": {}
    },
    {
      "cell_type": "markdown",
      "source": [
        "What can we takeaway about how we should expect interest groups to lobby? Given these conclusions, what kinds of groups should we expect to lobby the most?  \n",
        "<font color=\"blue\"> <b> In the cell below, summarize the spending dynamics we've explore in the previous cells. What limitations are built into this model, and how might we address them (3 pts)?  </b></font>"
      ],
      "metadata": {}
    },
    {
      "cell_type": "markdown",
      "source": [
        "5-6 SENTENCE SUMMARY HERE"
      ],
      "metadata": {}
    },
    {
      "cell_type": "markdown",
      "source": [
        "## The End\n",
        "Great job, you're done with this homework! To submit, you'll want to download this notebook as a .ipynb, and submit that file on Gradescope."
      ],
      "metadata": {}
    },
    {
      "cell_type": "markdown",
      "source": [
        "Authors: William McEachen  \n",
        "Sources: [Unauthorized Immigrant Population Share](https://www.pewresearch.org/hispanic/interactives/u-s-unauthorized-immigrants-by-state/), [Trump Vote Share](https://www.google.com/url?sa=t&rct=j&q=&esrc=s&source=web&cd=&ved=2ahUKEwi9zIqkoYzrAhUFHjQIHQJsB4YQFjACegQIAhAB&url=https%3A%2F%2Fwww.fec.gov%2Fdocuments%2F1890%2Ffederalelections2016.xlsx&usg=AOvVaw3_Mlin_TgkqcSkU35yAw4L), [Schelling Modeling](https://python.quantecon.org/schelling.html)\n",
        "\n\n"
      ],
      "metadata": {}
    }
  ],
  "metadata": {
    "kernelspec": {
      "name": "python3",
      "language": "python",
      "display_name": "Python 3"
    },
    "language_info": {
      "name": "python",
      "version": "3.6.3",
      "mimetype": "text/x-python",
      "codemirror_mode": {
        "name": "ipython",
        "version": 3
      },
      "pygments_lexer": "ipython3",
      "nbconvert_exporter": "python",
      "file_extension": ".py"
    },
    "kernel_info": {
      "name": "python3"
    },
    "nteract": {
      "version": "0.12.3"
    }
  },
  "nbformat": 4,
  "nbformat_minor": 2
}